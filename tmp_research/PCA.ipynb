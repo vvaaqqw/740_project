{
 "cells": [
  {
   "cell_type": "code",
   "execution_count": 1,
   "metadata": {},
   "outputs": [],
   "source": [
    "import pandas as pd\n",
    "import numpy as np\n",
    "import matplotlib.pyplot as plt\n",
    "from sklearn.decomposition import PCA\n",
    "from sklearn.preprocessing import Normalizer, StandardScaler, MinMaxScaler, RobustScaler\n",
    "from sklearn.pipeline import Pipeline\n",
    "from sklearn.model_selection import train_test_split\n",
    "from sklearn.metrics import mean_absolute_error, r2_score, mean_squared_error\n",
    "%matplotlib inline"
   ]
  },
  {
   "cell_type": "code",
   "execution_count": 2,
   "metadata": {},
   "outputs": [],
   "source": [
    "data=pd.read_csv('BTC_Data_736_features_raw.csv',sep=',')"
   ]
  },
  {
   "cell_type": "code",
   "execution_count": 3,
   "metadata": {},
   "outputs": [],
   "source": [
    "data.interpolate(axis=0,inplace=True)"
   ]
  },
  {
   "cell_type": "code",
   "execution_count": 4,
   "metadata": {},
   "outputs": [],
   "source": [
    "interval3=(data['Date'] >= '2013/04/01') & (data['Date'] <= '2019/12/31')"
   ]
  },
  {
   "cell_type": "code",
   "execution_count": 5,
   "metadata": {},
   "outputs": [],
   "source": [
    "df=data.loc[interval3]"
   ]
  },
  {
   "cell_type": "code",
   "execution_count": 6,
   "metadata": {},
   "outputs": [
    {
     "data": {
      "text/html": [
       "<div>\n",
       "<style scoped>\n",
       "    .dataframe tbody tr th:only-of-type {\n",
       "        vertical-align: middle;\n",
       "    }\n",
       "\n",
       "    .dataframe tbody tr th {\n",
       "        vertical-align: top;\n",
       "    }\n",
       "\n",
       "    .dataframe thead th {\n",
       "        text-align: right;\n",
       "    }\n",
       "</style>\n",
       "<table border=\"1\" class=\"dataframe\">\n",
       "  <thead>\n",
       "    <tr style=\"text-align: right;\">\n",
       "      <th></th>\n",
       "      <th>Date</th>\n",
       "      <th>priceUSD</th>\n",
       "      <th>transactions</th>\n",
       "      <th>size</th>\n",
       "      <th>sentbyaddress</th>\n",
       "      <th>difficulty</th>\n",
       "      <th>hashrate</th>\n",
       "      <th>mining_profitability</th>\n",
       "      <th>sentinusdUSD</th>\n",
       "      <th>transactionfeesUSD</th>\n",
       "      <th>...</th>\n",
       "      <th>price3rsiUSD</th>\n",
       "      <th>price7rsiUSD</th>\n",
       "      <th>price14rsiUSD</th>\n",
       "      <th>price30rsiUSD</th>\n",
       "      <th>price90rsiUSD</th>\n",
       "      <th>price3rocUSD</th>\n",
       "      <th>price7rocUSD</th>\n",
       "      <th>price14rocUSD</th>\n",
       "      <th>price30rocUSD</th>\n",
       "      <th>price90rocUSD</th>\n",
       "    </tr>\n",
       "  </thead>\n",
       "  <tbody>\n",
       "    <tr>\n",
       "      <th>989</th>\n",
       "      <td>2013/04/01</td>\n",
       "      <td>94.715</td>\n",
       "      <td>52572</td>\n",
       "      <td>139256.0</td>\n",
       "      <td>48809</td>\n",
       "      <td>6695826.0</td>\n",
       "      <td>6.550211e+13</td>\n",
       "      <td>7220.0</td>\n",
       "      <td>136779480.0</td>\n",
       "      <td>0.0777</td>\n",
       "      <td>...</td>\n",
       "      <td>99.456</td>\n",
       "      <td>96.992</td>\n",
       "      <td>95.075</td>\n",
       "      <td>93.774</td>\n",
       "      <td>91.450</td>\n",
       "      <td>9.383</td>\n",
       "      <td>36.980</td>\n",
       "      <td>104.747</td>\n",
       "      <td>185.993</td>\n",
       "      <td>606.456</td>\n",
       "    </tr>\n",
       "    <tr>\n",
       "      <th>990</th>\n",
       "      <td>2013/04/02</td>\n",
       "      <td>107.749</td>\n",
       "      <td>63095</td>\n",
       "      <td>175443.0</td>\n",
       "      <td>62276</td>\n",
       "      <td>6695826.0</td>\n",
       "      <td>6.184560e+13</td>\n",
       "      <td>7990.0</td>\n",
       "      <td>278422775.0</td>\n",
       "      <td>0.1050</td>\n",
       "      <td>...</td>\n",
       "      <td>99.811</td>\n",
       "      <td>98.201</td>\n",
       "      <td>96.416</td>\n",
       "      <td>94.987</td>\n",
       "      <td>92.645</td>\n",
       "      <td>23.206</td>\n",
       "      <td>50.270</td>\n",
       "      <td>109.704</td>\n",
       "      <td>231.964</td>\n",
       "      <td>716.218</td>\n",
       "    </tr>\n",
       "    <tr>\n",
       "      <th>991</th>\n",
       "      <td>2013/04/03</td>\n",
       "      <td>120.003</td>\n",
       "      <td>63766</td>\n",
       "      <td>184209.0</td>\n",
       "      <td>69174</td>\n",
       "      <td>6695826.0</td>\n",
       "      <td>6.027037e+13</td>\n",
       "      <td>8852.0</td>\n",
       "      <td>284039909.0</td>\n",
       "      <td>0.1330</td>\n",
       "      <td>...</td>\n",
       "      <td>99.902</td>\n",
       "      <td>98.752</td>\n",
       "      <td>97.190</td>\n",
       "      <td>95.785</td>\n",
       "      <td>93.508</td>\n",
       "      <td>34.759</td>\n",
       "      <td>51.448</td>\n",
       "      <td>107.789</td>\n",
       "      <td>259.795</td>\n",
       "      <td>808.284</td>\n",
       "    </tr>\n",
       "    <tr>\n",
       "      <th>992</th>\n",
       "      <td>2013/04/04</td>\n",
       "      <td>123.562</td>\n",
       "      <td>66738</td>\n",
       "      <td>221568.0</td>\n",
       "      <td>71753</td>\n",
       "      <td>6695826.0</td>\n",
       "      <td>5.527246e+13</td>\n",
       "      <td>8777.0</td>\n",
       "      <td>282809750.0</td>\n",
       "      <td>0.1410</td>\n",
       "      <td>...</td>\n",
       "      <td>99.919</td>\n",
       "      <td>98.869</td>\n",
       "      <td>97.368</td>\n",
       "      <td>95.977</td>\n",
       "      <td>93.724</td>\n",
       "      <td>30.456</td>\n",
       "      <td>44.093</td>\n",
       "      <td>93.098</td>\n",
       "      <td>237.355</td>\n",
       "      <td>834.762</td>\n",
       "    </tr>\n",
       "    <tr>\n",
       "      <th>993</th>\n",
       "      <td>2013/04/05</td>\n",
       "      <td>128.664</td>\n",
       "      <td>61215</td>\n",
       "      <td>190067.0</td>\n",
       "      <td>69310</td>\n",
       "      <td>7005058.0</td>\n",
       "      <td>5.181545e+13</td>\n",
       "      <td>9950.0</td>\n",
       "      <td>264855827.0</td>\n",
       "      <td>0.1200</td>\n",
       "      <td>...</td>\n",
       "      <td>99.941</td>\n",
       "      <td>99.022</td>\n",
       "      <td>97.602</td>\n",
       "      <td>96.233</td>\n",
       "      <td>94.013</td>\n",
       "      <td>19.411</td>\n",
       "      <td>48.589</td>\n",
       "      <td>95.718</td>\n",
       "      <td>229.992</td>\n",
       "      <td>876.762</td>\n",
       "    </tr>\n",
       "  </tbody>\n",
       "</table>\n",
       "<p>5 rows × 737 columns</p>\n",
       "</div>"
      ],
      "text/plain": [
       "           Date  priceUSD  transactions      size  sentbyaddress  difficulty  \\\n",
       "989  2013/04/01    94.715         52572  139256.0          48809   6695826.0   \n",
       "990  2013/04/02   107.749         63095  175443.0          62276   6695826.0   \n",
       "991  2013/04/03   120.003         63766  184209.0          69174   6695826.0   \n",
       "992  2013/04/04   123.562         66738  221568.0          71753   6695826.0   \n",
       "993  2013/04/05   128.664         61215  190067.0          69310   7005058.0   \n",
       "\n",
       "         hashrate  mining_profitability  sentinusdUSD  transactionfeesUSD  \\\n",
       "989  6.550211e+13                7220.0   136779480.0              0.0777   \n",
       "990  6.184560e+13                7990.0   278422775.0              0.1050   \n",
       "991  6.027037e+13                8852.0   284039909.0              0.1330   \n",
       "992  5.527246e+13                8777.0   282809750.0              0.1410   \n",
       "993  5.181545e+13                9950.0   264855827.0              0.1200   \n",
       "\n",
       "     ...  price3rsiUSD  price7rsiUSD  price14rsiUSD  price30rsiUSD  \\\n",
       "989  ...        99.456        96.992         95.075         93.774   \n",
       "990  ...        99.811        98.201         96.416         94.987   \n",
       "991  ...        99.902        98.752         97.190         95.785   \n",
       "992  ...        99.919        98.869         97.368         95.977   \n",
       "993  ...        99.941        99.022         97.602         96.233   \n",
       "\n",
       "     price90rsiUSD  price3rocUSD  price7rocUSD  price14rocUSD  price30rocUSD  \\\n",
       "989         91.450         9.383        36.980        104.747        185.993   \n",
       "990         92.645        23.206        50.270        109.704        231.964   \n",
       "991         93.508        34.759        51.448        107.789        259.795   \n",
       "992         93.724        30.456        44.093         93.098        237.355   \n",
       "993         94.013        19.411        48.589         95.718        229.992   \n",
       "\n",
       "     price90rocUSD  \n",
       "989        606.456  \n",
       "990        716.218  \n",
       "991        808.284  \n",
       "992        834.762  \n",
       "993        876.762  \n",
       "\n",
       "[5 rows x 737 columns]"
      ]
     },
     "execution_count": 6,
     "metadata": {},
     "output_type": "execute_result"
    }
   ],
   "source": [
    "df.head()"
   ]
  },
  {
   "cell_type": "code",
   "execution_count": 7,
   "metadata": {},
   "outputs": [],
   "source": [
    "X=df.iloc[:,2:]"
   ]
  },
  {
   "cell_type": "code",
   "execution_count": 8,
   "metadata": {},
   "outputs": [
    {
     "data": {
      "text/html": [
       "<div>\n",
       "<style scoped>\n",
       "    .dataframe tbody tr th:only-of-type {\n",
       "        vertical-align: middle;\n",
       "    }\n",
       "\n",
       "    .dataframe tbody tr th {\n",
       "        vertical-align: top;\n",
       "    }\n",
       "\n",
       "    .dataframe thead th {\n",
       "        text-align: right;\n",
       "    }\n",
       "</style>\n",
       "<table border=\"1\" class=\"dataframe\">\n",
       "  <thead>\n",
       "    <tr style=\"text-align: right;\">\n",
       "      <th></th>\n",
       "      <th>transactions</th>\n",
       "      <th>size</th>\n",
       "      <th>sentbyaddress</th>\n",
       "      <th>difficulty</th>\n",
       "      <th>hashrate</th>\n",
       "      <th>mining_profitability</th>\n",
       "      <th>sentinusdUSD</th>\n",
       "      <th>transactionfeesUSD</th>\n",
       "      <th>median_transaction_feeUSD</th>\n",
       "      <th>confirmationtime</th>\n",
       "      <th>...</th>\n",
       "      <th>price3rsiUSD</th>\n",
       "      <th>price7rsiUSD</th>\n",
       "      <th>price14rsiUSD</th>\n",
       "      <th>price30rsiUSD</th>\n",
       "      <th>price90rsiUSD</th>\n",
       "      <th>price3rocUSD</th>\n",
       "      <th>price7rocUSD</th>\n",
       "      <th>price14rocUSD</th>\n",
       "      <th>price30rocUSD</th>\n",
       "      <th>price90rocUSD</th>\n",
       "    </tr>\n",
       "  </thead>\n",
       "  <tbody>\n",
       "    <tr>\n",
       "      <th>989</th>\n",
       "      <td>52572</td>\n",
       "      <td>139256.0</td>\n",
       "      <td>48809</td>\n",
       "      <td>6695826.0</td>\n",
       "      <td>6.550211e+13</td>\n",
       "      <td>7220.0</td>\n",
       "      <td>136779480.0</td>\n",
       "      <td>0.0777</td>\n",
       "      <td>0.0474</td>\n",
       "      <td>7.273</td>\n",
       "      <td>...</td>\n",
       "      <td>99.456</td>\n",
       "      <td>96.992</td>\n",
       "      <td>95.075</td>\n",
       "      <td>93.774</td>\n",
       "      <td>91.450</td>\n",
       "      <td>9.383</td>\n",
       "      <td>36.980</td>\n",
       "      <td>104.747</td>\n",
       "      <td>185.993</td>\n",
       "      <td>606.456</td>\n",
       "    </tr>\n",
       "    <tr>\n",
       "      <th>990</th>\n",
       "      <td>63095</td>\n",
       "      <td>175443.0</td>\n",
       "      <td>62276</td>\n",
       "      <td>6695826.0</td>\n",
       "      <td>6.184560e+13</td>\n",
       "      <td>7990.0</td>\n",
       "      <td>278422775.0</td>\n",
       "      <td>0.1050</td>\n",
       "      <td>0.0539</td>\n",
       "      <td>7.956</td>\n",
       "      <td>...</td>\n",
       "      <td>99.811</td>\n",
       "      <td>98.201</td>\n",
       "      <td>96.416</td>\n",
       "      <td>94.987</td>\n",
       "      <td>92.645</td>\n",
       "      <td>23.206</td>\n",
       "      <td>50.270</td>\n",
       "      <td>109.704</td>\n",
       "      <td>231.964</td>\n",
       "      <td>716.218</td>\n",
       "    </tr>\n",
       "    <tr>\n",
       "      <th>991</th>\n",
       "      <td>63766</td>\n",
       "      <td>184209.0</td>\n",
       "      <td>69174</td>\n",
       "      <td>6695826.0</td>\n",
       "      <td>6.027037e+13</td>\n",
       "      <td>8852.0</td>\n",
       "      <td>284039909.0</td>\n",
       "      <td>0.1330</td>\n",
       "      <td>0.0600</td>\n",
       "      <td>8.229</td>\n",
       "      <td>...</td>\n",
       "      <td>99.902</td>\n",
       "      <td>98.752</td>\n",
       "      <td>97.190</td>\n",
       "      <td>95.785</td>\n",
       "      <td>93.508</td>\n",
       "      <td>34.759</td>\n",
       "      <td>51.448</td>\n",
       "      <td>107.789</td>\n",
       "      <td>259.795</td>\n",
       "      <td>808.284</td>\n",
       "    </tr>\n",
       "    <tr>\n",
       "      <th>992</th>\n",
       "      <td>66738</td>\n",
       "      <td>221568.0</td>\n",
       "      <td>71753</td>\n",
       "      <td>6695826.0</td>\n",
       "      <td>5.527246e+13</td>\n",
       "      <td>8777.0</td>\n",
       "      <td>282809750.0</td>\n",
       "      <td>0.1410</td>\n",
       "      <td>0.0618</td>\n",
       "      <td>9.351</td>\n",
       "      <td>...</td>\n",
       "      <td>99.919</td>\n",
       "      <td>98.869</td>\n",
       "      <td>97.368</td>\n",
       "      <td>95.977</td>\n",
       "      <td>93.724</td>\n",
       "      <td>30.456</td>\n",
       "      <td>44.093</td>\n",
       "      <td>93.098</td>\n",
       "      <td>237.355</td>\n",
       "      <td>834.762</td>\n",
       "    </tr>\n",
       "    <tr>\n",
       "      <th>993</th>\n",
       "      <td>61215</td>\n",
       "      <td>190067.0</td>\n",
       "      <td>69310</td>\n",
       "      <td>7005058.0</td>\n",
       "      <td>5.181545e+13</td>\n",
       "      <td>9950.0</td>\n",
       "      <td>264855827.0</td>\n",
       "      <td>0.1200</td>\n",
       "      <td>0.0643</td>\n",
       "      <td>9.114</td>\n",
       "      <td>...</td>\n",
       "      <td>99.941</td>\n",
       "      <td>99.022</td>\n",
       "      <td>97.602</td>\n",
       "      <td>96.233</td>\n",
       "      <td>94.013</td>\n",
       "      <td>19.411</td>\n",
       "      <td>48.589</td>\n",
       "      <td>95.718</td>\n",
       "      <td>229.992</td>\n",
       "      <td>876.762</td>\n",
       "    </tr>\n",
       "  </tbody>\n",
       "</table>\n",
       "<p>5 rows × 735 columns</p>\n",
       "</div>"
      ],
      "text/plain": [
       "     transactions      size  sentbyaddress  difficulty      hashrate  \\\n",
       "989         52572  139256.0          48809   6695826.0  6.550211e+13   \n",
       "990         63095  175443.0          62276   6695826.0  6.184560e+13   \n",
       "991         63766  184209.0          69174   6695826.0  6.027037e+13   \n",
       "992         66738  221568.0          71753   6695826.0  5.527246e+13   \n",
       "993         61215  190067.0          69310   7005058.0  5.181545e+13   \n",
       "\n",
       "     mining_profitability  sentinusdUSD  transactionfeesUSD  \\\n",
       "989                7220.0   136779480.0              0.0777   \n",
       "990                7990.0   278422775.0              0.1050   \n",
       "991                8852.0   284039909.0              0.1330   \n",
       "992                8777.0   282809750.0              0.1410   \n",
       "993                9950.0   264855827.0              0.1200   \n",
       "\n",
       "     median_transaction_feeUSD  confirmationtime  ...  price3rsiUSD  \\\n",
       "989                     0.0474             7.273  ...        99.456   \n",
       "990                     0.0539             7.956  ...        99.811   \n",
       "991                     0.0600             8.229  ...        99.902   \n",
       "992                     0.0618             9.351  ...        99.919   \n",
       "993                     0.0643             9.114  ...        99.941   \n",
       "\n",
       "     price7rsiUSD  price14rsiUSD  price30rsiUSD  price90rsiUSD  price3rocUSD  \\\n",
       "989        96.992         95.075         93.774         91.450         9.383   \n",
       "990        98.201         96.416         94.987         92.645        23.206   \n",
       "991        98.752         97.190         95.785         93.508        34.759   \n",
       "992        98.869         97.368         95.977         93.724        30.456   \n",
       "993        99.022         97.602         96.233         94.013        19.411   \n",
       "\n",
       "     price7rocUSD  price14rocUSD  price30rocUSD  price90rocUSD  \n",
       "989        36.980        104.747        185.993        606.456  \n",
       "990        50.270        109.704        231.964        716.218  \n",
       "991        51.448        107.789        259.795        808.284  \n",
       "992        44.093         93.098        237.355        834.762  \n",
       "993        48.589         95.718        229.992        876.762  \n",
       "\n",
       "[5 rows x 735 columns]"
      ]
     },
     "execution_count": 8,
     "metadata": {},
     "output_type": "execute_result"
    }
   ],
   "source": [
    "X.head()"
   ]
  },
  {
   "cell_type": "code",
   "execution_count": 9,
   "metadata": {},
   "outputs": [],
   "source": [
    "estimators=[]"
   ]
  },
  {
   "cell_type": "code",
   "execution_count": 10,
   "metadata": {},
   "outputs": [],
   "source": [
    "estimators.append(['minmax',MinMaxScaler(feature_range=(-1,1))])"
   ]
  },
  {
   "cell_type": "code",
   "execution_count": 11,
   "metadata": {},
   "outputs": [],
   "source": [
    "scale=Pipeline(estimators)"
   ]
  },
  {
   "cell_type": "code",
   "execution_count": 12,
   "metadata": {},
   "outputs": [],
   "source": [
    "X=scale.fit_transform(X)"
   ]
  },
  {
   "cell_type": "code",
   "execution_count": 13,
   "metadata": {},
   "outputs": [
    {
     "data": {
      "text/plain": [
       "PCA(copy=True, iterated_power='auto', n_components=6, random_state=7,\n",
       "    svd_solver='auto', tol=0.0, whiten=False)"
      ]
     },
     "execution_count": 13,
     "metadata": {},
     "output_type": "execute_result"
    }
   ],
   "source": [
    "pca = PCA(n_components=6,random_state=7)\n",
    "pca.fit(X)"
   ]
  },
  {
   "cell_type": "code",
   "execution_count": 14,
   "metadata": {},
   "outputs": [
    {
     "data": {
      "text/plain": [
       "array([0.43738885, 0.12402112, 0.09038058, 0.04406626, 0.03002204,\n",
       "       0.02513081])"
      ]
     },
     "execution_count": 14,
     "metadata": {},
     "output_type": "execute_result"
    }
   ],
   "source": [
    "pca.explained_variance_ratio_"
   ]
  },
  {
   "cell_type": "code",
   "execution_count": 15,
   "metadata": {},
   "outputs": [
    {
     "data": {
      "text/plain": [
       "array([0.43738885, 0.56140997, 0.65179055, 0.69585681, 0.72587885,\n",
       "       0.75100966])"
      ]
     },
     "execution_count": 15,
     "metadata": {},
     "output_type": "execute_result"
    }
   ],
   "source": [
    "np.cumsum(pca.explained_variance_ratio_)"
   ]
  },
  {
   "cell_type": "code",
   "execution_count": 16,
   "metadata": {},
   "outputs": [
    {
     "data": {
      "image/png": "[encoded data removed]",
      "text/plain": [
       "<Figure size 432x288 with 1 Axes>"
      ]
     },
     "metadata": {
      "needs_background": "light"
     },
     "output_type": "display_data"
    }
   ],
   "source": [
    "#Plotting the Cumulative Summation of the Explained Variance\n",
    "plt.figure()\n",
    "plt.plot(np.cumsum(pca.explained_variance_ratio_))\n",
    "plt.xlabel('Number of Components')\n",
    "plt.ylabel('Variance (%)') #for each component\n",
    "plt.title('Explained Variance')\n",
    "plt.show()"
   ]
  },
  {
   "cell_type": "code",
   "execution_count": 17,
   "metadata": {
    "scrolled": false
   },
   "outputs": [],
   "source": [
    "df_pca=pd.DataFrame(pca.components_).transpose()"
   ]
  },
  {
   "cell_type": "code",
   "execution_count": 18,
   "metadata": {},
   "outputs": [],
   "source": [
    "df_pca.columns=['comp_1','comp_2','comp_3','comp_4','comp_5','comp_6']"
   ]
  },
  {
   "cell_type": "code",
   "execution_count": 19,
   "metadata": {},
   "outputs": [],
   "source": [
    "y=df.iloc[:,1:2]"
   ]
  },
  {
   "cell_type": "code",
   "execution_count": 20,
   "metadata": {},
   "outputs": [],
   "source": [
    "y.reset_index(drop=True,inplace=True)"
   ]
  },
  {
   "cell_type": "code",
   "execution_count": 21,
   "metadata": {},
   "outputs": [],
   "source": [
    "df_pca['priceUSD']=y"
   ]
  },
  {
   "cell_type": "code",
   "execution_count": 22,
   "metadata": {},
   "outputs": [
    {
     "data": {
      "text/html": [
       "<div>\n",
       "<style scoped>\n",
       "    .dataframe tbody tr th:only-of-type {\n",
       "        vertical-align: middle;\n",
       "    }\n",
       "\n",
       "    .dataframe tbody tr th {\n",
       "        vertical-align: top;\n",
       "    }\n",
       "\n",
       "    .dataframe thead th {\n",
       "        text-align: right;\n",
       "    }\n",
       "</style>\n",
       "<table border=\"1\" class=\"dataframe\">\n",
       "  <thead>\n",
       "    <tr style=\"text-align: right;\">\n",
       "      <th></th>\n",
       "      <th>comp_1</th>\n",
       "      <th>comp_2</th>\n",
       "      <th>comp_3</th>\n",
       "      <th>comp_4</th>\n",
       "      <th>comp_5</th>\n",
       "      <th>comp_6</th>\n",
       "      <th>priceUSD</th>\n",
       "    </tr>\n",
       "  </thead>\n",
       "  <tbody>\n",
       "    <tr>\n",
       "      <th>0</th>\n",
       "      <td>0.074162</td>\n",
       "      <td>0.015329</td>\n",
       "      <td>-0.048046</td>\n",
       "      <td>0.042709</td>\n",
       "      <td>0.007321</td>\n",
       "      <td>-0.014252</td>\n",
       "      <td>94.715</td>\n",
       "    </tr>\n",
       "    <tr>\n",
       "      <th>1</th>\n",
       "      <td>0.094841</td>\n",
       "      <td>0.072671</td>\n",
       "      <td>-0.077840</td>\n",
       "      <td>-0.014523</td>\n",
       "      <td>0.027039</td>\n",
       "      <td>-0.053013</td>\n",
       "      <td>107.749</td>\n",
       "    </tr>\n",
       "    <tr>\n",
       "      <th>2</th>\n",
       "      <td>0.064880</td>\n",
       "      <td>0.028643</td>\n",
       "      <td>-0.038454</td>\n",
       "      <td>0.019065</td>\n",
       "      <td>0.028725</td>\n",
       "      <td>-0.014173</td>\n",
       "      <td>120.003</td>\n",
       "    </tr>\n",
       "    <tr>\n",
       "      <th>3</th>\n",
       "      <td>0.066701</td>\n",
       "      <td>-0.118325</td>\n",
       "      <td>0.009314</td>\n",
       "      <td>0.034983</td>\n",
       "      <td>-0.002191</td>\n",
       "      <td>0.012280</td>\n",
       "      <td>123.562</td>\n",
       "    </tr>\n",
       "    <tr>\n",
       "      <th>4</th>\n",
       "      <td>0.060540</td>\n",
       "      <td>-0.105832</td>\n",
       "      <td>0.011500</td>\n",
       "      <td>0.031725</td>\n",
       "      <td>-0.005375</td>\n",
       "      <td>0.006382</td>\n",
       "      <td>128.664</td>\n",
       "    </tr>\n",
       "  </tbody>\n",
       "</table>\n",
       "</div>"
      ],
      "text/plain": [
       "     comp_1    comp_2    comp_3    comp_4    comp_5    comp_6  priceUSD\n",
       "0  0.074162  0.015329 -0.048046  0.042709  0.007321 -0.014252    94.715\n",
       "1  0.094841  0.072671 -0.077840 -0.014523  0.027039 -0.053013   107.749\n",
       "2  0.064880  0.028643 -0.038454  0.019065  0.028725 -0.014173   120.003\n",
       "3  0.066701 -0.118325  0.009314  0.034983 -0.002191  0.012280   123.562\n",
       "4  0.060540 -0.105832  0.011500  0.031725 -0.005375  0.006382   128.664"
      ]
     },
     "execution_count": 22,
     "metadata": {},
     "output_type": "execute_result"
    }
   ],
   "source": [
    "df_pca.head()"
   ]
  },
  {
   "cell_type": "code",
   "execution_count": 23,
   "metadata": {},
   "outputs": [],
   "source": [
    "df_pca.to_csv('pca_75_reg.csv',index=False)"
   ]
  },
  {
   "cell_type": "markdown",
   "metadata": {},
   "source": [
    "# Classification"
   ]
  },
  {
   "cell_type": "code",
   "execution_count": 13,
   "metadata": {},
   "outputs": [],
   "source": [
    "one=data['priceUSD'].shift(-1,fill_value=1)"
   ]
  },
  {
   "cell_type": "code",
   "execution_count": 14,
   "metadata": {},
   "outputs": [
    {
     "name": "stderr",
     "output_type": "stream",
     "text": [
      "/home/mudassir/btcpaper/lib/python3.6/site-packages/ipykernel_launcher.py:1: SettingWithCopyWarning: \n",
      "A value is trying to be set on a copy of a slice from a DataFrame.\n",
      "Try using .loc[row_indexer,col_indexer] = value instead\n",
      "\n",
      "See the caveats in the documentation: http://pandas.pydata.org/pandas-docs/stable/indexing.html#indexing-view-versus-copy\n",
      "  \"\"\"Entry point for launching an IPython kernel.\n"
     ]
    }
   ],
   "source": [
    "df['one']=one.loc[interval3]"
   ]
  },
  {
   "cell_type": "code",
   "execution_count": 15,
   "metadata": {},
   "outputs": [
    {
     "name": "stderr",
     "output_type": "stream",
     "text": [
      "/home/mudassir/btcpaper/lib/python3.6/site-packages/ipykernel_launcher.py:1: SettingWithCopyWarning: \n",
      "A value is trying to be set on a copy of a slice from a DataFrame.\n",
      "Try using .loc[row_indexer,col_indexer] = value instead\n",
      "\n",
      "See the caveats in the documentation: http://pandas.pydata.org/pandas-docs/stable/indexing.html#indexing-view-versus-copy\n",
      "  \"\"\"Entry point for launching an IPython kernel.\n"
     ]
    }
   ],
   "source": [
    "df['difference']=((df['one']-df['priceUSD'])/df['priceUSD'])*100"
   ]
  },
  {
   "cell_type": "code",
   "execution_count": 16,
   "metadata": {},
   "outputs": [],
   "source": [
    "df.reset_index(drop=True,inplace=True)"
   ]
  },
  {
   "cell_type": "code",
   "execution_count": 17,
   "metadata": {},
   "outputs": [],
   "source": [
    "category=[]\n",
    "for x in range(len(df['difference'])):\n",
    "    if df['difference'][x]>=0:\n",
    "        category.append(1)\n",
    "    else:\n",
    "        category.append(0)"
   ]
  },
  {
   "cell_type": "code",
   "execution_count": 18,
   "metadata": {},
   "outputs": [
    {
     "data": {
      "text/plain": [
       "1332"
      ]
     },
     "execution_count": 18,
     "metadata": {},
     "output_type": "execute_result"
    }
   ],
   "source": [
    "sum(category)"
   ]
  },
  {
   "cell_type": "code",
   "execution_count": 19,
   "metadata": {
    "scrolled": true
   },
   "outputs": [
    {
     "name": "stderr",
     "output_type": "stream",
     "text": [
      "/home/mudassir/btcpaper/lib/python3.6/site-packages/ipykernel_launcher.py:1: SettingWithCopyWarning: \n",
      "A value is trying to be set on a copy of a slice from a DataFrame.\n",
      "Try using .loc[row_indexer,col_indexer] = value instead\n",
      "\n",
      "See the caveats in the documentation: http://pandas.pydata.org/pandas-docs/stable/indexing.html#indexing-view-versus-copy\n",
      "  \"\"\"Entry point for launching an IPython kernel.\n"
     ]
    }
   ],
   "source": [
    "df['category']=pd.DataFrame(category)"
   ]
  },
  {
   "cell_type": "code",
   "execution_count": 20,
   "metadata": {},
   "outputs": [
    {
     "data": {
      "text/html": [
       "<div>\n",
       "<style scoped>\n",
       "    .dataframe tbody tr th:only-of-type {\n",
       "        vertical-align: middle;\n",
       "    }\n",
       "\n",
       "    .dataframe tbody tr th {\n",
       "        vertical-align: top;\n",
       "    }\n",
       "\n",
       "    .dataframe thead th {\n",
       "        text-align: right;\n",
       "    }\n",
       "</style>\n",
       "<table border=\"1\" class=\"dataframe\">\n",
       "  <thead>\n",
       "    <tr style=\"text-align: right;\">\n",
       "      <th></th>\n",
       "      <th>Date</th>\n",
       "      <th>priceUSD</th>\n",
       "      <th>transactions</th>\n",
       "      <th>size</th>\n",
       "      <th>sentbyaddress</th>\n",
       "      <th>difficulty</th>\n",
       "      <th>hashrate</th>\n",
       "      <th>mining_profitability</th>\n",
       "      <th>sentinusdUSD</th>\n",
       "      <th>transactionfeesUSD</th>\n",
       "      <th>...</th>\n",
       "      <th>price30rsiUSD</th>\n",
       "      <th>price90rsiUSD</th>\n",
       "      <th>price3rocUSD</th>\n",
       "      <th>price7rocUSD</th>\n",
       "      <th>price14rocUSD</th>\n",
       "      <th>price30rocUSD</th>\n",
       "      <th>price90rocUSD</th>\n",
       "      <th>one</th>\n",
       "      <th>difference</th>\n",
       "      <th>category</th>\n",
       "    </tr>\n",
       "  </thead>\n",
       "  <tbody>\n",
       "    <tr>\n",
       "      <th>2461</th>\n",
       "      <td>2019/12/27</td>\n",
       "      <td>7263.0</td>\n",
       "      <td>322059</td>\n",
       "      <td>709273.0</td>\n",
       "      <td>415723</td>\n",
       "      <td>1.294859e+13</td>\n",
       "      <td>9.725392e+19</td>\n",
       "      <td>0.137</td>\n",
       "      <td>6.292988e+09</td>\n",
       "      <td>0.386</td>\n",
       "      <td>...</td>\n",
       "      <td>42.961</td>\n",
       "      <td>46.220</td>\n",
       "      <td>-1.348</td>\n",
       "      <td>0.717</td>\n",
       "      <td>0.076</td>\n",
       "      <td>-0.081</td>\n",
       "      <td>-11.109</td>\n",
       "      <td>7361.0</td>\n",
       "      <td>1.349305</td>\n",
       "      <td>1</td>\n",
       "    </tr>\n",
       "    <tr>\n",
       "      <th>2462</th>\n",
       "      <td>2019/12/28</td>\n",
       "      <td>7361.0</td>\n",
       "      <td>298138</td>\n",
       "      <td>625161.0</td>\n",
       "      <td>376120</td>\n",
       "      <td>1.294859e+13</td>\n",
       "      <td>9.517417e+19</td>\n",
       "      <td>0.145</td>\n",
       "      <td>5.033568e+09</td>\n",
       "      <td>0.341</td>\n",
       "      <td>...</td>\n",
       "      <td>44.575</td>\n",
       "      <td>46.608</td>\n",
       "      <td>1.080</td>\n",
       "      <td>2.124</td>\n",
       "      <td>2.180</td>\n",
       "      <td>-2.562</td>\n",
       "      <td>-9.029</td>\n",
       "      <td>7469.0</td>\n",
       "      <td>1.467192</td>\n",
       "      <td>1</td>\n",
       "    </tr>\n",
       "    <tr>\n",
       "      <th>2463</th>\n",
       "      <td>2019/12/29</td>\n",
       "      <td>7469.0</td>\n",
       "      <td>279770</td>\n",
       "      <td>552879.0</td>\n",
       "      <td>344377</td>\n",
       "      <td>1.294859e+13</td>\n",
       "      <td>1.010148e+20</td>\n",
       "      <td>0.144</td>\n",
       "      <td>4.185532e+09</td>\n",
       "      <td>0.337</td>\n",
       "      <td>...</td>\n",
       "      <td>46.295</td>\n",
       "      <td>47.031</td>\n",
       "      <td>2.631</td>\n",
       "      <td>2.658</td>\n",
       "      <td>4.788</td>\n",
       "      <td>-1.656</td>\n",
       "      <td>-7.569</td>\n",
       "      <td>7388.0</td>\n",
       "      <td>-1.084483</td>\n",
       "      <td>0</td>\n",
       "    </tr>\n",
       "    <tr>\n",
       "      <th>2464</th>\n",
       "      <td>2019/12/30</td>\n",
       "      <td>7388.0</td>\n",
       "      <td>324331</td>\n",
       "      <td>661326.0</td>\n",
       "      <td>418908</td>\n",
       "      <td>1.294859e+13</td>\n",
       "      <td>1.018722e+20</td>\n",
       "      <td>0.152</td>\n",
       "      <td>7.289436e+09</td>\n",
       "      <td>0.362</td>\n",
       "      <td>...</td>\n",
       "      <td>45.205</td>\n",
       "      <td>46.750</td>\n",
       "      <td>1.722</td>\n",
       "      <td>-1.875</td>\n",
       "      <td>4.286</td>\n",
       "      <td>-3.716</td>\n",
       "      <td>-11.675</td>\n",
       "      <td>7293.0</td>\n",
       "      <td>-1.285869</td>\n",
       "      <td>0</td>\n",
       "    </tr>\n",
       "    <tr>\n",
       "      <th>2465</th>\n",
       "      <td>2019/12/31</td>\n",
       "      <td>7293.0</td>\n",
       "      <td>293302</td>\n",
       "      <td>687065.0</td>\n",
       "      <td>375764</td>\n",
       "      <td>1.294859e+13</td>\n",
       "      <td>9.877266e+19</td>\n",
       "      <td>0.135</td>\n",
       "      <td>5.272493e+09</td>\n",
       "      <td>0.369</td>\n",
       "      <td>...</td>\n",
       "      <td>43.938</td>\n",
       "      <td>46.417</td>\n",
       "      <td>-0.935</td>\n",
       "      <td>-0.948</td>\n",
       "      <td>6.402</td>\n",
       "      <td>-0.922</td>\n",
       "      <td>-11.770</td>\n",
       "      <td>7238.0</td>\n",
       "      <td>-0.754148</td>\n",
       "      <td>0</td>\n",
       "    </tr>\n",
       "  </tbody>\n",
       "</table>\n",
       "<p>5 rows × 740 columns</p>\n",
       "</div>"
      ],
      "text/plain": [
       "            Date  priceUSD  transactions      size  sentbyaddress  \\\n",
       "2461  2019/12/27    7263.0        322059  709273.0         415723   \n",
       "2462  2019/12/28    7361.0        298138  625161.0         376120   \n",
       "2463  2019/12/29    7469.0        279770  552879.0         344377   \n",
       "2464  2019/12/30    7388.0        324331  661326.0         418908   \n",
       "2465  2019/12/31    7293.0        293302  687065.0         375764   \n",
       "\n",
       "        difficulty      hashrate  mining_profitability  sentinusdUSD  \\\n",
       "2461  1.294859e+13  9.725392e+19                 0.137  6.292988e+09   \n",
       "2462  1.294859e+13  9.517417e+19                 0.145  5.033568e+09   \n",
       "2463  1.294859e+13  1.010148e+20                 0.144  4.185532e+09   \n",
       "2464  1.294859e+13  1.018722e+20                 0.152  7.289436e+09   \n",
       "2465  1.294859e+13  9.877266e+19                 0.135  5.272493e+09   \n",
       "\n",
       "      transactionfeesUSD  ...  price30rsiUSD  price90rsiUSD  price3rocUSD  \\\n",
       "2461               0.386  ...         42.961         46.220        -1.348   \n",
       "2462               0.341  ...         44.575         46.608         1.080   \n",
       "2463               0.337  ...         46.295         47.031         2.631   \n",
       "2464               0.362  ...         45.205         46.750         1.722   \n",
       "2465               0.369  ...         43.938         46.417        -0.935   \n",
       "\n",
       "      price7rocUSD  price14rocUSD  price30rocUSD  price90rocUSD     one  \\\n",
       "2461         0.717          0.076         -0.081        -11.109  7361.0   \n",
       "2462         2.124          2.180         -2.562         -9.029  7469.0   \n",
       "2463         2.658          4.788         -1.656         -7.569  7388.0   \n",
       "2464        -1.875          4.286         -3.716        -11.675  7293.0   \n",
       "2465        -0.948          6.402         -0.922        -11.770  7238.0   \n",
       "\n",
       "      difference  category  \n",
       "2461    1.349305         1  \n",
       "2462    1.467192         1  \n",
       "2463   -1.084483         0  \n",
       "2464   -1.285869         0  \n",
       "2465   -0.754148         0  \n",
       "\n",
       "[5 rows x 740 columns]"
      ]
     },
     "execution_count": 20,
     "metadata": {},
     "output_type": "execute_result"
    }
   ],
   "source": [
    "df.tail()"
   ]
  },
  {
   "cell_type": "code",
   "execution_count": 21,
   "metadata": {},
   "outputs": [
    {
     "name": "stderr",
     "output_type": "stream",
     "text": [
      "/home/mudassir/btcpaper/lib/python3.6/site-packages/ipykernel_launcher.py:1: SettingWithCopyWarning: \n",
      "A value is trying to be set on a copy of a slice from a DataFrame.\n",
      "Try using .loc[row_indexer,col_indexer] = value instead\n",
      "\n",
      "See the caveats in the documentation: http://pandas.pydata.org/pandas-docs/stable/indexing.html#indexing-view-versus-copy\n",
      "  \"\"\"Entry point for launching an IPython kernel.\n"
     ]
    }
   ],
   "source": [
    "df['priceUSD']=df['category']"
   ]
  },
  {
   "cell_type": "code",
   "execution_count": 22,
   "metadata": {},
   "outputs": [
    {
     "name": "stderr",
     "output_type": "stream",
     "text": [
      "/home/mudassir/btcpaper/lib/python3.6/site-packages/pandas/core/frame.py:3940: SettingWithCopyWarning: \n",
      "A value is trying to be set on a copy of a slice from a DataFrame\n",
      "\n",
      "See the caveats in the documentation: http://pandas.pydata.org/pandas-docs/stable/indexing.html#indexing-view-versus-copy\n",
      "  errors=errors)\n"
     ]
    }
   ],
   "source": [
    "df.drop(columns=['category','one','difference'],inplace=True)"
   ]
  },
  {
   "cell_type": "code",
   "execution_count": 23,
   "metadata": {},
   "outputs": [
    {
     "data": {
      "text/html": [
       "<div>\n",
       "<style scoped>\n",
       "    .dataframe tbody tr th:only-of-type {\n",
       "        vertical-align: middle;\n",
       "    }\n",
       "\n",
       "    .dataframe tbody tr th {\n",
       "        vertical-align: top;\n",
       "    }\n",
       "\n",
       "    .dataframe thead th {\n",
       "        text-align: right;\n",
       "    }\n",
       "</style>\n",
       "<table border=\"1\" class=\"dataframe\">\n",
       "  <thead>\n",
       "    <tr style=\"text-align: right;\">\n",
       "      <th></th>\n",
       "      <th>Date</th>\n",
       "      <th>priceUSD</th>\n",
       "      <th>transactions</th>\n",
       "      <th>size</th>\n",
       "      <th>sentbyaddress</th>\n",
       "      <th>difficulty</th>\n",
       "      <th>hashrate</th>\n",
       "      <th>mining_profitability</th>\n",
       "      <th>sentinusdUSD</th>\n",
       "      <th>transactionfeesUSD</th>\n",
       "      <th>...</th>\n",
       "      <th>price3rsiUSD</th>\n",
       "      <th>price7rsiUSD</th>\n",
       "      <th>price14rsiUSD</th>\n",
       "      <th>price30rsiUSD</th>\n",
       "      <th>price90rsiUSD</th>\n",
       "      <th>price3rocUSD</th>\n",
       "      <th>price7rocUSD</th>\n",
       "      <th>price14rocUSD</th>\n",
       "      <th>price30rocUSD</th>\n",
       "      <th>price90rocUSD</th>\n",
       "    </tr>\n",
       "  </thead>\n",
       "  <tbody>\n",
       "    <tr>\n",
       "      <th>0</th>\n",
       "      <td>2013/04/01</td>\n",
       "      <td>1</td>\n",
       "      <td>52572</td>\n",
       "      <td>139256.0</td>\n",
       "      <td>48809</td>\n",
       "      <td>6695826.0</td>\n",
       "      <td>6.550211e+13</td>\n",
       "      <td>7220.0</td>\n",
       "      <td>136779480.0</td>\n",
       "      <td>0.0777</td>\n",
       "      <td>...</td>\n",
       "      <td>99.456</td>\n",
       "      <td>96.992</td>\n",
       "      <td>95.075</td>\n",
       "      <td>93.774</td>\n",
       "      <td>91.450</td>\n",
       "      <td>9.383</td>\n",
       "      <td>36.980</td>\n",
       "      <td>104.747</td>\n",
       "      <td>185.993</td>\n",
       "      <td>606.456</td>\n",
       "    </tr>\n",
       "    <tr>\n",
       "      <th>1</th>\n",
       "      <td>2013/04/02</td>\n",
       "      <td>1</td>\n",
       "      <td>63095</td>\n",
       "      <td>175443.0</td>\n",
       "      <td>62276</td>\n",
       "      <td>6695826.0</td>\n",
       "      <td>6.184560e+13</td>\n",
       "      <td>7990.0</td>\n",
       "      <td>278422775.0</td>\n",
       "      <td>0.1050</td>\n",
       "      <td>...</td>\n",
       "      <td>99.811</td>\n",
       "      <td>98.201</td>\n",
       "      <td>96.416</td>\n",
       "      <td>94.987</td>\n",
       "      <td>92.645</td>\n",
       "      <td>23.206</td>\n",
       "      <td>50.270</td>\n",
       "      <td>109.704</td>\n",
       "      <td>231.964</td>\n",
       "      <td>716.218</td>\n",
       "    </tr>\n",
       "    <tr>\n",
       "      <th>2</th>\n",
       "      <td>2013/04/03</td>\n",
       "      <td>1</td>\n",
       "      <td>63766</td>\n",
       "      <td>184209.0</td>\n",
       "      <td>69174</td>\n",
       "      <td>6695826.0</td>\n",
       "      <td>6.027037e+13</td>\n",
       "      <td>8852.0</td>\n",
       "      <td>284039909.0</td>\n",
       "      <td>0.1330</td>\n",
       "      <td>...</td>\n",
       "      <td>99.902</td>\n",
       "      <td>98.752</td>\n",
       "      <td>97.190</td>\n",
       "      <td>95.785</td>\n",
       "      <td>93.508</td>\n",
       "      <td>34.759</td>\n",
       "      <td>51.448</td>\n",
       "      <td>107.789</td>\n",
       "      <td>259.795</td>\n",
       "      <td>808.284</td>\n",
       "    </tr>\n",
       "  </tbody>\n",
       "</table>\n",
       "<p>3 rows × 737 columns</p>\n",
       "</div>"
      ],
      "text/plain": [
       "         Date  priceUSD  transactions      size  sentbyaddress  difficulty  \\\n",
       "0  2013/04/01         1         52572  139256.0          48809   6695826.0   \n",
       "1  2013/04/02         1         63095  175443.0          62276   6695826.0   \n",
       "2  2013/04/03         1         63766  184209.0          69174   6695826.0   \n",
       "\n",
       "       hashrate  mining_profitability  sentinusdUSD  transactionfeesUSD  ...  \\\n",
       "0  6.550211e+13                7220.0   136779480.0              0.0777  ...   \n",
       "1  6.184560e+13                7990.0   278422775.0              0.1050  ...   \n",
       "2  6.027037e+13                8852.0   284039909.0              0.1330  ...   \n",
       "\n",
       "   price3rsiUSD  price7rsiUSD  price14rsiUSD  price30rsiUSD  price90rsiUSD  \\\n",
       "0        99.456        96.992         95.075         93.774         91.450   \n",
       "1        99.811        98.201         96.416         94.987         92.645   \n",
       "2        99.902        98.752         97.190         95.785         93.508   \n",
       "\n",
       "   price3rocUSD  price7rocUSD  price14rocUSD  price30rocUSD  price90rocUSD  \n",
       "0         9.383        36.980        104.747        185.993        606.456  \n",
       "1        23.206        50.270        109.704        231.964        716.218  \n",
       "2        34.759        51.448        107.789        259.795        808.284  \n",
       "\n",
       "[3 rows x 737 columns]"
      ]
     },
     "execution_count": 23,
     "metadata": {},
     "output_type": "execute_result"
    }
   ],
   "source": [
    "df.head(3)"
   ]
  },
  {
   "cell_type": "code",
   "execution_count": 24,
   "metadata": {},
   "outputs": [],
   "source": [
    "X=df.iloc[:,2:]"
   ]
  },
  {
   "cell_type": "code",
   "execution_count": 25,
   "metadata": {},
   "outputs": [
    {
     "data": {
      "text/html": [
       "<div>\n",
       "<style scoped>\n",
       "    .dataframe tbody tr th:only-of-type {\n",
       "        vertical-align: middle;\n",
       "    }\n",
       "\n",
       "    .dataframe tbody tr th {\n",
       "        vertical-align: top;\n",
       "    }\n",
       "\n",
       "    .dataframe thead th {\n",
       "        text-align: right;\n",
       "    }\n",
       "</style>\n",
       "<table border=\"1\" class=\"dataframe\">\n",
       "  <thead>\n",
       "    <tr style=\"text-align: right;\">\n",
       "      <th></th>\n",
       "      <th>transactions</th>\n",
       "      <th>size</th>\n",
       "      <th>sentbyaddress</th>\n",
       "      <th>difficulty</th>\n",
       "      <th>hashrate</th>\n",
       "      <th>mining_profitability</th>\n",
       "      <th>sentinusdUSD</th>\n",
       "      <th>transactionfeesUSD</th>\n",
       "      <th>median_transaction_feeUSD</th>\n",
       "      <th>confirmationtime</th>\n",
       "      <th>...</th>\n",
       "      <th>price3rsiUSD</th>\n",
       "      <th>price7rsiUSD</th>\n",
       "      <th>price14rsiUSD</th>\n",
       "      <th>price30rsiUSD</th>\n",
       "      <th>price90rsiUSD</th>\n",
       "      <th>price3rocUSD</th>\n",
       "      <th>price7rocUSD</th>\n",
       "      <th>price14rocUSD</th>\n",
       "      <th>price30rocUSD</th>\n",
       "      <th>price90rocUSD</th>\n",
       "    </tr>\n",
       "  </thead>\n",
       "  <tbody>\n",
       "    <tr>\n",
       "      <th>0</th>\n",
       "      <td>52572</td>\n",
       "      <td>139256.0</td>\n",
       "      <td>48809</td>\n",
       "      <td>6695826.0</td>\n",
       "      <td>6.550211e+13</td>\n",
       "      <td>7220.0</td>\n",
       "      <td>136779480.0</td>\n",
       "      <td>0.0777</td>\n",
       "      <td>0.0474</td>\n",
       "      <td>7.273</td>\n",
       "      <td>...</td>\n",
       "      <td>99.456</td>\n",
       "      <td>96.992</td>\n",
       "      <td>95.075</td>\n",
       "      <td>93.774</td>\n",
       "      <td>91.450</td>\n",
       "      <td>9.383</td>\n",
       "      <td>36.980</td>\n",
       "      <td>104.747</td>\n",
       "      <td>185.993</td>\n",
       "      <td>606.456</td>\n",
       "    </tr>\n",
       "    <tr>\n",
       "      <th>1</th>\n",
       "      <td>63095</td>\n",
       "      <td>175443.0</td>\n",
       "      <td>62276</td>\n",
       "      <td>6695826.0</td>\n",
       "      <td>6.184560e+13</td>\n",
       "      <td>7990.0</td>\n",
       "      <td>278422775.0</td>\n",
       "      <td>0.1050</td>\n",
       "      <td>0.0539</td>\n",
       "      <td>7.956</td>\n",
       "      <td>...</td>\n",
       "      <td>99.811</td>\n",
       "      <td>98.201</td>\n",
       "      <td>96.416</td>\n",
       "      <td>94.987</td>\n",
       "      <td>92.645</td>\n",
       "      <td>23.206</td>\n",
       "      <td>50.270</td>\n",
       "      <td>109.704</td>\n",
       "      <td>231.964</td>\n",
       "      <td>716.218</td>\n",
       "    </tr>\n",
       "    <tr>\n",
       "      <th>2</th>\n",
       "      <td>63766</td>\n",
       "      <td>184209.0</td>\n",
       "      <td>69174</td>\n",
       "      <td>6695826.0</td>\n",
       "      <td>6.027037e+13</td>\n",
       "      <td>8852.0</td>\n",
       "      <td>284039909.0</td>\n",
       "      <td>0.1330</td>\n",
       "      <td>0.0600</td>\n",
       "      <td>8.229</td>\n",
       "      <td>...</td>\n",
       "      <td>99.902</td>\n",
       "      <td>98.752</td>\n",
       "      <td>97.190</td>\n",
       "      <td>95.785</td>\n",
       "      <td>93.508</td>\n",
       "      <td>34.759</td>\n",
       "      <td>51.448</td>\n",
       "      <td>107.789</td>\n",
       "      <td>259.795</td>\n",
       "      <td>808.284</td>\n",
       "    </tr>\n",
       "    <tr>\n",
       "      <th>3</th>\n",
       "      <td>66738</td>\n",
       "      <td>221568.0</td>\n",
       "      <td>71753</td>\n",
       "      <td>6695826.0</td>\n",
       "      <td>5.527246e+13</td>\n",
       "      <td>8777.0</td>\n",
       "      <td>282809750.0</td>\n",
       "      <td>0.1410</td>\n",
       "      <td>0.0618</td>\n",
       "      <td>9.351</td>\n",
       "      <td>...</td>\n",
       "      <td>99.919</td>\n",
       "      <td>98.869</td>\n",
       "      <td>97.368</td>\n",
       "      <td>95.977</td>\n",
       "      <td>93.724</td>\n",
       "      <td>30.456</td>\n",
       "      <td>44.093</td>\n",
       "      <td>93.098</td>\n",
       "      <td>237.355</td>\n",
       "      <td>834.762</td>\n",
       "    </tr>\n",
       "    <tr>\n",
       "      <th>4</th>\n",
       "      <td>61215</td>\n",
       "      <td>190067.0</td>\n",
       "      <td>69310</td>\n",
       "      <td>7005058.0</td>\n",
       "      <td>5.181545e+13</td>\n",
       "      <td>9950.0</td>\n",
       "      <td>264855827.0</td>\n",
       "      <td>0.1200</td>\n",
       "      <td>0.0643</td>\n",
       "      <td>9.114</td>\n",
       "      <td>...</td>\n",
       "      <td>99.941</td>\n",
       "      <td>99.022</td>\n",
       "      <td>97.602</td>\n",
       "      <td>96.233</td>\n",
       "      <td>94.013</td>\n",
       "      <td>19.411</td>\n",
       "      <td>48.589</td>\n",
       "      <td>95.718</td>\n",
       "      <td>229.992</td>\n",
       "      <td>876.762</td>\n",
       "    </tr>\n",
       "  </tbody>\n",
       "</table>\n",
       "<p>5 rows × 735 columns</p>\n",
       "</div>"
      ],
      "text/plain": [
       "   transactions      size  sentbyaddress  difficulty      hashrate  \\\n",
       "0         52572  139256.0          48809   6695826.0  6.550211e+13   \n",
       "1         63095  175443.0          62276   6695826.0  6.184560e+13   \n",
       "2         63766  184209.0          69174   6695826.0  6.027037e+13   \n",
       "3         66738  221568.0          71753   6695826.0  5.527246e+13   \n",
       "4         61215  190067.0          69310   7005058.0  5.181545e+13   \n",
       "\n",
       "   mining_profitability  sentinusdUSD  transactionfeesUSD  \\\n",
       "0                7220.0   136779480.0              0.0777   \n",
       "1                7990.0   278422775.0              0.1050   \n",
       "2                8852.0   284039909.0              0.1330   \n",
       "3                8777.0   282809750.0              0.1410   \n",
       "4                9950.0   264855827.0              0.1200   \n",
       "\n",
       "   median_transaction_feeUSD  confirmationtime  ...  price3rsiUSD  \\\n",
       "0                     0.0474             7.273  ...        99.456   \n",
       "1                     0.0539             7.956  ...        99.811   \n",
       "2                     0.0600             8.229  ...        99.902   \n",
       "3                     0.0618             9.351  ...        99.919   \n",
       "4                     0.0643             9.114  ...        99.941   \n",
       "\n",
       "   price7rsiUSD  price14rsiUSD  price30rsiUSD  price90rsiUSD  price3rocUSD  \\\n",
       "0        96.992         95.075         93.774         91.450         9.383   \n",
       "1        98.201         96.416         94.987         92.645        23.206   \n",
       "2        98.752         97.190         95.785         93.508        34.759   \n",
       "3        98.869         97.368         95.977         93.724        30.456   \n",
       "4        99.022         97.602         96.233         94.013        19.411   \n",
       "\n",
       "   price7rocUSD  price14rocUSD  price30rocUSD  price90rocUSD  \n",
       "0        36.980        104.747        185.993        606.456  \n",
       "1        50.270        109.704        231.964        716.218  \n",
       "2        51.448        107.789        259.795        808.284  \n",
       "3        44.093         93.098        237.355        834.762  \n",
       "4        48.589         95.718        229.992        876.762  \n",
       "\n",
       "[5 rows x 735 columns]"
      ]
     },
     "execution_count": 25,
     "metadata": {},
     "output_type": "execute_result"
    }
   ],
   "source": [
    "X.head()"
   ]
  },
  {
   "cell_type": "code",
   "execution_count": 26,
   "metadata": {},
   "outputs": [],
   "source": [
    "estimators=[]"
   ]
  },
  {
   "cell_type": "code",
   "execution_count": 27,
   "metadata": {},
   "outputs": [],
   "source": [
    "estimators.append(['minmax',MinMaxScaler(feature_range=(-1,1))])"
   ]
  },
  {
   "cell_type": "code",
   "execution_count": 28,
   "metadata": {},
   "outputs": [],
   "source": [
    "scale=Pipeline(estimators)"
   ]
  },
  {
   "cell_type": "code",
   "execution_count": 29,
   "metadata": {},
   "outputs": [],
   "source": [
    "X=scale.fit_transform(X)"
   ]
  },
  {
   "cell_type": "code",
   "execution_count": 41,
   "metadata": {},
   "outputs": [
    {
     "data": {
      "text/plain": [
       "PCA(copy=True, iterated_power='auto', n_components=50, random_state=7,\n",
       "    svd_solver='auto', tol=0.0, whiten=False)"
      ]
     },
     "execution_count": 41,
     "metadata": {},
     "output_type": "execute_result"
    }
   ],
   "source": [
    "pca = PCA(n_components=50,random_state=7)\n",
    "pca.fit(X)"
   ]
  },
  {
   "cell_type": "code",
   "execution_count": 42,
   "metadata": {},
   "outputs": [
    {
     "data": {
      "text/plain": [
       "array([0.43738885, 0.12402112, 0.09038058, 0.04406626, 0.03002204,\n",
       "       0.02513081, 0.01856041, 0.01586082, 0.01563144, 0.0134129 ,\n",
       "       0.01191998, 0.01079576, 0.01024017, 0.00906592, 0.00748592,\n",
       "       0.00725145, 0.00641153, 0.0063237 , 0.00550938, 0.00508766,\n",
       "       0.00446051, 0.00406503, 0.00395771, 0.00367028, 0.00338003,\n",
       "       0.00318193, 0.00302956, 0.0029422 , 0.00275338, 0.00268701,\n",
       "       0.00262686, 0.00230424, 0.00222074, 0.00202925, 0.00190189,\n",
       "       0.00186127, 0.00175622, 0.00168084, 0.00161845, 0.00157558,\n",
       "       0.00147986, 0.00144313, 0.00139659, 0.0013125 , 0.00129639,\n",
       "       0.00120848, 0.00110883, 0.00103141, 0.00100158, 0.00096521])"
      ]
     },
     "execution_count": 42,
     "metadata": {},
     "output_type": "execute_result"
    }
   ],
   "source": [
    "pca.explained_variance_ratio_"
   ]
  },
  {
   "cell_type": "code",
   "execution_count": 43,
   "metadata": {},
   "outputs": [
    {
     "data": {
      "text/plain": [
       "array([0.43738885, 0.56140997, 0.65179055, 0.69585681, 0.72587885,\n",
       "       0.75100966, 0.76957007, 0.78543089, 0.80106233, 0.81447522,\n",
       "       0.8263952 , 0.83719096, 0.84743113, 0.85649705, 0.86398297,\n",
       "       0.87123441, 0.87764595, 0.88396965, 0.88947903, 0.8945667 ,\n",
       "       0.89902721, 0.90309224, 0.90704995, 0.91072023, 0.91410026,\n",
       "       0.91728219, 0.92031175, 0.92325395, 0.92600733, 0.92869434,\n",
       "       0.9313212 , 0.93362545, 0.93584619, 0.93787544, 0.93977733,\n",
       "       0.9416386 , 0.94339482, 0.94507566, 0.94669411, 0.94826969,\n",
       "       0.94974956, 0.95119269, 0.95258928, 0.95390177, 0.95519816,\n",
       "       0.95640664, 0.95751547, 0.95854687, 0.95954846, 0.96051367])"
      ]
     },
     "execution_count": 43,
     "metadata": {},
     "output_type": "execute_result"
    }
   ],
   "source": [
    "np.cumsum(pca.explained_variance_ratio_)"
   ]
  },
  {
   "cell_type": "code",
   "execution_count": 44,
   "metadata": {},
   "outputs": [
    {
     "data": {
      "image/png": "[encoded data removed]",
      "text/plain": [
       "<Figure size 432x288 with 1 Axes>"
      ]
     },
     "metadata": {
      "needs_background": "light"
     },
     "output_type": "display_data"
    }
   ],
   "source": [
    "#Plotting the Cumulative Summation of the Explained Variance\n",
    "plt.figure()\n",
    "plt.plot(np.cumsum(pca.explained_variance_ratio_))\n",
    "plt.xlabel('Number of Components')\n",
    "plt.ylabel('Variance (%)') #for each component\n",
    "plt.title('Explained Variance')\n",
    "plt.show()"
   ]
  },
  {
   "cell_type": "code",
   "execution_count": 45,
   "metadata": {
    "scrolled": false
   },
   "outputs": [],
   "source": [
    "df_pca=pd.DataFrame(pca.components_).transpose()"
   ]
  },
  {
   "cell_type": "raw",
   "metadata": {},
   "source": [
    "df_pca.columns=['comp_1','comp_2','comp_3','comp_4','comp_5','comp_6']"
   ]
  },
  {
   "cell_type": "code",
   "execution_count": 46,
   "metadata": {},
   "outputs": [],
   "source": [
    "y=df.iloc[:,1:2]"
   ]
  },
  {
   "cell_type": "code",
   "execution_count": 47,
   "metadata": {},
   "outputs": [],
   "source": [
    "y.reset_index(drop=True,inplace=True)"
   ]
  },
  {
   "cell_type": "code",
   "execution_count": 48,
   "metadata": {},
   "outputs": [],
   "source": [
    "df_pca['priceUSD']=y"
   ]
  },
  {
   "cell_type": "code",
   "execution_count": 49,
   "metadata": {},
   "outputs": [
    {
     "data": {
      "text/html": [
       "<div>\n",
       "<style scoped>\n",
       "    .dataframe tbody tr th:only-of-type {\n",
       "        vertical-align: middle;\n",
       "    }\n",
       "\n",
       "    .dataframe tbody tr th {\n",
       "        vertical-align: top;\n",
       "    }\n",
       "\n",
       "    .dataframe thead th {\n",
       "        text-align: right;\n",
       "    }\n",
       "</style>\n",
       "<table border=\"1\" class=\"dataframe\">\n",
       "  <thead>\n",
       "    <tr style=\"text-align: right;\">\n",
       "      <th></th>\n",
       "      <th>0</th>\n",
       "      <th>1</th>\n",
       "      <th>2</th>\n",
       "      <th>3</th>\n",
       "      <th>4</th>\n",
       "      <th>5</th>\n",
       "      <th>6</th>\n",
       "      <th>7</th>\n",
       "      <th>8</th>\n",
       "      <th>9</th>\n",
       "      <th>...</th>\n",
       "      <th>41</th>\n",
       "      <th>42</th>\n",
       "      <th>43</th>\n",
       "      <th>44</th>\n",
       "      <th>45</th>\n",
       "      <th>46</th>\n",
       "      <th>47</th>\n",
       "      <th>48</th>\n",
       "      <th>49</th>\n",
       "      <th>priceUSD</th>\n",
       "    </tr>\n",
       "  </thead>\n",
       "  <tbody>\n",
       "    <tr>\n",
       "      <th>0</th>\n",
       "      <td>0.074162</td>\n",
       "      <td>0.015329</td>\n",
       "      <td>-0.048046</td>\n",
       "      <td>0.042709</td>\n",
       "      <td>0.007321</td>\n",
       "      <td>-0.014251</td>\n",
       "      <td>0.001355</td>\n",
       "      <td>-0.044263</td>\n",
       "      <td>-0.014403</td>\n",
       "      <td>-0.036199</td>\n",
       "      <td>...</td>\n",
       "      <td>0.017701</td>\n",
       "      <td>-0.020600</td>\n",
       "      <td>-0.021125</td>\n",
       "      <td>-0.001148</td>\n",
       "      <td>-0.004502</td>\n",
       "      <td>-0.012360</td>\n",
       "      <td>-0.032049</td>\n",
       "      <td>0.007081</td>\n",
       "      <td>0.006557</td>\n",
       "      <td>1</td>\n",
       "    </tr>\n",
       "    <tr>\n",
       "      <th>1</th>\n",
       "      <td>0.094841</td>\n",
       "      <td>0.072671</td>\n",
       "      <td>-0.077840</td>\n",
       "      <td>-0.014523</td>\n",
       "      <td>0.027039</td>\n",
       "      <td>-0.053013</td>\n",
       "      <td>0.056817</td>\n",
       "      <td>-0.009060</td>\n",
       "      <td>0.047423</td>\n",
       "      <td>-0.009912</td>\n",
       "      <td>...</td>\n",
       "      <td>-0.047544</td>\n",
       "      <td>0.013065</td>\n",
       "      <td>0.065670</td>\n",
       "      <td>0.006482</td>\n",
       "      <td>0.020321</td>\n",
       "      <td>0.007130</td>\n",
       "      <td>0.016320</td>\n",
       "      <td>0.013705</td>\n",
       "      <td>-0.042491</td>\n",
       "      <td>1</td>\n",
       "    </tr>\n",
       "    <tr>\n",
       "      <th>2</th>\n",
       "      <td>0.064880</td>\n",
       "      <td>0.028643</td>\n",
       "      <td>-0.038454</td>\n",
       "      <td>0.019065</td>\n",
       "      <td>0.028725</td>\n",
       "      <td>-0.014173</td>\n",
       "      <td>-0.002313</td>\n",
       "      <td>-0.031474</td>\n",
       "      <td>-0.009467</td>\n",
       "      <td>-0.034115</td>\n",
       "      <td>...</td>\n",
       "      <td>0.020285</td>\n",
       "      <td>0.006481</td>\n",
       "      <td>-0.012896</td>\n",
       "      <td>0.008115</td>\n",
       "      <td>-0.022120</td>\n",
       "      <td>-0.021993</td>\n",
       "      <td>0.012241</td>\n",
       "      <td>0.021045</td>\n",
       "      <td>-0.033730</td>\n",
       "      <td>1</td>\n",
       "    </tr>\n",
       "    <tr>\n",
       "      <th>3</th>\n",
       "      <td>0.066701</td>\n",
       "      <td>-0.118325</td>\n",
       "      <td>0.009314</td>\n",
       "      <td>0.034983</td>\n",
       "      <td>-0.002191</td>\n",
       "      <td>0.012280</td>\n",
       "      <td>-0.002472</td>\n",
       "      <td>0.004447</td>\n",
       "      <td>0.012511</td>\n",
       "      <td>-0.012443</td>\n",
       "      <td>...</td>\n",
       "      <td>-0.000787</td>\n",
       "      <td>0.002537</td>\n",
       "      <td>0.005720</td>\n",
       "      <td>0.002473</td>\n",
       "      <td>-0.002302</td>\n",
       "      <td>-0.018649</td>\n",
       "      <td>-0.002314</td>\n",
       "      <td>0.012274</td>\n",
       "      <td>-0.009088</td>\n",
       "      <td>1</td>\n",
       "    </tr>\n",
       "    <tr>\n",
       "      <th>4</th>\n",
       "      <td>0.060540</td>\n",
       "      <td>-0.105832</td>\n",
       "      <td>0.011500</td>\n",
       "      <td>0.031725</td>\n",
       "      <td>-0.005375</td>\n",
       "      <td>0.006381</td>\n",
       "      <td>-0.006996</td>\n",
       "      <td>-0.001401</td>\n",
       "      <td>-0.002304</td>\n",
       "      <td>-0.018730</td>\n",
       "      <td>...</td>\n",
       "      <td>0.017911</td>\n",
       "      <td>-0.013560</td>\n",
       "      <td>0.010858</td>\n",
       "      <td>-0.022299</td>\n",
       "      <td>-0.007560</td>\n",
       "      <td>0.010064</td>\n",
       "      <td>-0.016911</td>\n",
       "      <td>-0.002309</td>\n",
       "      <td>0.002561</td>\n",
       "      <td>1</td>\n",
       "    </tr>\n",
       "  </tbody>\n",
       "</table>\n",
       "<p>5 rows × 51 columns</p>\n",
       "</div>"
      ],
      "text/plain": [
       "          0         1         2         3         4         5         6  \\\n",
       "0  0.074162  0.015329 -0.048046  0.042709  0.007321 -0.014251  0.001355   \n",
       "1  0.094841  0.072671 -0.077840 -0.014523  0.027039 -0.053013  0.056817   \n",
       "2  0.064880  0.028643 -0.038454  0.019065  0.028725 -0.014173 -0.002313   \n",
       "3  0.066701 -0.118325  0.009314  0.034983 -0.002191  0.012280 -0.002472   \n",
       "4  0.060540 -0.105832  0.011500  0.031725 -0.005375  0.006381 -0.006996   \n",
       "\n",
       "          7         8         9  ...        41        42        43        44  \\\n",
       "0 -0.044263 -0.014403 -0.036199  ...  0.017701 -0.020600 -0.021125 -0.001148   \n",
       "1 -0.009060  0.047423 -0.009912  ... -0.047544  0.013065  0.065670  0.006482   \n",
       "2 -0.031474 -0.009467 -0.034115  ...  0.020285  0.006481 -0.012896  0.008115   \n",
       "3  0.004447  0.012511 -0.012443  ... -0.000787  0.002537  0.005720  0.002473   \n",
       "4 -0.001401 -0.002304 -0.018730  ...  0.017911 -0.013560  0.010858 -0.022299   \n",
       "\n",
       "         45        46        47        48        49  priceUSD  \n",
       "0 -0.004502 -0.012360 -0.032049  0.007081  0.006557         1  \n",
       "1  0.020321  0.007130  0.016320  0.013705 -0.042491         1  \n",
       "2 -0.022120 -0.021993  0.012241  0.021045 -0.033730         1  \n",
       "3 -0.002302 -0.018649 -0.002314  0.012274 -0.009088         1  \n",
       "4 -0.007560  0.010064 -0.016911 -0.002309  0.002561         1  \n",
       "\n",
       "[5 rows x 51 columns]"
      ]
     },
     "execution_count": 49,
     "metadata": {},
     "output_type": "execute_result"
    }
   ],
   "source": [
    "df_pca.head()"
   ]
  },
  {
   "cell_type": "code",
   "execution_count": 50,
   "metadata": {},
   "outputs": [],
   "source": [
    "df_pca.to_csv('pca_75_clas.csv',index=False)"
   ]
  },
  {
   "cell_type": "code",
   "execution_count": null,
   "metadata": {},
   "outputs": [],
   "source": []
  }
 ],
 "metadata": {
  "kernelspec": {
   "display_name": "PyCharm (btcpaper)",
   "language": "python",
   "name": "pycharm-8016b31a"
  },
  "language_info": {
   "codemirror_mode": {
    "name": "ipython",
    "version": 3
   },
   "file_extension": ".py",
   "mimetype": "text/x-python",
   "name": "python",
   "nbconvert_exporter": "python",
   "pygments_lexer": "ipython3",
   "version": "3.6.8-final"
  }
 },
 "nbformat": 4,
 "nbformat_minor": 2
}