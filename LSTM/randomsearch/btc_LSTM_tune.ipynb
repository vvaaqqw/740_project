{
 "cells": [
  {
   "cell_type": "markdown",
   "metadata": {
    "colab_type": "text",
    "id": "TKAxbUFku8lD"
   },
   "source": [
    "# **Dependancies**"
   ]
  },
  {
   "cell_type": "code",
   "execution_count": 1,
   "metadata": {
    "colab": {},
    "colab_type": "code",
    "id": "oFJOnSzBk_uB"
   },
   "outputs": [
    {
     "name": "stderr",
     "output_type": "stream",
     "text": [
      "2022-12-04 13:28:43.888042: I tensorflow/core/platform/cpu_feature_guard.cc:193] This TensorFlow binary is optimized with oneAPI Deep Neural Network Library (oneDNN) to use the following CPU instructions in performance-critical operations:  SSE4.1 SSE4.2 AVX AVX2 AVX512F AVX512_VNNI FMA\n",
      "To enable them in other operations, rebuild TensorFlow with the appropriate compiler flags.\n"
     ]
    }
   ],
   "source": [
    "import keras_tuner as kt\n",
    "\n",
    "from tensorflow.keras.layers import *\n",
    "from tensorflow.keras.models import *\n",
    "from tensorflow.keras.optimizers import *\n",
    "from tensorflow.keras.callbacks import EarlyStopping\n",
    "import numpy as np\n",
    "import pandas as pd\n",
    "import matplotlib.pyplot as plt\n",
    "import os\n",
    "from datetime import datetime\n",
    "# from tqdm import tqdm\n",
    "\n",
    "from sklearn.preprocessing import MinMaxScaler, RobustScaler\n",
    "from sklearn.model_selection import train_test_split\n",
    "from sklearn.metrics import r2_score, mean_absolute_error, mean_squared_error\n",
    "from sklearn.pipeline import Pipeline\n",
    "from sklearn.model_selection import GridSearchCV, RandomizedSearchCV, PredefinedSplit\n",
    "from sklearn.ensemble import GradientBoostingRegressor\n",
    "\n",
    "import matplotlib.pyplot as plt\n",
    "import seaborn as sns\n",
    "sns.set()\n",
    "from collections import Counter\n",
    "from scipy.stats import uniform\n",
    "from scipy.stats import randint\n"
   ]
  },
  {
   "cell_type": "code",
   "execution_count": 2,
   "metadata": {},
   "outputs": [],
   "source": [
    "def mean_absolute_percentage_error(y_true, y_pred): \n",
    "    y_true, y_pred = np.array(y_true), np.array(y_pred)\n",
    "    return np.mean(np.abs((y_true - y_pred) / y_true)) * 100"
   ]
  },
  {
   "cell_type": "markdown",
   "metadata": {
    "colab_type": "text",
    "id": "22PseW2xqQET"
   },
   "source": [
    "# **Loading Data**"
   ]
  },
  {
   "cell_type": "code",
   "execution_count": 3,
   "metadata": {},
   "outputs": [],
   "source": [
    "selected = pd.read_csv(\"../Data/train_btc_selected_features.csv\")\n",
    "btc = pd.read_csv(\"../Data/btc_Data.csv\")\n",
    "btc['Date'] = pd.to_datetime(btc['Date'])\n",
    "btc = btc.set_index(\"Date\")"
   ]
  },
  {
   "cell_type": "code",
   "execution_count": 4,
   "metadata": {},
   "outputs": [
    {
     "name": "stderr",
     "output_type": "stream",
     "text": [
      "/tmp/ipykernel_2795163/3854812091.py:2: SettingWithCopyWarning: \n",
      "A value is trying to be set on a copy of a slice from a DataFrame.\n",
      "Try using .loc[row_indexer,col_indexer] = value instead\n",
      "\n",
      "See the caveats in the documentation: https://pandas.pydata.org/pandas-docs/stable/user_guide/indexing.html#returning-a-view-versus-a-copy\n",
      "  btcData['returns'] = btcData['priceUSD'].pct_change().copy()\n"
     ]
    }
   ],
   "source": [
    "btcData = btc[selected.columns]\n",
    "btcData['returns'] = btcData['priceUSD'].pct_change().copy()\n",
    "Data = btcData.drop(columns=['priceUSD'])\n",
    "Data = Data[1:]\n",
    "# divide X and Y\n",
    "X = Data.iloc[:,0:]\n",
    "#Y = Data['returns']   # 用returns的话就用这一行，然后把下一行comment掉\n",
    "Y = btcData['priceUSD'].shift(-30)[1:] # 反之亦然\n",
    "# Split into three data sets\n",
    "X_train = X['2016-01-01':'2019-12-31']\n",
    "X_val = X['2020-01-01':'2021-05-31']\n",
    "X_test = X['2021-06-01':'2023-01-01']\n",
    "\n",
    "Y_train = Y['2016-01-01':'2019-12-31']\n",
    "Y_val = Y['2020-01-01':'2021-05-31']\n",
    "Y_test = Y['2021-06-01':'2023-01-01']"
   ]
  },
  {
   "cell_type": "code",
   "execution_count": 5,
   "metadata": {},
   "outputs": [
    {
     "name": "stdout",
     "output_type": "stream",
     "text": [
      "[Pipeline] ............ (step 1 of 2) Processing mixmax, total=   0.0s\n",
      "[Pipeline] ............ (step 2 of 2) Processing robust, total=   0.0s\n"
     ]
    }
   ],
   "source": [
    "estimators=[]\n",
    "estimators.append(['mixmax',MinMaxScaler()])\n",
    "estimators.append(['robust',RobustScaler()])\n",
    "scale=Pipeline(estimators,verbose=True)\n",
    "scale.fit(X_train)\n",
    "X_train=scale.transform(X_train)\n",
    "X_test=scale.transform(X_test)\n",
    "X_val = scale.transform(X_val)"
   ]
  },
  {
   "cell_type": "code",
   "execution_count": 6,
   "metadata": {},
   "outputs": [],
   "source": [
    "X_train=np.reshape(X_train,(X_train.shape[0],1,X_train.shape[1]))\n",
    "X_val=np.reshape(X_val,(X_val.shape[0],1,X_val.shape[1]))\n",
    "X_test=np.reshape(X_test,(X_test.shape[0],1,X_test.shape[1]))\n",
    "Y_train=Y_train.values\n",
    "Y_train=np.reshape(Y_train, (Y_train.shape[0],1,1))\n",
    "Y_val=Y_val.values\n",
    "Y_val=np.reshape(Y_val, (Y_val.shape[0],1,1))\n",
    "Y_test=Y_test.values\n",
    "Y_test=np.reshape(Y_test, (Y_test.shape[0],1,1))"
   ]
  },
  {
   "cell_type": "code",
   "execution_count": 7,
   "metadata": {},
   "outputs": [],
   "source": [
    "def lr_schedule(epoch):\n",
    "    \"\"\"Learning Rate Schedule\n",
    "\n",
    "    Learning rate is scheduled to be reduced after 80, 120, 160, 180 epochs.\n",
    "    Called automatically every epoch as part of callbacks during training.\n",
    "\n",
    "    # Arguments\n",
    "        epoch (int): The number of epochs\n",
    "\n",
    "    # Returns\n",
    "        lr (float32): learning rate\n",
    "    \"\"\"\n",
    "    lr = 1e-3\n",
    "    if epoch > 180:\n",
    "        lr *= 0.5e-3\n",
    "    elif epoch > 160:\n",
    "        lr *= 1e-3\n",
    "    elif epoch > 120:\n",
    "        lr *= 1e-2\n",
    "    elif epoch > 80:\n",
    "        lr *= 1e-1\n",
    "    print('Learning rate: ', lr)\n",
    "    return lr"
   ]
  },
  {
   "cell_type": "code",
   "execution_count": 8,
   "metadata": {
    "colab": {},
    "colab_type": "code",
    "id": "0WWSdc7AxKV6"
   },
   "outputs": [],
   "source": [
    "earlyStopping = EarlyStopping(monitor='loss', patience=500, verbose=1, mode='auto')"
   ]
  },
  {
   "cell_type": "code",
   "execution_count": 9,
   "metadata": {
    "colab": {
     "base_uri": "https://localhost:8080/",
     "height": 72
    },
    "colab_type": "code",
    "id": "NBZ9JgDTrHwV",
    "outputId": "40d0a5ca-682d-42d1-e08b-fd28df246868"
   },
   "outputs": [
    {
     "name": "stdout",
     "output_type": "stream",
     "text": [
      "Learning rate:  0.001\n"
     ]
    },
    {
     "name": "stderr",
     "output_type": "stream",
     "text": [
      "/home/spectre/anaconda3/envs/tensorplustorch/lib/python3.10/site-packages/keras/optimizers/optimizer_v2/adam.py:114: UserWarning: The `lr` argument is deprecated, use `learning_rate` instead.\n",
      "  super().__init__(name, **kwargs)\n"
     ]
    }
   ],
   "source": [
    "adam=Adam(lr=lr_schedule(0),amsgrad=True)\n"
   ]
  },
  {
   "cell_type": "code",
   "execution_count": 10,
   "metadata": {},
   "outputs": [],
   "source": [
    "def build_model(hp):\n",
    "    model = Sequential()\n",
    "\n",
    "    #first layer\n",
    "    model.add(Bidirectional(LSTM(hp.Int('input_unit1',min_value=200,max_value=512,step=32), return_sequences=True, activation='relu'), input_shape=(1, X_train.shape[2])))\n",
    "    for i in range(hp.Int('n_layers', 2, 4)):\n",
    "        model.add(Bidirectional(LSTM(hp.Int(f'input_unit{i+1}',min_value=200,max_value=512,step=32), return_sequences=True, activation='relu')))\n",
    "    #dropout layer\n",
    "    model.add(Dropout(hp.Float('Dropout_rate',min_value=0,max_value=0.5,step=0.1)))\n",
    "    # Dense layer\n",
    "    model.add(Dense(1, activation=hp.Choice('dense_activation',values=['relu', 'sigmoid'],default='relu')))\n",
    "    model.compile(loss=\"logcosh\", optimizer='adam', metrics=['mae'])\n",
    "    return model"
   ]
  },
  {
   "cell_type": "code",
   "execution_count": null,
   "metadata": {},
   "outputs": [
    {
     "name": "stderr",
     "output_type": "stream",
     "text": [
      "2022-12-04 13:28:45.724409: I tensorflow/core/platform/cpu_feature_guard.cc:193] This TensorFlow binary is optimized with oneAPI Deep Neural Network Library (oneDNN) to use the following CPU instructions in performance-critical operations:  SSE4.1 SSE4.2 AVX AVX2 AVX512F AVX512_VNNI FMA\n",
      "To enable them in other operations, rebuild TensorFlow with the appropriate compiler flags.\n",
      "2022-12-04 13:28:45.725223: I tensorflow/core/common_runtime/process_util.cc:146] Creating new thread pool with default inter op setting: 2. Tune using inter_op_parallelism_threads for best performance.\n"
     ]
    },
    {
     "name": "stdout",
     "output_type": "stream",
     "text": [
      "\n",
      "Search: Running Trial #1\n",
      "\n",
      "Value             |Best Value So Far |Hyperparameter\n",
      "392               |?                 |input_unit1\n",
      "2                 |?                 |n_layers\n",
      "232               |?                 |input_unit2\n",
      "0.4               |?                 |Dropout_rate\n",
      "relu              |?                 |dense_activation\n",
      "\n",
      "Epoch 1/5000\n",
      "46/46 [==============================] - 6s 69ms/step - loss: 4364.4995 - mae: 4365.1943 - val_loss: 7054.8833 - val_mae: 7055.5757\n",
      "Epoch 2/5000\n",
      "46/46 [==============================] - 2s 52ms/step - loss: 2123.2148 - mae: 2123.9075 - val_loss: 6941.8564 - val_mae: 6942.5493\n",
      "Epoch 3/5000\n",
      "46/46 [==============================] - 3s 59ms/step - loss: 1363.5229 - mae: 1364.2159 - val_loss: 6692.1899 - val_mae: 6692.8838\n",
      "Epoch 4/5000\n",
      "46/46 [==============================] - 3s 58ms/step - loss: 1110.9500 - mae: 1111.6428 - val_loss: 5987.8071 - val_mae: 5988.5000\n",
      "Epoch 5/5000\n",
      "46/46 [==============================] - 3s 60ms/step - loss: 972.9904 - mae: 973.6832 - val_loss: 5563.4282 - val_mae: 5564.1221\n",
      "Epoch 6/5000\n",
      "46/46 [==============================] - 3s 66ms/step - loss: 893.0819 - mae: 893.7742 - val_loss: 5929.6689 - val_mae: 5930.3623\n",
      "Epoch 7/5000\n",
      "46/46 [==============================] - 2s 54ms/step - loss: 862.6857 - mae: 863.3785 - val_loss: 6076.5752 - val_mae: 6077.2690\n",
      "Epoch 8/5000\n",
      "46/46 [==============================] - 3s 70ms/step - loss: 803.0488 - mae: 803.7415 - val_loss: 5993.1230 - val_mae: 5993.8164\n",
      "Epoch 9/5000\n",
      "46/46 [==============================] - 2s 54ms/step - loss: 751.1695 - mae: 751.8622 - val_loss: 6706.9121 - val_mae: 6707.6050\n",
      "Epoch 10/5000\n",
      "46/46 [==============================] - 3s 67ms/step - loss: 762.1733 - mae: 762.8647 - val_loss: 7745.1064 - val_mae: 7745.7988\n",
      "Epoch 11/5000\n",
      "46/46 [==============================] - 3s 61ms/step - loss: 679.1663 - mae: 679.8574 - val_loss: 8293.7705 - val_mae: 8294.4639\n",
      "Epoch 12/5000\n",
      "46/46 [==============================] - 3s 57ms/step - loss: 645.5969 - mae: 646.2884 - val_loss: 7857.7905 - val_mae: 7858.4834\n",
      "Epoch 13/5000\n",
      "46/46 [==============================] - 2s 54ms/step - loss: 641.8584 - mae: 642.5493 - val_loss: 8815.1055 - val_mae: 8815.7998\n",
      "Epoch 14/5000\n",
      "46/46 [==============================] - 3s 62ms/step - loss: 613.8317 - mae: 614.5242 - val_loss: 9106.3291 - val_mae: 9107.0225\n",
      "Epoch 15/5000\n",
      "46/46 [==============================] - 3s 57ms/step - loss: 579.0108 - mae: 579.7029 - val_loss: 9285.1123 - val_mae: 9285.8047\n",
      "Epoch 16/5000\n",
      "46/46 [==============================] - 3s 60ms/step - loss: 566.9357 - mae: 567.6278 - val_loss: 9522.1309 - val_mae: 9522.8242\n",
      "Epoch 17/5000\n",
      "46/46 [==============================] - 3s 68ms/step - loss: 561.1957 - mae: 561.8871 - val_loss: 10100.1221 - val_mae: 10100.8154\n",
      "Epoch 18/5000\n",
      "46/46 [==============================] - 3s 68ms/step - loss: 546.0293 - mae: 546.7213 - val_loss: 10006.5781 - val_mae: 10007.2715\n",
      "Epoch 19/5000\n",
      "46/46 [==============================] - 3s 69ms/step - loss: 570.8467 - mae: 571.5378 - val_loss: 9766.0615 - val_mae: 9766.7549\n",
      "Epoch 20/5000\n",
      "46/46 [==============================] - 2s 50ms/step - loss: 519.9117 - mae: 520.6034 - val_loss: 10699.9648 - val_mae: 10700.6562\n",
      "Epoch 21/5000\n",
      "46/46 [==============================] - 3s 57ms/step - loss: 513.4382 - mae: 514.1301 - val_loss: 10544.5498 - val_mae: 10545.2441\n",
      "Epoch 22/5000\n",
      "46/46 [==============================] - 3s 59ms/step - loss: 496.2675 - mae: 496.9590 - val_loss: 10745.4150 - val_mae: 10746.1084\n",
      "Epoch 23/5000\n",
      "46/46 [==============================] - 3s 56ms/step - loss: 511.1036 - mae: 511.7951 - val_loss: 10508.1396 - val_mae: 10508.8320\n",
      "Epoch 24/5000\n",
      "46/46 [==============================] - 3s 61ms/step - loss: 480.7175 - mae: 481.4086 - val_loss: 10184.1465 - val_mae: 10184.8408\n",
      "Epoch 25/5000\n",
      "46/46 [==============================] - 3s 62ms/step - loss: 501.2922 - mae: 501.9833 - val_loss: 10397.8447 - val_mae: 10398.5381\n",
      "Epoch 26/5000\n",
      "46/46 [==============================] - 3s 59ms/step - loss: 482.0559 - mae: 482.7476 - val_loss: 9713.7383 - val_mae: 9714.4316\n",
      "Epoch 27/5000\n",
      "46/46 [==============================] - 3s 57ms/step - loss: 506.6132 - mae: 507.3039 - val_loss: 10696.4775 - val_mae: 10697.1699\n",
      "Epoch 28/5000\n",
      "46/46 [==============================] - 3s 61ms/step - loss: 464.1936 - mae: 464.8848 - val_loss: 10380.4014 - val_mae: 10381.0947\n",
      "Epoch 29/5000\n",
      "46/46 [==============================] - 3s 60ms/step - loss: 472.0676 - mae: 472.7583 - val_loss: 10797.3936 - val_mae: 10798.0859\n",
      "Epoch 30/5000\n",
      "46/46 [==============================] - 3s 56ms/step - loss: 446.0911 - mae: 446.7824 - val_loss: 10961.4668 - val_mae: 10962.1602\n",
      "Epoch 31/5000\n",
      "46/46 [==============================] - 3s 69ms/step - loss: 445.5226 - mae: 446.2138 - val_loss: 10997.6436 - val_mae: 10998.3369\n",
      "Epoch 32/5000\n",
      "46/46 [==============================] - 3s 58ms/step - loss: 458.1689 - mae: 458.8596 - val_loss: 10424.7246 - val_mae: 10425.4160\n",
      "Epoch 33/5000\n",
      "46/46 [==============================] - 3s 74ms/step - loss: 405.5256 - mae: 406.2171 - val_loss: 10659.8633 - val_mae: 10660.5566\n",
      "Epoch 34/5000\n",
      "46/46 [==============================] - 3s 72ms/step - loss: 426.7141 - mae: 427.4044 - val_loss: 11001.7500 - val_mae: 11002.4424\n",
      "Epoch 35/5000\n",
      "46/46 [==============================] - 4s 97ms/step - loss: 401.7304 - mae: 402.4213 - val_loss: 10836.2695 - val_mae: 10836.9639\n",
      "Epoch 36/5000\n",
      "46/46 [==============================] - 5s 114ms/step - loss: 417.8737 - mae: 418.5651 - val_loss: 10788.6660 - val_mae: 10789.3594\n",
      "Epoch 37/5000\n",
      "46/46 [==============================] - 4s 94ms/step - loss: 399.2231 - mae: 399.9129 - val_loss: 10869.9375 - val_mae: 10870.6299\n",
      "Epoch 38/5000\n",
      "46/46 [==============================] - 3s 67ms/step - loss: 405.4752 - mae: 406.1656 - val_loss: 10736.5732 - val_mae: 10737.2676\n",
      "Epoch 39/5000\n",
      "46/46 [==============================] - 3s 61ms/step - loss: 412.0433 - mae: 412.7327 - val_loss: 10668.7754 - val_mae: 10669.4668\n",
      "Epoch 40/5000\n",
      "46/46 [==============================] - 3s 65ms/step - loss: 406.3841 - mae: 407.0747 - val_loss: 10197.0938 - val_mae: 10197.7871\n",
      "Epoch 41/5000\n",
      "46/46 [==============================] - 4s 77ms/step - loss: 421.2877 - mae: 421.9793 - val_loss: 11545.1279 - val_mae: 11545.8213\n",
      "Epoch 42/5000\n",
      "46/46 [==============================] - 4s 87ms/step - loss: 397.9141 - mae: 398.6061 - val_loss: 10539.1641 - val_mae: 10539.8564\n",
      "Epoch 43/5000\n",
      "46/46 [==============================] - 3s 64ms/step - loss: 415.0620 - mae: 415.7524 - val_loss: 10480.2861 - val_mae: 10480.9795\n",
      "Epoch 44/5000\n",
      "46/46 [==============================] - 3s 69ms/step - loss: 421.3907 - mae: 422.0812 - val_loss: 10142.0811 - val_mae: 10142.7744\n",
      "Epoch 45/5000\n",
      "46/46 [==============================] - 3s 74ms/step - loss: 390.7686 - mae: 391.4601 - val_loss: 11004.3340 - val_mae: 11005.0254\n",
      "Epoch 46/5000\n",
      "46/46 [==============================] - 3s 55ms/step - loss: 410.6320 - mae: 411.3239 - val_loss: 11205.8359 - val_mae: 11206.5283\n",
      "Epoch 47/5000\n",
      "46/46 [==============================] - 3s 64ms/step - loss: 380.3479 - mae: 381.0382 - val_loss: 10592.5107 - val_mae: 10593.2031\n",
      "Epoch 48/5000\n",
      "46/46 [==============================] - 3s 69ms/step - loss: 376.7192 - mae: 377.4109 - val_loss: 10500.4199 - val_mae: 10501.1143\n",
      "Epoch 49/5000\n",
      "46/46 [==============================] - 4s 78ms/step - loss: 386.3123 - mae: 387.0042 - val_loss: 10896.7617 - val_mae: 10897.4541\n",
      "Epoch 50/5000\n",
      "46/46 [==============================] - 5s 106ms/step - loss: 385.7686 - mae: 386.4606 - val_loss: 9986.8252 - val_mae: 9987.5186\n",
      "Epoch 51/5000\n",
      "46/46 [==============================] - 5s 112ms/step - loss: 378.3819 - mae: 379.0721 - val_loss: 10124.3125 - val_mae: 10125.0039\n",
      "Epoch 52/5000\n",
      "46/46 [==============================] - 5s 98ms/step - loss: 417.2305 - mae: 417.9218 - val_loss: 10442.0732 - val_mae: 10442.7676\n",
      "Epoch 53/5000\n",
      "46/46 [==============================] - 3s 62ms/step - loss: 396.2704 - mae: 396.9615 - val_loss: 10758.7588 - val_mae: 10759.4512\n",
      "Epoch 54/5000\n",
      "46/46 [==============================] - 3s 67ms/step - loss: 370.1787 - mae: 370.8697 - val_loss: 10364.1719 - val_mae: 10364.8652\n",
      "Epoch 55/5000\n"
     ]
    },
    {
     "name": "stdout",
     "output_type": "stream",
     "text": [
      "46/46 [==============================] - 3s 69ms/step - loss: 389.2327 - mae: 389.9241 - val_loss: 10195.2139 - val_mae: 10195.9072\n",
      "Epoch 56/5000\n",
      "46/46 [==============================] - 3s 54ms/step - loss: 380.8898 - mae: 381.5808 - val_loss: 10246.8018 - val_mae: 10247.4941\n",
      "Epoch 57/5000\n",
      "46/46 [==============================] - 3s 57ms/step - loss: 378.4778 - mae: 379.1687 - val_loss: 10975.8066 - val_mae: 10976.5000\n",
      "Epoch 58/5000\n",
      "46/46 [==============================] - 3s 60ms/step - loss: 382.7593 - mae: 383.4494 - val_loss: 10644.6836 - val_mae: 10645.3760\n",
      "Epoch 59/5000\n",
      "46/46 [==============================] - 2s 53ms/step - loss: 373.0579 - mae: 373.7501 - val_loss: 11052.3965 - val_mae: 11053.0898\n",
      "Epoch 60/5000\n",
      "46/46 [==============================] - 3s 56ms/step - loss: 381.3656 - mae: 382.0573 - val_loss: 10440.6914 - val_mae: 10441.3838\n",
      "Epoch 61/5000\n",
      "46/46 [==============================] - 3s 60ms/step - loss: 355.3510 - mae: 356.0408 - val_loss: 10386.1562 - val_mae: 10386.8486\n",
      "Epoch 62/5000\n",
      "46/46 [==============================] - 3s 74ms/step - loss: 383.7337 - mae: 384.4245 - val_loss: 10308.7217 - val_mae: 10309.4121\n",
      "Epoch 63/5000\n",
      "24/46 [==============>...............] - ETA: 1s - loss: 364.1361 - mae: 364.8264"
     ]
    }
   ],
   "source": [
    "tuner= kt.RandomSearch(\n",
    "        build_model,\n",
    "        objective='val_mse',\n",
    "        max_trials=10,\n",
    "        executions_per_trial=1,\n",
    "        directory='btc_tune',\n",
    "        project_name='LSTM_TUNE'\n",
    "        )\n",
    "\n",
    "tuner.search(\n",
    "        x=X_train,\n",
    "        y=Y_train,\n",
    "        epochs=5000,\n",
    "        batch_size=32,\n",
    "        validation_data=(X_val,Y_val),\n",
    "        callbacks=[earlyStopping]\n",
    ")"
   ]
  },
  {
   "cell_type": "code",
   "execution_count": null,
   "metadata": {},
   "outputs": [],
   "source": [
    "# Get the best hyperparameters.\n",
    "best_hp = tuner.get_best_hyperparameters()[0]\n",
    "# Build the model with the best hp.\n",
    "regressor = build_model(best_hp)\n",
    "# Fit with the entire dataset.\n",
    "X_val = np.concatenate((X_train, X_val))\n",
    "Y_val = np.concatenate((Y_train, Y_val))\n"
   ]
  },
  {
   "cell_type": "code",
   "execution_count": null,
   "metadata": {},
   "outputs": [],
   "source": [
    "regressor.fit(x=X_all, y=Y_all, epochs=5000, batch_size=32, use_multiprocessing=True, callbacks=[earlyStopping])"
   ]
  },
  {
   "cell_type": "code",
   "execution_count": null,
   "id": "adf8814a",
   "metadata": {},
   "outputs": [],
   "source": [
    "\n",
    "y_pred=regressor.predict(X_test)"
   ]
  },
  {
   "cell_type": "code",
   "execution_count": null,
   "id": "0b0f090b",
   "metadata": {},
   "outputs": [],
   "source": [
    "# for check\n",
    "Y_train_pred=regressor.predict(X_train)\n",
    "r2_score(Y_train, Y_train_pred) #training score"
   ]
  },
  {
   "cell_type": "code",
   "execution_count": null,
   "id": "e757ef47",
   "metadata": {},
   "outputs": [],
   "source": [
    "r2=r2_score(Y_test[:-30],y_pred[:-30]) #score/ r^2\n",
    "print(f'r2:{r2}')"
   ]
  },
  {
   "cell_type": "code",
   "execution_count": null,
   "id": "00ef1c53",
   "metadata": {},
   "outputs": [],
   "source": [
    "# r2_oos\n",
    "def r2_oos(ret, pred):\n",
    "    sum_of_sq_res = np.nansum(np.power((ret-pred), 2))\n",
    "    sum_of_sq_total = np.nansum(np.power(ret, 2))\n",
    "    \n",
    "    return 1-sum_of_sq_res/sum_of_sq_total"
   ]
  },
  {
   "cell_type": "code",
   "execution_count": null,
   "id": "70b87143",
   "metadata": {},
   "outputs": [],
   "source": [
    "mae=mean_absolute_error(Y_test[:-30],y_pred[:-30]) #mae\n",
    "print(f'mae:{mae}')\n",
    "\n",
    "rmse=np.sqrt(mean_squared_error(Y_test[:-30],y_pred[:-30])) #rmse\n",
    "print(f'rmse:{rmse}')\n",
    "\n",
    "mape=mean_absolute_percentage_error(Y_test[:-30],y_pred[:-30]) #mape\n",
    "print(f'mape:{mape}')"
   ]
  },
  {
   "cell_type": "code",
   "execution_count": null,
   "metadata": {},
   "outputs": [],
   "source": [
    "y_pred = y_pred.ravel()"
   ]
  },
  {
   "cell_type": "code",
   "execution_count": null,
   "id": "8969a6b7",
   "metadata": {},
   "outputs": [],
   "source": [
    "r2_oos = r2_oos(Y_test[:-30], y_pred[:-30])\n",
    "print(f'r2_oos:{r2_oos}')"
   ]
  },
  {
   "cell_type": "markdown",
   "id": "8bb36caf",
   "metadata": {},
   "source": [
    "-----------------------------"
   ]
  },
  {
   "cell_type": "code",
   "execution_count": null,
   "id": "a5641115",
   "metadata": {},
   "outputs": [],
   "source": [
    "pre_df = pd.DataFrame(zip(Y_test,y_pred),columns=['Y_test','y_pred'])\n",
    "pre_df.index = Y_test.index\n",
    "pre_df"
   ]
  },
  {
   "cell_type": "code",
   "execution_count": null,
   "id": "4f4bd2ca",
   "metadata": {},
   "outputs": [],
   "source": [
    "pre_df['pred_returns'] = pre_df['y_pred'].pct_change()"
   ]
  },
  {
   "cell_type": "code",
   "execution_count": null,
   "id": "0b94aa95",
   "metadata": {},
   "outputs": [],
   "source": [
    "pre_df"
   ]
  },
  {
   "cell_type": "code",
   "execution_count": null,
   "id": "0d9674c7",
   "metadata": {},
   "outputs": [],
   "source": [
    "pd.DataFrame(zip(Y_test,y_pred),columns=['Y_test','y_pred']).plot()"
   ]
  },
  {
   "cell_type": "code",
   "execution_count": null,
   "id": "732393ad",
   "metadata": {},
   "outputs": [],
   "source": [
    "pre_df.to_csv(\"../result/LSTM/btc_lstm.csv\")"
   ]
  },
  {
   "cell_type": "code",
   "execution_count": null,
   "metadata": {},
   "outputs": [],
   "source": [
    "\n",
    "!kdeconnect-cli -n TAS-AN00 --ping-msg 'Script complete!'"
   ]
  }
 ],
 "metadata": {
  "colab": {
   "collapsed_sections": [],
   "name": "Stock Market Predictor.ipynb",
   "provenance": [],
   "toc_visible": true
  },
  "kernelspec": {
   "display_name": "Python 3 (ipykernel)",
   "language": "python",
   "name": "python3"
  },
  "language_info": {
   "codemirror_mode": {
    "name": "ipython",
    "version": 3
   },
   "file_extension": ".py",
   "mimetype": "text/x-python",
   "name": "python",
   "nbconvert_exporter": "python",
   "pygments_lexer": "ipython3",
   "version": "3.10.8"
  },
  "vscode": {
   "interpreter": {
    "hash": "efc08374433b8d8e4a9fd8a0a66f7295c7ce37eceb639810a945045512ff181b"
   }
  }
 },
 "nbformat": 4,
 "nbformat_minor": 1
}
