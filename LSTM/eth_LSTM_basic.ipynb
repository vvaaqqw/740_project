{
 "cells": [
  {
   "cell_type": "markdown",
   "metadata": {
    "colab_type": "text",
    "id": "TKAxbUFku8lD"
   },
   "source": [
    "# **Dependancies**"
   ]
  },
  {
   "cell_type": "code",
   "execution_count": 1,
   "metadata": {
    "colab": {},
    "colab_type": "code",
    "id": "oFJOnSzBk_uB"
   },
   "outputs": [
    {
     "name": "stderr",
     "output_type": "stream",
     "text": [
      "2022-12-04 14:45:43.228668: I tensorflow/core/platform/cpu_feature_guard.cc:193] This TensorFlow binary is optimized with oneAPI Deep Neural Network Library (oneDNN) to use the following CPU instructions in performance-critical operations:  SSE4.1 SSE4.2 AVX AVX2 AVX512F AVX512_VNNI FMA\n",
      "To enable them in other operations, rebuild TensorFlow with the appropriate compiler flags.\n"
     ]
    }
   ],
   "source": [
    "import numpy as np\n",
    "import pandas as pd\n",
    "import matplotlib.pyplot as plt\n",
    "from keras import *\n",
    "from keras.callbacks import *\n",
    "import os\n",
    "from sklearn.preprocessing import MinMaxScaler, RobustScaler\n",
    "from sklearn.model_selection import train_test_split\n",
    "from sklearn.metrics import r2_score, mean_absolute_error, mean_squared_error\n",
    "from keras.layers import *\n",
    "from sklearn.pipeline import Pipeline"
   ]
  },
  {
   "cell_type": "code",
   "execution_count": 2,
   "metadata": {},
   "outputs": [],
   "source": [
    "def mean_absolute_percentage_error(y_true, y_pred): \n",
    "    y_true, y_pred = np.array(y_true), np.array(y_pred)\n",
    "    return np.mean(np.abs((y_true - y_pred) / y_true)) * 100"
   ]
  },
  {
   "cell_type": "markdown",
   "metadata": {
    "colab_type": "text",
    "id": "22PseW2xqQET"
   },
   "source": [
    "# **Loading Data**"
   ]
  },
  {
   "cell_type": "code",
   "execution_count": 3,
   "metadata": {},
   "outputs": [],
   "source": [
    "selected = pd.read_csv(\"../Data/train_eth_selected_features.csv\")\n",
    "eth = pd.read_csv(\"../Data/ethereum_Data.csv\")\n",
    "eth['Date'] = pd.to_datetime(eth['Date'])\n",
    "eth = eth.set_index(\"Date\")"
   ]
  },
  {
   "cell_type": "code",
   "execution_count": 4,
   "metadata": {},
   "outputs": [
    {
     "name": "stderr",
     "output_type": "stream",
     "text": [
      "/tmp/ipykernel_2857409/2726769664.py:2: SettingWithCopyWarning: \n",
      "A value is trying to be set on a copy of a slice from a DataFrame.\n",
      "Try using .loc[row_indexer,col_indexer] = value instead\n",
      "\n",
      "See the caveats in the documentation: https://pandas.pydata.org/pandas-docs/stable/user_guide/indexing.html#returning-a-view-versus-a-copy\n",
      "  ethData['returns'] = ethData['priceUSD'].pct_change().copy()\n"
     ]
    }
   ],
   "source": [
    "ethData = eth[selected.columns]\n",
    "ethData['returns'] = ethData['priceUSD'].pct_change().copy()\n",
    "Data = ethData.drop(columns=['priceUSD'])\n",
    "Data = Data[1:]\n",
    "# divide X and Y\n",
    "X = Data.iloc[:,0:]\n",
    "#Y = Data['returns']   # 用returns的话就用这一行，然后把下一行comment掉\n",
    "Y = ethData['priceUSD'].shift(-30)[1:] # 反之亦然\n",
    "# Split into three data sets\n",
    "X_train = X['2016-01-01':'2019-12-31']\n",
    "X_val = X['2020-01-01':'2021-05-31']\n",
    "X_test = X['2021-06-01':'2023-01-01']\n",
    "\n",
    "Y_train = Y['2016-01-01':'2019-12-31']\n",
    "Y_val = Y['2020-01-01':'2021-05-31']\n",
    "Y_test = Y['2021-06-01':'2023-01-01']"
   ]
  },
  {
   "cell_type": "code",
   "execution_count": 5,
   "metadata": {},
   "outputs": [
    {
     "name": "stdout",
     "output_type": "stream",
     "text": [
      "[Pipeline] ............ (step 1 of 2) Processing mixmax, total=   0.0s\n",
      "[Pipeline] ............ (step 2 of 2) Processing robust, total=   0.0s\n"
     ]
    }
   ],
   "source": [
    "estimators=[]\n",
    "estimators.append(['mixmax',MinMaxScaler()])\n",
    "estimators.append(['robust',RobustScaler()])\n",
    "scale=Pipeline(estimators,verbose=True)\n",
    "scale.fit(X_train)\n",
    "X_train=scale.transform(X_train)\n",
    "X_test=scale.transform(X_test)\n",
    "X_val = scale.transform(X_val)\n",
    "tmp_index = Y_test.index"
   ]
  },
  {
   "cell_type": "code",
   "execution_count": 6,
   "metadata": {},
   "outputs": [],
   "source": [
    "X_train=np.reshape(X_train,(X_train.shape[0],1,X_train.shape[1]))\n",
    "X_val=np.reshape(X_val,(X_val.shape[0],1,X_val.shape[1]))\n",
    "X_test=np.reshape(X_test,(X_test.shape[0],1,X_test.shape[1]))\n",
    "Y_train=Y_train.values\n",
    "Y_train=np.reshape(Y_train, (Y_train.shape[0],1,1))\n",
    "Y_val=Y_val.values\n",
    "Y_val=np.reshape(Y_val, (Y_val.shape[0],1,1))\n",
    "Y_test=Y_test.values\n",
    "Y_test=np.reshape(Y_test, (Y_test.shape[0],1,1))"
   ]
  },
  {
   "cell_type": "code",
   "execution_count": 7,
   "metadata": {},
   "outputs": [],
   "source": [
    "def lr_schedule(epoch):\n",
    "    \"\"\"Learning Rate Schedule\n",
    "\n",
    "    Learning rate is scheduled to be reduced after 80, 120, 160, 180 epochs.\n",
    "    Called automatically every epoch as part of callbacks during training.\n",
    "\n",
    "    # Arguments\n",
    "        epoch (int): The number of epochs\n",
    "\n",
    "    # Returns\n",
    "        lr (float32): learning rate\n",
    "    \"\"\"\n",
    "    lr = 1e-3\n",
    "    if epoch > 180:\n",
    "        lr *= 0.5e-3\n",
    "    elif epoch > 160:\n",
    "        lr *= 1e-3\n",
    "    elif epoch > 120:\n",
    "        lr *= 1e-2\n",
    "    elif epoch > 80:\n",
    "        lr *= 1e-1\n",
    "    print('Learning rate: ', lr)\n",
    "    return lr"
   ]
  },
  {
   "cell_type": "code",
   "execution_count": 8,
   "metadata": {
    "colab": {
     "base_uri": "https://localhost:8080/",
     "height": 72
    },
    "colab_type": "code",
    "id": "NBZ9JgDTrHwV",
    "outputId": "40d0a5ca-682d-42d1-e08b-fd28df246868"
   },
   "outputs": [
    {
     "name": "stdout",
     "output_type": "stream",
     "text": [
      "Learning rate:  0.001\n"
     ]
    },
    {
     "name": "stderr",
     "output_type": "stream",
     "text": [
      "/home/spectre/anaconda3/envs/tensorplustorch/lib/python3.10/site-packages/keras/optimizers/optimizer_v2/adam.py:114: UserWarning: The `lr` argument is deprecated, use `learning_rate` instead.\n",
      "  super().__init__(name, **kwargs)\n"
     ]
    }
   ],
   "source": [
    "adam=optimizers.Adam(lr=lr_schedule(0),amsgrad=True)\n"
   ]
  },
  {
   "cell_type": "markdown",
   "metadata": {},
   "source": [
    "# https://medium.com/analytics-vidhya/hypertuning-a-lstm-with-keras-tuner-to-forecast-solar-irradiance-7da7577e96eb"
   ]
  },
  {
   "cell_type": "code",
   "execution_count": 9,
   "metadata": {},
   "outputs": [
    {
     "name": "stderr",
     "output_type": "stream",
     "text": [
      "2022-12-04 14:45:44.362735: I tensorflow/core/platform/cpu_feature_guard.cc:193] This TensorFlow binary is optimized with oneAPI Deep Neural Network Library (oneDNN) to use the following CPU instructions in performance-critical operations:  SSE4.1 SSE4.2 AVX AVX2 AVX512F AVX512_VNNI FMA\n",
      "To enable them in other operations, rebuild TensorFlow with the appropriate compiler flags.\n",
      "2022-12-04 14:45:44.363964: I tensorflow/core/common_runtime/process_util.cc:146] Creating new thread pool with default inter op setting: 2. Tune using inter_op_parallelism_threads for best performance.\n"
     ]
    }
   ],
   "source": [
    "regressor = Sequential()\n",
    "regressor.add(Bidirectional(LSTM(350, return_sequences=True, activation='relu'), input_shape=(1, X_train.shape[2])))\n",
    "regressor.add(Bidirectional(LSTM(350, return_sequences=True, activation='relu')))\n",
    "regressor.add(Dense(1))\n",
    "regressor.compile(loss=\"logcosh\", optimizer=adam, metrics=['mae'])"
   ]
  },
  {
   "cell_type": "code",
   "execution_count": 10,
   "metadata": {
    "colab": {},
    "colab_type": "code",
    "id": "0WWSdc7AxKV6"
   },
   "outputs": [],
   "source": [
    "earlyStopping = EarlyStopping(monitor='val_loss', patience=1000, verbose=1, mode='auto')"
   ]
  },
  {
   "cell_type": "code",
   "execution_count": 11,
   "metadata": {
    "scrolled": false
   },
   "outputs": [
    {
     "name": "stdout",
     "output_type": "stream",
     "text": [
      "Epoch 1/5000\n",
      "46/46 [==============================] - 4s 49ms/step - loss: 203.4476 - mae: 204.1376 - val_loss: 538.3079 - val_mae: 539.0010\n",
      "Epoch 2/5000\n",
      "46/46 [==============================] - 2s 40ms/step - loss: 155.5501 - mae: 156.2351 - val_loss: 889.1604 - val_mae: 889.8528\n",
      "Epoch 3/5000\n",
      "46/46 [==============================] - 2s 40ms/step - loss: 95.0400 - mae: 95.7220 - val_loss: 1576.6250 - val_mae: 1577.3182\n",
      "Epoch 4/5000\n",
      "46/46 [==============================] - 2s 36ms/step - loss: 71.5030 - mae: 72.1829 - val_loss: 1889.3174 - val_mae: 1890.0081\n",
      "Epoch 5/5000\n",
      "46/46 [==============================] - 2s 34ms/step - loss: 59.7304 - mae: 60.4062 - val_loss: 1744.4734 - val_mae: 1745.1649\n",
      "Epoch 6/5000\n",
      "46/46 [==============================] - 2s 39ms/step - loss: 53.9296 - mae: 54.6026 - val_loss: 1549.2076 - val_mae: 1549.9003\n",
      "Epoch 7/5000\n",
      "46/46 [==============================] - 2s 34ms/step - loss: 49.9833 - mae: 50.6574 - val_loss: 1597.1471 - val_mae: 1597.8391\n",
      "Epoch 8/5000\n",
      "46/46 [==============================] - 2s 38ms/step - loss: 47.5802 - mae: 48.2537 - val_loss: 1476.4506 - val_mae: 1477.1436\n",
      "Epoch 9/5000\n",
      "46/46 [==============================] - 2s 39ms/step - loss: 46.1046 - mae: 46.7753 - val_loss: 1339.0400 - val_mae: 1339.7322\n",
      "Epoch 10/5000\n",
      "46/46 [==============================] - 2s 42ms/step - loss: 44.2788 - mae: 44.9524 - val_loss: 1151.7147 - val_mae: 1152.4062\n",
      "Epoch 11/5000\n",
      "46/46 [==============================] - 2s 40ms/step - loss: 41.9665 - mae: 42.6374 - val_loss: 970.1859 - val_mae: 970.8773\n",
      "Epoch 12/5000\n",
      "46/46 [==============================] - 2s 42ms/step - loss: 40.5037 - mae: 41.1687 - val_loss: 950.9530 - val_mae: 951.6456\n",
      "Epoch 13/5000\n",
      "46/46 [==============================] - 2s 40ms/step - loss: 38.8293 - mae: 39.4949 - val_loss: 880.1492 - val_mae: 880.8395\n",
      "Epoch 14/5000\n",
      "46/46 [==============================] - 2s 48ms/step - loss: 38.1797 - mae: 38.8442 - val_loss: 716.8853 - val_mae: 717.5767\n",
      "Epoch 15/5000\n",
      "46/46 [==============================] - 2s 51ms/step - loss: 37.1840 - mae: 37.8487 - val_loss: 642.2643 - val_mae: 642.9565\n",
      "Epoch 16/5000\n",
      "46/46 [==============================] - 2s 50ms/step - loss: 35.4707 - mae: 36.1288 - val_loss: 644.5949 - val_mae: 645.2873\n",
      "Epoch 17/5000\n",
      "46/46 [==============================] - 2s 51ms/step - loss: 35.1980 - mae: 35.8574 - val_loss: 489.5647 - val_mae: 490.2538\n",
      "Epoch 18/5000\n",
      "46/46 [==============================] - 2s 38ms/step - loss: 34.1713 - mae: 34.8308 - val_loss: 476.9099 - val_mae: 477.6006\n",
      "Epoch 19/5000\n",
      "46/46 [==============================] - 2s 34ms/step - loss: 33.1261 - mae: 33.7781 - val_loss: 403.5533 - val_mae: 404.2452\n",
      "Epoch 20/5000\n",
      "46/46 [==============================] - 2s 34ms/step - loss: 32.2055 - mae: 32.8613 - val_loss: 395.5732 - val_mae: 396.2651\n",
      "Epoch 21/5000\n",
      "46/46 [==============================] - 2s 41ms/step - loss: 31.6542 - mae: 32.3103 - val_loss: 388.6936 - val_mae: 389.3839\n",
      "Epoch 22/5000\n",
      "46/46 [==============================] - 2s 40ms/step - loss: 30.2230 - mae: 30.8727 - val_loss: 383.4976 - val_mae: 384.1866\n",
      "Epoch 23/5000\n",
      "46/46 [==============================] - 2s 35ms/step - loss: 29.6951 - mae: 30.3436 - val_loss: 383.2623 - val_mae: 383.9550\n",
      "Epoch 24/5000\n",
      "46/46 [==============================] - 2s 39ms/step - loss: 28.9846 - mae: 29.6307 - val_loss: 379.3683 - val_mae: 380.0584\n",
      "Epoch 25/5000\n",
      "46/46 [==============================] - 2s 47ms/step - loss: 28.0897 - mae: 28.7295 - val_loss: 377.3362 - val_mae: 378.0267\n",
      "Epoch 26/5000\n",
      "46/46 [==============================] - 2s 48ms/step - loss: 28.7776 - mae: 29.4213 - val_loss: 382.5565 - val_mae: 383.2466\n",
      "Epoch 27/5000\n",
      "46/46 [==============================] - 2s 47ms/step - loss: 27.8349 - mae: 28.4797 - val_loss: 408.7324 - val_mae: 409.4250\n",
      "Epoch 28/5000\n",
      "46/46 [==============================] - 2s 41ms/step - loss: 26.8673 - mae: 27.5095 - val_loss: 431.6683 - val_mae: 432.3594\n",
      "Epoch 29/5000\n",
      "46/46 [==============================] - 2s 36ms/step - loss: 25.2936 - mae: 25.9342 - val_loss: 510.9570 - val_mae: 511.6490\n",
      "Epoch 30/5000\n",
      "46/46 [==============================] - 2s 43ms/step - loss: 25.3924 - mae: 26.0312 - val_loss: 485.3800 - val_mae: 486.0712\n",
      "Epoch 31/5000\n",
      "46/46 [==============================] - 2s 40ms/step - loss: 24.6635 - mae: 25.3036 - val_loss: 454.5688 - val_mae: 455.2606\n",
      "Epoch 32/5000\n",
      "46/46 [==============================] - 2s 41ms/step - loss: 23.2679 - mae: 23.9064 - val_loss: 455.2244 - val_mae: 455.9161\n",
      "Epoch 33/5000\n",
      "46/46 [==============================] - 2s 42ms/step - loss: 23.7346 - mae: 24.3681 - val_loss: 488.7748 - val_mae: 489.4669\n",
      "Epoch 34/5000\n",
      "46/46 [==============================] - 2s 37ms/step - loss: 23.4800 - mae: 24.1294 - val_loss: 492.3284 - val_mae: 493.0211\n",
      "Epoch 35/5000\n",
      "46/46 [==============================] - 2s 38ms/step - loss: 22.5847 - mae: 23.2213 - val_loss: 518.7086 - val_mae: 519.4010\n",
      "Epoch 36/5000\n",
      "46/46 [==============================] - 2s 39ms/step - loss: 22.9379 - mae: 23.5824 - val_loss: 513.4752 - val_mae: 514.1647\n",
      "Epoch 37/5000\n",
      "46/46 [==============================] - 2s 35ms/step - loss: 22.8612 - mae: 23.5078 - val_loss: 464.7376 - val_mae: 465.4281\n",
      "Epoch 38/5000\n",
      "46/46 [==============================] - 2s 37ms/step - loss: 22.3011 - mae: 22.9433 - val_loss: 494.0064 - val_mae: 494.6992\n",
      "Epoch 39/5000\n",
      "46/46 [==============================] - 2s 37ms/step - loss: 21.0450 - mae: 21.6818 - val_loss: 487.3159 - val_mae: 488.0089\n",
      "Epoch 40/5000\n",
      "46/46 [==============================] - 2s 52ms/step - loss: 20.8240 - mae: 21.4627 - val_loss: 484.9503 - val_mae: 485.6410\n",
      "Epoch 41/5000\n",
      "46/46 [==============================] - 2s 39ms/step - loss: 21.2402 - mae: 21.8772 - val_loss: 498.2881 - val_mae: 498.9795\n",
      "Epoch 42/5000\n",
      "46/46 [==============================] - 2s 37ms/step - loss: 21.1777 - mae: 21.8177 - val_loss: 497.0298 - val_mae: 497.7227\n",
      "Epoch 43/5000\n",
      "46/46 [==============================] - 2s 39ms/step - loss: 20.6017 - mae: 21.2357 - val_loss: 459.0982 - val_mae: 459.7882\n",
      "Epoch 44/5000\n",
      "46/46 [==============================] - 2s 40ms/step - loss: 19.8268 - mae: 20.4663 - val_loss: 506.9709 - val_mae: 507.6628\n",
      "Epoch 45/5000\n",
      "46/46 [==============================] - 2s 40ms/step - loss: 20.0469 - mae: 20.6824 - val_loss: 507.8076 - val_mae: 508.4991\n",
      "Epoch 46/5000\n",
      "46/46 [==============================] - 2s 38ms/step - loss: 19.2625 - mae: 19.8987 - val_loss: 490.3867 - val_mae: 491.0789\n",
      "Epoch 47/5000\n",
      "46/46 [==============================] - 2s 36ms/step - loss: 19.2867 - mae: 19.9220 - val_loss: 467.3321 - val_mae: 468.0228\n",
      "Epoch 48/5000\n",
      "46/46 [==============================] - 2s 40ms/step - loss: 18.4102 - mae: 19.0484 - val_loss: 488.7015 - val_mae: 489.3916\n",
      "Epoch 49/5000\n",
      "46/46 [==============================] - 2s 41ms/step - loss: 18.3744 - mae: 19.0078 - val_loss: 483.4911 - val_mae: 484.1803\n",
      "Epoch 50/5000\n",
      "46/46 [==============================] - 2s 42ms/step - loss: 18.7072 - mae: 19.3478 - val_loss: 438.1480 - val_mae: 438.8383\n",
      "Epoch 51/5000\n",
      "46/46 [==============================] - 2s 48ms/step - loss: 18.3709 - mae: 19.0115 - val_loss: 453.2659 - val_mae: 453.9573\n",
      "Epoch 52/5000\n",
      "46/46 [==============================] - 2s 49ms/step - loss: 18.5708 - mae: 19.2073 - val_loss: 468.5835 - val_mae: 469.2739\n",
      "Epoch 53/5000\n",
      "46/46 [==============================] - 2s 47ms/step - loss: 17.8250 - mae: 18.4573 - val_loss: 447.4690 - val_mae: 448.1608\n",
      "Epoch 54/5000\n",
      "46/46 [==============================] - 2s 47ms/step - loss: 18.2491 - mae: 18.8835 - val_loss: 466.2365 - val_mae: 466.9283\n",
      "Epoch 55/5000\n",
      "46/46 [==============================] - 2s 48ms/step - loss: 18.1249 - mae: 18.7680 - val_loss: 475.7327 - val_mae: 476.4230\n",
      "Epoch 56/5000\n",
      "46/46 [==============================] - 2s 44ms/step - loss: 17.8065 - mae: 18.4375 - val_loss: 440.2707 - val_mae: 440.9603\n",
      "Epoch 57/5000\n",
      "46/46 [==============================] - 2s 38ms/step - loss: 17.3954 - mae: 18.0288 - val_loss: 421.1647 - val_mae: 421.8571\n",
      "Epoch 58/5000\n",
      "46/46 [==============================] - 2s 49ms/step - loss: 16.8193 - mae: 17.4526 - val_loss: 429.5235 - val_mae: 430.2163\n",
      "Epoch 59/5000\n"
     ]
    },
    {
     "name": "stdout",
     "output_type": "stream",
     "text": [
      "46/46 [==============================] - 2s 44ms/step - loss: 17.0903 - mae: 17.7263 - val_loss: 432.9390 - val_mae: 433.6301\n",
      "Epoch 60/5000\n",
      "46/46 [==============================] - 2s 36ms/step - loss: 17.8452 - mae: 18.4817 - val_loss: 455.0829 - val_mae: 455.7753\n",
      "Epoch 61/5000\n",
      "46/46 [==============================] - 2s 37ms/step - loss: 16.7913 - mae: 17.4203 - val_loss: 435.7459 - val_mae: 436.4371\n",
      "Epoch 62/5000\n",
      "46/46 [==============================] - 2s 43ms/step - loss: 16.4046 - mae: 17.0398 - val_loss: 428.2325 - val_mae: 428.9235\n",
      "Epoch 63/5000\n",
      "46/46 [==============================] - 2s 40ms/step - loss: 16.3347 - mae: 16.9656 - val_loss: 446.8988 - val_mae: 447.5893\n",
      "Epoch 64/5000\n",
      "46/46 [==============================] - 2s 33ms/step - loss: 15.6690 - mae: 16.2958 - val_loss: 426.2600 - val_mae: 426.9509\n",
      "Epoch 65/5000\n",
      "46/46 [==============================] - 2s 39ms/step - loss: 16.2940 - mae: 16.9328 - val_loss: 425.4432 - val_mae: 426.1335\n",
      "Epoch 66/5000\n",
      "46/46 [==============================] - 2s 48ms/step - loss: 16.0966 - mae: 16.7300 - val_loss: 427.3032 - val_mae: 427.9948\n",
      "Epoch 67/5000\n",
      "46/46 [==============================] - 2s 42ms/step - loss: 16.1105 - mae: 16.7349 - val_loss: 419.5738 - val_mae: 420.2623\n",
      "Epoch 68/5000\n",
      "46/46 [==============================] - 2s 35ms/step - loss: 15.8496 - mae: 16.4775 - val_loss: 419.2514 - val_mae: 419.9398\n",
      "Epoch 69/5000\n",
      "46/46 [==============================] - 2s 34ms/step - loss: 15.7779 - mae: 16.4049 - val_loss: 439.3626 - val_mae: 440.0544\n",
      "Epoch 70/5000\n",
      "46/46 [==============================] - 2s 36ms/step - loss: 15.4487 - mae: 16.0780 - val_loss: 427.7154 - val_mae: 428.4041\n",
      "Epoch 71/5000\n",
      "46/46 [==============================] - 2s 41ms/step - loss: 15.3518 - mae: 15.9818 - val_loss: 407.7119 - val_mae: 408.4018\n",
      "Epoch 72/5000\n",
      "46/46 [==============================] - 2s 39ms/step - loss: 15.0085 - mae: 15.6356 - val_loss: 399.4887 - val_mae: 400.1783\n",
      "Epoch 73/5000\n",
      "46/46 [==============================] - 2s 37ms/step - loss: 15.0068 - mae: 15.6320 - val_loss: 425.3779 - val_mae: 426.0698\n",
      "Epoch 74/5000\n",
      "46/46 [==============================] - 2s 53ms/step - loss: 14.8235 - mae: 15.4534 - val_loss: 432.4853 - val_mae: 433.1768\n",
      "Epoch 75/5000\n",
      "46/46 [==============================] - 2s 47ms/step - loss: 15.5358 - mae: 16.1635 - val_loss: 450.9236 - val_mae: 451.6146\n",
      "Epoch 76/5000\n",
      "46/46 [==============================] - 2s 43ms/step - loss: 14.9742 - mae: 15.6028 - val_loss: 429.0683 - val_mae: 429.7586\n",
      "Epoch 77/5000\n",
      "46/46 [==============================] - 2s 34ms/step - loss: 15.1980 - mae: 15.8210 - val_loss: 413.9418 - val_mae: 414.6308\n",
      "Epoch 78/5000\n",
      "46/46 [==============================] - 2s 39ms/step - loss: 14.1079 - mae: 14.7290 - val_loss: 421.8118 - val_mae: 422.5030\n",
      "Epoch 79/5000\n",
      "46/46 [==============================] - 2s 39ms/step - loss: 13.9825 - mae: 14.6064 - val_loss: 407.4539 - val_mae: 408.1447\n",
      "Epoch 80/5000\n",
      "46/46 [==============================] - 2s 40ms/step - loss: 14.7186 - mae: 15.3419 - val_loss: 389.4612 - val_mae: 390.1515\n",
      "Epoch 81/5000\n",
      "46/46 [==============================] - 2s 37ms/step - loss: 15.4776 - mae: 16.0963 - val_loss: 396.6155 - val_mae: 397.3052\n",
      "Epoch 82/5000\n",
      "46/46 [==============================] - 2s 36ms/step - loss: 13.8289 - mae: 14.4546 - val_loss: 401.1488 - val_mae: 401.8395\n",
      "Epoch 83/5000\n",
      "46/46 [==============================] - 2s 45ms/step - loss: 13.9514 - mae: 14.5765 - val_loss: 405.9749 - val_mae: 406.6651\n",
      "Epoch 84/5000\n",
      "46/46 [==============================] - 2s 39ms/step - loss: 13.5364 - mae: 14.1480 - val_loss: 425.1410 - val_mae: 425.8330\n",
      "Epoch 85/5000\n",
      "46/46 [==============================] - 2s 41ms/step - loss: 13.8694 - mae: 14.4991 - val_loss: 440.1953 - val_mae: 440.8849\n",
      "Epoch 86/5000\n",
      "46/46 [==============================] - 2s 43ms/step - loss: 13.3120 - mae: 13.9405 - val_loss: 387.5904 - val_mae: 388.2808\n",
      "Epoch 87/5000\n",
      "46/46 [==============================] - 2s 38ms/step - loss: 13.6191 - mae: 14.2347 - val_loss: 405.2881 - val_mae: 405.9762\n",
      "Epoch 88/5000\n",
      "46/46 [==============================] - 2s 45ms/step - loss: 13.7200 - mae: 14.3417 - val_loss: 412.4690 - val_mae: 413.1580\n",
      "Epoch 89/5000\n",
      "46/46 [==============================] - 2s 40ms/step - loss: 13.4633 - mae: 14.0902 - val_loss: 420.4962 - val_mae: 421.1866\n",
      "Epoch 90/5000\n",
      "46/46 [==============================] - 2s 42ms/step - loss: 13.5715 - mae: 14.1933 - val_loss: 398.3337 - val_mae: 399.0210\n",
      "Epoch 91/5000\n",
      "46/46 [==============================] - 2s 37ms/step - loss: 14.2315 - mae: 14.8496 - val_loss: 407.4024 - val_mae: 408.0934\n",
      "Epoch 92/5000\n",
      "46/46 [==============================] - 2s 38ms/step - loss: 13.6985 - mae: 14.3178 - val_loss: 410.3473 - val_mae: 411.0384\n",
      "Epoch 93/5000\n",
      "46/46 [==============================] - 2s 36ms/step - loss: 13.2108 - mae: 13.8244 - val_loss: 430.0215 - val_mae: 430.7110\n",
      "Epoch 94/5000\n",
      "46/46 [==============================] - 2s 37ms/step - loss: 13.6714 - mae: 14.2968 - val_loss: 416.1743 - val_mae: 416.8639\n",
      "Epoch 95/5000\n",
      "46/46 [==============================] - 2s 42ms/step - loss: 12.6764 - mae: 13.2888 - val_loss: 418.2034 - val_mae: 418.8939\n",
      "Epoch 96/5000\n",
      "46/46 [==============================] - 2s 43ms/step - loss: 13.2544 - mae: 13.8786 - val_loss: 403.7366 - val_mae: 404.4276\n",
      "Epoch 97/5000\n",
      "46/46 [==============================] - 2s 43ms/step - loss: 12.9880 - mae: 13.6055 - val_loss: 420.6446 - val_mae: 421.3357\n",
      "Epoch 98/5000\n",
      "46/46 [==============================] - 2s 40ms/step - loss: 12.8236 - mae: 13.4454 - val_loss: 410.6400 - val_mae: 411.3306\n",
      "Epoch 99/5000\n",
      "46/46 [==============================] - 2s 37ms/step - loss: 12.6744 - mae: 13.2940 - val_loss: 403.1742 - val_mae: 403.8653\n",
      "Epoch 100/5000\n",
      "46/46 [==============================] - 2s 41ms/step - loss: 12.7559 - mae: 13.3807 - val_loss: 393.0439 - val_mae: 393.7343\n",
      "Epoch 101/5000\n",
      "46/46 [==============================] - 2s 39ms/step - loss: 13.4892 - mae: 14.1084 - val_loss: 394.5464 - val_mae: 395.2375\n",
      "Epoch 102/5000\n",
      "46/46 [==============================] - 2s 37ms/step - loss: 12.7947 - mae: 13.4200 - val_loss: 433.9586 - val_mae: 434.6459\n",
      "Epoch 103/5000\n",
      "46/46 [==============================] - 2s 42ms/step - loss: 12.5790 - mae: 13.1950 - val_loss: 407.4519 - val_mae: 408.1439\n",
      "Epoch 104/5000\n",
      "46/46 [==============================] - 2s 39ms/step - loss: 12.2056 - mae: 12.8183 - val_loss: 410.5459 - val_mae: 411.2374\n",
      "Epoch 105/5000\n",
      "46/46 [==============================] - 2s 40ms/step - loss: 12.6164 - mae: 13.2298 - val_loss: 450.2037 - val_mae: 450.8954\n",
      "Epoch 106/5000\n",
      "46/46 [==============================] - 2s 43ms/step - loss: 12.2719 - mae: 12.8909 - val_loss: 400.5928 - val_mae: 401.2809\n",
      "Epoch 107/5000\n",
      "46/46 [==============================] - 2s 41ms/step - loss: 11.7462 - mae: 12.3500 - val_loss: 406.0658 - val_mae: 406.7574\n",
      "Epoch 108/5000\n",
      "46/46 [==============================] - 2s 43ms/step - loss: 11.9429 - mae: 12.5507 - val_loss: 423.5227 - val_mae: 424.2112\n",
      "Epoch 109/5000\n",
      "46/46 [==============================] - 2s 38ms/step - loss: 11.5883 - mae: 12.1971 - val_loss: 428.3697 - val_mae: 429.0606\n",
      "Epoch 110/5000\n",
      "46/46 [==============================] - 2s 35ms/step - loss: 11.6967 - mae: 12.3167 - val_loss: 453.0450 - val_mae: 453.7361\n",
      "Epoch 111/5000\n",
      "46/46 [==============================] - 2s 37ms/step - loss: 11.7190 - mae: 12.3356 - val_loss: 403.5280 - val_mae: 404.2191\n",
      "Epoch 112/5000\n",
      "46/46 [==============================] - 2s 40ms/step - loss: 11.2379 - mae: 11.8471 - val_loss: 416.2811 - val_mae: 416.9726\n",
      "Epoch 113/5000\n",
      "46/46 [==============================] - 2s 39ms/step - loss: 11.2005 - mae: 11.8118 - val_loss: 427.8652 - val_mae: 428.5547\n",
      "Epoch 114/5000\n",
      "46/46 [==============================] - 2s 46ms/step - loss: 12.2001 - mae: 12.8135 - val_loss: 439.0855 - val_mae: 439.7756\n",
      "Epoch 115/5000\n",
      "46/46 [==============================] - 2s 45ms/step - loss: 11.8657 - mae: 12.4803 - val_loss: 449.1489 - val_mae: 449.8385\n",
      "Epoch 116/5000\n",
      "46/46 [==============================] - 2s 38ms/step - loss: 11.8336 - mae: 12.4501 - val_loss: 420.6209 - val_mae: 421.3116\n",
      "Epoch 117/5000\n"
     ]
    },
    {
     "name": "stdout",
     "output_type": "stream",
     "text": [
      "46/46 [==============================] - 2s 48ms/step - loss: 11.8745 - mae: 12.4896 - val_loss: 402.1869 - val_mae: 402.8784\n",
      "Epoch 118/5000\n",
      "46/46 [==============================] - 2s 40ms/step - loss: 12.5404 - mae: 13.1502 - val_loss: 393.1135 - val_mae: 393.8048\n",
      "Epoch 119/5000\n",
      "46/46 [==============================] - 2s 35ms/step - loss: 11.0827 - mae: 11.6943 - val_loss: 439.0661 - val_mae: 439.7562\n",
      "Epoch 120/5000\n",
      "46/46 [==============================] - 2s 38ms/step - loss: 11.4096 - mae: 12.0187 - val_loss: 438.2560 - val_mae: 438.9460\n",
      "Epoch 121/5000\n",
      "46/46 [==============================] - 2s 39ms/step - loss: 11.1077 - mae: 11.7174 - val_loss: 426.9264 - val_mae: 427.6166\n",
      "Epoch 122/5000\n",
      "46/46 [==============================] - 2s 47ms/step - loss: 11.6545 - mae: 12.2584 - val_loss: 431.1684 - val_mae: 431.8598\n",
      "Epoch 123/5000\n",
      "46/46 [==============================] - 2s 35ms/step - loss: 11.7368 - mae: 12.3437 - val_loss: 416.9879 - val_mae: 417.6803\n",
      "Epoch 124/5000\n",
      "46/46 [==============================] - 2s 35ms/step - loss: 10.9090 - mae: 11.5238 - val_loss: 444.0595 - val_mae: 444.7497\n",
      "Epoch 125/5000\n",
      "46/46 [==============================] - 2s 39ms/step - loss: 10.4837 - mae: 11.0877 - val_loss: 435.9481 - val_mae: 436.6402\n",
      "Epoch 125: early stopping\n"
     ]
    },
    {
     "data": {
      "text/plain": [
       "<keras.callbacks.History at 0x7fe9ac45fb50>"
      ]
     },
     "execution_count": 11,
     "metadata": {},
     "output_type": "execute_result"
    }
   ],
   "source": [
    "regressor.fit(X_train,Y_train, epochs=5000, batch_size=32, validation_data=(X_val,Y_val), callbacks=[earlyStopping])"
   ]
  },
  {
   "cell_type": "code",
   "execution_count": 12,
   "id": "adf8814a",
   "metadata": {
    "scrolled": true
   },
   "outputs": [
    {
     "name": "stdout",
     "output_type": "stream",
     "text": [
      "46/46 [==============================] - 0s 5ms/step\n",
      "18/18 [==============================] - 0s 5ms/step\n"
     ]
    }
   ],
   "source": [
    "Y_train_pred=regressor.predict(X_train)\n",
    "y_pred=regressor.predict(X_test)"
   ]
  },
  {
   "cell_type": "code",
   "execution_count": 13,
   "metadata": {},
   "outputs": [],
   "source": [
    "y_pred = y_pred.ravel()\n",
    "Y_train_pred = Y_train_pred.ravel().reshape(-1)"
   ]
  },
  {
   "cell_type": "code",
   "execution_count": 14,
   "metadata": {},
   "outputs": [],
   "source": [
    "Y_train = Y_train.ravel()\n",
    "Y_test = Y_test.ravel()"
   ]
  },
  {
   "cell_type": "code",
   "execution_count": 15,
   "id": "0b0f090b",
   "metadata": {},
   "outputs": [
    {
     "data": {
      "text/plain": [
       "0.9918970661351202"
      ]
     },
     "execution_count": 15,
     "metadata": {},
     "output_type": "execute_result"
    }
   ],
   "source": [
    "# for check\n",
    "r2_score(Y_train, Y_train_pred) #training score"
   ]
  },
  {
   "cell_type": "code",
   "execution_count": 16,
   "id": "e757ef47",
   "metadata": {},
   "outputs": [
    {
     "name": "stdout",
     "output_type": "stream",
     "text": [
      "r2:-1.0633244487856714\n"
     ]
    }
   ],
   "source": [
    "r2=r2_score(Y_test[:-30],y_pred[:-30]) #score/ r^2\n",
    "print(f'r2:{r2}')"
   ]
  },
  {
   "cell_type": "code",
   "execution_count": 17,
   "id": "00ef1c53",
   "metadata": {},
   "outputs": [],
   "source": [
    "# r2_oos\n",
    "def r2_oos(ret, pred):\n",
    "    sum_of_sq_res = np.nansum(np.power((ret-pred), 2))\n",
    "    sum_of_sq_total = np.nansum(np.power(ret, 2))\n",
    "    \n",
    "    return 1-sum_of_sq_res/sum_of_sq_total"
   ]
  },
  {
   "cell_type": "code",
   "execution_count": 18,
   "id": "8969a6b7",
   "metadata": {},
   "outputs": [
    {
     "name": "stdout",
     "output_type": "stream",
     "text": [
      "r2_oos:0.7132046821296915\n"
     ]
    }
   ],
   "source": [
    "r2_oos = r2_oos(Y_test[:-30], y_pred[:-30])\n",
    "print(f'r2_oos:{r2_oos}')"
   ]
  },
  {
   "cell_type": "code",
   "execution_count": 19,
   "id": "70b87143",
   "metadata": {},
   "outputs": [
    {
     "name": "stdout",
     "output_type": "stream",
     "text": [
      "mae:931.4494411682483\n",
      "rmse:1479.0864336095976\n",
      "mape:35.2696996638347\n"
     ]
    }
   ],
   "source": [
    "mae=mean_absolute_error(Y_test[:-30],y_pred[:-30]) #mae\n",
    "print(f'mae:{mae}')\n",
    "\n",
    "rmse=np.sqrt(mean_squared_error(Y_test[:-30],y_pred[:-30])) #rmse\n",
    "print(f'rmse:{rmse}')\n",
    "\n",
    "mape=mean_absolute_percentage_error(Y_test[:-30],y_pred[:-30]) #mape\n",
    "print(f'mape:{mape}')"
   ]
  },
  {
   "cell_type": "markdown",
   "id": "8bb36caf",
   "metadata": {},
   "source": [
    "-----------------------------"
   ]
  },
  {
   "cell_type": "code",
   "execution_count": 20,
   "id": "a5641115",
   "metadata": {},
   "outputs": [
    {
     "data": {
      "text/html": [
       "<div>\n",
       "<style scoped>\n",
       "    .dataframe tbody tr th:only-of-type {\n",
       "        vertical-align: middle;\n",
       "    }\n",
       "\n",
       "    .dataframe tbody tr th {\n",
       "        vertical-align: top;\n",
       "    }\n",
       "\n",
       "    .dataframe thead th {\n",
       "        text-align: right;\n",
       "    }\n",
       "</style>\n",
       "<table border=\"1\" class=\"dataframe\">\n",
       "  <thead>\n",
       "    <tr style=\"text-align: right;\">\n",
       "      <th></th>\n",
       "      <th>Y_test</th>\n",
       "      <th>y_pred</th>\n",
       "    </tr>\n",
       "    <tr>\n",
       "      <th>Date</th>\n",
       "      <th></th>\n",
       "      <th></th>\n",
       "    </tr>\n",
       "  </thead>\n",
       "  <tbody>\n",
       "    <tr>\n",
       "      <th>2021-06-01</th>\n",
       "      <td>2149.0</td>\n",
       "      <td>942.516602</td>\n",
       "    </tr>\n",
       "    <tr>\n",
       "      <th>2021-06-02</th>\n",
       "      <td>2080.0</td>\n",
       "      <td>879.826538</td>\n",
       "    </tr>\n",
       "    <tr>\n",
       "      <th>2021-06-03</th>\n",
       "      <td>2192.0</td>\n",
       "      <td>921.612854</td>\n",
       "    </tr>\n",
       "    <tr>\n",
       "      <th>2021-06-04</th>\n",
       "      <td>2305.0</td>\n",
       "      <td>878.976929</td>\n",
       "    </tr>\n",
       "    <tr>\n",
       "      <th>2021-06-05</th>\n",
       "      <td>2250.0</td>\n",
       "      <td>819.121948</td>\n",
       "    </tr>\n",
       "    <tr>\n",
       "      <th>...</th>\n",
       "      <td>...</td>\n",
       "      <td>...</td>\n",
       "    </tr>\n",
       "    <tr>\n",
       "      <th>2022-11-25</th>\n",
       "      <td>NaN</td>\n",
       "      <td>841.403442</td>\n",
       "    </tr>\n",
       "    <tr>\n",
       "      <th>2022-11-26</th>\n",
       "      <td>NaN</td>\n",
       "      <td>858.484558</td>\n",
       "    </tr>\n",
       "    <tr>\n",
       "      <th>2022-11-27</th>\n",
       "      <td>NaN</td>\n",
       "      <td>873.421448</td>\n",
       "    </tr>\n",
       "    <tr>\n",
       "      <th>2022-11-28</th>\n",
       "      <td>NaN</td>\n",
       "      <td>1077.770264</td>\n",
       "    </tr>\n",
       "    <tr>\n",
       "      <th>2022-11-29</th>\n",
       "      <td>NaN</td>\n",
       "      <td>1035.945801</td>\n",
       "    </tr>\n",
       "  </tbody>\n",
       "</table>\n",
       "<p>547 rows × 2 columns</p>\n",
       "</div>"
      ],
      "text/plain": [
       "            Y_test       y_pred\n",
       "Date                           \n",
       "2021-06-01  2149.0   942.516602\n",
       "2021-06-02  2080.0   879.826538\n",
       "2021-06-03  2192.0   921.612854\n",
       "2021-06-04  2305.0   878.976929\n",
       "2021-06-05  2250.0   819.121948\n",
       "...            ...          ...\n",
       "2022-11-25     NaN   841.403442\n",
       "2022-11-26     NaN   858.484558\n",
       "2022-11-27     NaN   873.421448\n",
       "2022-11-28     NaN  1077.770264\n",
       "2022-11-29     NaN  1035.945801\n",
       "\n",
       "[547 rows x 2 columns]"
      ]
     },
     "execution_count": 20,
     "metadata": {},
     "output_type": "execute_result"
    }
   ],
   "source": [
    "pre_df = pd.DataFrame(zip(Y_test,y_pred),columns=['Y_test','y_pred'])\n",
    "pre_df.index = tmp_index\n",
    "pre_df"
   ]
  },
  {
   "cell_type": "code",
   "execution_count": 21,
   "id": "4f4bd2ca",
   "metadata": {},
   "outputs": [],
   "source": [
    "pre_df['pred_returns'] = pre_df['y_pred'].pct_change()"
   ]
  },
  {
   "cell_type": "code",
   "execution_count": 22,
   "id": "0b94aa95",
   "metadata": {},
   "outputs": [
    {
     "data": {
      "text/html": [
       "<div>\n",
       "<style scoped>\n",
       "    .dataframe tbody tr th:only-of-type {\n",
       "        vertical-align: middle;\n",
       "    }\n",
       "\n",
       "    .dataframe tbody tr th {\n",
       "        vertical-align: top;\n",
       "    }\n",
       "\n",
       "    .dataframe thead th {\n",
       "        text-align: right;\n",
       "    }\n",
       "</style>\n",
       "<table border=\"1\" class=\"dataframe\">\n",
       "  <thead>\n",
       "    <tr style=\"text-align: right;\">\n",
       "      <th></th>\n",
       "      <th>Y_test</th>\n",
       "      <th>y_pred</th>\n",
       "      <th>pred_returns</th>\n",
       "    </tr>\n",
       "    <tr>\n",
       "      <th>Date</th>\n",
       "      <th></th>\n",
       "      <th></th>\n",
       "      <th></th>\n",
       "    </tr>\n",
       "  </thead>\n",
       "  <tbody>\n",
       "    <tr>\n",
       "      <th>2021-06-01</th>\n",
       "      <td>2149.0</td>\n",
       "      <td>942.516602</td>\n",
       "      <td>NaN</td>\n",
       "    </tr>\n",
       "    <tr>\n",
       "      <th>2021-06-02</th>\n",
       "      <td>2080.0</td>\n",
       "      <td>879.826538</td>\n",
       "      <td>-0.066513</td>\n",
       "    </tr>\n",
       "    <tr>\n",
       "      <th>2021-06-03</th>\n",
       "      <td>2192.0</td>\n",
       "      <td>921.612854</td>\n",
       "      <td>0.047494</td>\n",
       "    </tr>\n",
       "    <tr>\n",
       "      <th>2021-06-04</th>\n",
       "      <td>2305.0</td>\n",
       "      <td>878.976929</td>\n",
       "      <td>-0.046262</td>\n",
       "    </tr>\n",
       "    <tr>\n",
       "      <th>2021-06-05</th>\n",
       "      <td>2250.0</td>\n",
       "      <td>819.121948</td>\n",
       "      <td>-0.068096</td>\n",
       "    </tr>\n",
       "    <tr>\n",
       "      <th>...</th>\n",
       "      <td>...</td>\n",
       "      <td>...</td>\n",
       "      <td>...</td>\n",
       "    </tr>\n",
       "    <tr>\n",
       "      <th>2022-11-25</th>\n",
       "      <td>NaN</td>\n",
       "      <td>841.403442</td>\n",
       "      <td>-0.181361</td>\n",
       "    </tr>\n",
       "    <tr>\n",
       "      <th>2022-11-26</th>\n",
       "      <td>NaN</td>\n",
       "      <td>858.484558</td>\n",
       "      <td>0.020301</td>\n",
       "    </tr>\n",
       "    <tr>\n",
       "      <th>2022-11-27</th>\n",
       "      <td>NaN</td>\n",
       "      <td>873.421448</td>\n",
       "      <td>0.017399</td>\n",
       "    </tr>\n",
       "    <tr>\n",
       "      <th>2022-11-28</th>\n",
       "      <td>NaN</td>\n",
       "      <td>1077.770264</td>\n",
       "      <td>0.233964</td>\n",
       "    </tr>\n",
       "    <tr>\n",
       "      <th>2022-11-29</th>\n",
       "      <td>NaN</td>\n",
       "      <td>1035.945801</td>\n",
       "      <td>-0.038806</td>\n",
       "    </tr>\n",
       "  </tbody>\n",
       "</table>\n",
       "<p>547 rows × 3 columns</p>\n",
       "</div>"
      ],
      "text/plain": [
       "            Y_test       y_pred  pred_returns\n",
       "Date                                         \n",
       "2021-06-01  2149.0   942.516602           NaN\n",
       "2021-06-02  2080.0   879.826538     -0.066513\n",
       "2021-06-03  2192.0   921.612854      0.047494\n",
       "2021-06-04  2305.0   878.976929     -0.046262\n",
       "2021-06-05  2250.0   819.121948     -0.068096\n",
       "...            ...          ...           ...\n",
       "2022-11-25     NaN   841.403442     -0.181361\n",
       "2022-11-26     NaN   858.484558      0.020301\n",
       "2022-11-27     NaN   873.421448      0.017399\n",
       "2022-11-28     NaN  1077.770264      0.233964\n",
       "2022-11-29     NaN  1035.945801     -0.038806\n",
       "\n",
       "[547 rows x 3 columns]"
      ]
     },
     "execution_count": 22,
     "metadata": {},
     "output_type": "execute_result"
    }
   ],
   "source": [
    "pre_df"
   ]
  },
  {
   "cell_type": "code",
   "execution_count": 23,
   "id": "0d9674c7",
   "metadata": {},
   "outputs": [
    {
     "data": {
      "text/plain": [
       "<AxesSubplot:>"
      ]
     },
     "execution_count": 23,
     "metadata": {},
     "output_type": "execute_result"
    },
    {
     "data": {
      "image/png": "[encoded data removed]",
      "text/plain": [
       "<Figure size 640x480 with 1 Axes>"
      ]
     },
     "metadata": {},
     "output_type": "display_data"
    }
   ],
   "source": [
    "pd.DataFrame(zip(Y_test,y_pred),columns=['Y_test','y_pred']).plot()"
   ]
  },
  {
   "cell_type": "code",
   "execution_count": 24,
   "id": "732393ad",
   "metadata": {},
   "outputs": [],
   "source": [
    "pre_df.to_csv(\"../result/LSTM/eth_NN.csv\")"
   ]
  },
  {
   "cell_type": "code",
   "execution_count": 25,
   "metadata": {},
   "outputs": [],
   "source": [
    "\n",
    "!kdeconnect-cli -n TAS-AN00 --ping-msg 'Script complete!'"
   ]
  },
  {
   "cell_type": "code",
   "execution_count": null,
   "metadata": {},
   "outputs": [],
   "source": []
  }
 ],
 "metadata": {
  "colab": {
   "collapsed_sections": [],
   "name": "Stock Market Predictor.ipynb",
   "provenance": [],
   "toc_visible": true
  },
  "kernelspec": {
   "display_name": "Python 3 (ipykernel)",
   "language": "python",
   "name": "python3"
  },
  "language_info": {
   "codemirror_mode": {
    "name": "ipython",
    "version": 3
   },
   "file_extension": ".py",
   "mimetype": "text/x-python",
   "name": "python",
   "nbconvert_exporter": "python",
   "pygments_lexer": "ipython3",
   "version": "3.10.8"
  },
  "vscode": {
   "interpreter": {
    "hash": "0a952188e4bab49300a5758bda39ddc90e91f41f35dfe6ea820e496e515be371"
   }
  }
 },
 "nbformat": 4,
 "nbformat_minor": 1
}
