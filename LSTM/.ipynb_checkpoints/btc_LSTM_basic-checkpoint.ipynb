{
 "cells": [
  {
   "cell_type": "markdown",
   "metadata": {
    "colab_type": "text",
    "id": "TKAxbUFku8lD"
   },
   "source": [
    "# **Dependancies**"
   ]
  },
  {
   "cell_type": "code",
   "execution_count": 1,
   "metadata": {
    "colab": {},
    "colab_type": "code",
    "id": "oFJOnSzBk_uB"
   },
   "outputs": [
    {
     "name": "stderr",
     "output_type": "stream",
     "text": [
      "2022-12-04 13:45:43.914212: I tensorflow/core/platform/cpu_feature_guard.cc:193] This TensorFlow binary is optimized with oneAPI Deep Neural Network Library (oneDNN) to use the following CPU instructions in performance-critical operations:  SSE4.1 SSE4.2 AVX AVX2 AVX512F AVX512_VNNI FMA\n",
      "To enable them in other operations, rebuild TensorFlow with the appropriate compiler flags.\n"
     ]
    }
   ],
   "source": [
    "import numpy as np\n",
    "import pandas as pd\n",
    "import matplotlib.pyplot as plt\n",
    "from keras import *\n",
    "from keras.callbacks import *\n",
    "import os\n",
    "from sklearn.preprocessing import MinMaxScaler, RobustScaler\n",
    "from sklearn.model_selection import train_test_split\n",
    "from sklearn.metrics import r2_score, mean_absolute_error, mean_squared_error\n",
    "from keras.layers import *\n",
    "from sklearn.pipeline import Pipeline"
   ]
  },
  {
   "cell_type": "code",
   "execution_count": 2,
   "metadata": {},
   "outputs": [],
   "source": [
    "def mean_absolute_percentage_error(y_true, y_pred): \n",
    "    y_true, y_pred = np.array(y_true), np.array(y_pred)\n",
    "    return np.mean(np.abs((y_true - y_pred) / y_true)) * 100"
   ]
  },
  {
   "cell_type": "markdown",
   "metadata": {
    "colab_type": "text",
    "id": "22PseW2xqQET"
   },
   "source": [
    "# **Loading Data**"
   ]
  },
  {
   "cell_type": "code",
   "execution_count": 90,
   "metadata": {},
   "outputs": [],
   "source": [
    "selected = pd.read_csv(\"../Data/train_btc_selected_features.csv\")\n",
    "btc = pd.read_csv(\"../Data/btc_Data.csv\")\n",
    "btc['Date'] = pd.to_datetime(btc['Date'])\n",
    "btc = btc.set_index(\"Date\")"
   ]
  },
  {
   "cell_type": "code",
   "execution_count": 91,
   "metadata": {},
   "outputs": [
    {
     "name": "stderr",
     "output_type": "stream",
     "text": [
      "/tmp/ipykernel_2811297/3854812091.py:2: SettingWithCopyWarning: \n",
      "A value is trying to be set on a copy of a slice from a DataFrame.\n",
      "Try using .loc[row_indexer,col_indexer] = value instead\n",
      "\n",
      "See the caveats in the documentation: https://pandas.pydata.org/pandas-docs/stable/user_guide/indexing.html#returning-a-view-versus-a-copy\n",
      "  btcData['returns'] = btcData['priceUSD'].pct_change().copy()\n"
     ]
    }
   ],
   "source": [
    "btcData = btc[selected.columns]\n",
    "btcData['returns'] = btcData['priceUSD'].pct_change().copy()\n",
    "Data = btcData.drop(columns=['priceUSD'])\n",
    "Data = Data[1:]\n",
    "# divide X and Y\n",
    "X = Data.iloc[:,0:]\n",
    "#Y = Data['returns']   # 用returns的话就用这一行，然后把下一行comment掉\n",
    "Y = btcData['priceUSD'].shift(-30)[1:] # 反之亦然\n",
    "# Split into three data sets\n",
    "X_train = X['2016-01-01':'2019-12-31']\n",
    "X_val = X['2020-01-01':'2021-05-31']\n",
    "X_test = X['2021-06-01':'2023-01-01']\n",
    "\n",
    "Y_train = Y['2016-01-01':'2019-12-31']\n",
    "Y_val = Y['2020-01-01':'2021-05-31']\n",
    "Y_test = Y['2021-06-01':'2023-01-01']"
   ]
  },
  {
   "cell_type": "code",
   "execution_count": 92,
   "metadata": {},
   "outputs": [
    {
     "name": "stdout",
     "output_type": "stream",
     "text": [
      "[Pipeline] ............ (step 1 of 2) Processing mixmax, total=   0.0s\n",
      "[Pipeline] ............ (step 2 of 2) Processing robust, total=   0.0s\n"
     ]
    }
   ],
   "source": [
    "estimators=[]\n",
    "estimators.append(['mixmax',MinMaxScaler()])\n",
    "estimators.append(['robust',RobustScaler()])\n",
    "scale=Pipeline(estimators,verbose=True)\n",
    "scale.fit(X_train)\n",
    "X_train=scale.transform(X_train)\n",
    "X_test=scale.transform(X_test)\n",
    "X_val = scale.transform(X_val)\n",
    "tmp_index = Y_test.index"
   ]
  },
  {
   "cell_type": "code",
   "execution_count": 93,
   "metadata": {},
   "outputs": [],
   "source": [
    "X_train=np.reshape(X_train,(X_train.shape[0],1,X_train.shape[1]))\n",
    "X_val=np.reshape(X_val,(X_val.shape[0],1,X_val.shape[1]))\n",
    "X_test=np.reshape(X_test,(X_test.shape[0],1,X_test.shape[1]))\n",
    "Y_train=Y_train.values\n",
    "Y_train=np.reshape(Y_train, (Y_train.shape[0],1,1))\n",
    "Y_val=Y_val.values\n",
    "Y_val=np.reshape(Y_val, (Y_val.shape[0],1,1))\n",
    "Y_test=Y_test.values\n",
    "Y_test=np.reshape(Y_test, (Y_test.shape[0],1,1))"
   ]
  },
  {
   "cell_type": "code",
   "execution_count": 7,
   "metadata": {},
   "outputs": [],
   "source": [
    "def lr_schedule(epoch):\n",
    "    \"\"\"Learning Rate Schedule\n",
    "\n",
    "    Learning rate is scheduled to be reduced after 80, 120, 160, 180 epochs.\n",
    "    Called automatically every epoch as part of callbacks during training.\n",
    "\n",
    "    # Arguments\n",
    "        epoch (int): The number of epochs\n",
    "\n",
    "    # Returns\n",
    "        lr (float32): learning rate\n",
    "    \"\"\"\n",
    "    lr = 1e-3\n",
    "    if epoch > 180:\n",
    "        lr *= 0.5e-3\n",
    "    elif epoch > 160:\n",
    "        lr *= 1e-3\n",
    "    elif epoch > 120:\n",
    "        lr *= 1e-2\n",
    "    elif epoch > 80:\n",
    "        lr *= 1e-1\n",
    "    print('Learning rate: ', lr)\n",
    "    return lr"
   ]
  },
  {
   "cell_type": "code",
   "execution_count": 8,
   "metadata": {
    "colab": {
     "base_uri": "https://localhost:8080/",
     "height": 72
    },
    "colab_type": "code",
    "id": "NBZ9JgDTrHwV",
    "outputId": "40d0a5ca-682d-42d1-e08b-fd28df246868"
   },
   "outputs": [
    {
     "name": "stdout",
     "output_type": "stream",
     "text": [
      "Learning rate:  0.001\n"
     ]
    },
    {
     "name": "stderr",
     "output_type": "stream",
     "text": [
      "/home/spectre/anaconda3/envs/tensorplustorch/lib/python3.10/site-packages/keras/optimizers/optimizer_v2/adam.py:114: UserWarning: The `lr` argument is deprecated, use `learning_rate` instead.\n",
      "  super().__init__(name, **kwargs)\n"
     ]
    }
   ],
   "source": [
    "adam=optimizers.Adam(lr=lr_schedule(0),amsgrad=True)\n"
   ]
  },
  {
   "cell_type": "markdown",
   "metadata": {},
   "source": [
    "# https://medium.com/analytics-vidhya/hypertuning-a-lstm-with-keras-tuner-to-forecast-solar-irradiance-7da7577e96eb"
   ]
  },
  {
   "cell_type": "code",
   "execution_count": 9,
   "metadata": {},
   "outputs": [
    {
     "name": "stderr",
     "output_type": "stream",
     "text": [
      "2022-12-04 13:45:45.198200: I tensorflow/core/platform/cpu_feature_guard.cc:193] This TensorFlow binary is optimized with oneAPI Deep Neural Network Library (oneDNN) to use the following CPU instructions in performance-critical operations:  SSE4.1 SSE4.2 AVX AVX2 AVX512F AVX512_VNNI FMA\n",
      "To enable them in other operations, rebuild TensorFlow with the appropriate compiler flags.\n",
      "2022-12-04 13:45:45.199204: I tensorflow/core/common_runtime/process_util.cc:146] Creating new thread pool with default inter op setting: 2. Tune using inter_op_parallelism_threads for best performance.\n"
     ]
    }
   ],
   "source": [
    "regressor = Sequential()\n",
    "regressor.add(Bidirectional(LSTM(350, return_sequences=True, activation='relu'), input_shape=(1, X_train.shape[2])))\n",
    "regressor.add(Bidirectional(LSTM(350, return_sequences=True, activation='relu')))\n",
    "regressor.add(Dense(1))\n",
    "regressor.compile(loss=\"logcosh\", optimizer=adam, metrics=['mae'])"
   ]
  },
  {
   "cell_type": "code",
   "execution_count": 10,
   "metadata": {
    "colab": {},
    "colab_type": "code",
    "id": "0WWSdc7AxKV6"
   },
   "outputs": [],
   "source": [
    "earlyStopping = EarlyStopping(monitor='val_loss', patience=1000, verbose=1, mode='auto')"
   ]
  },
  {
   "cell_type": "code",
   "execution_count": 11,
   "metadata": {
    "scrolled": false
   },
   "outputs": [
    {
     "name": "stdout",
     "output_type": "stream",
     "text": [
      "Epoch 1/5000\n",
      "46/46 [==============================] - 4s 45ms/step - loss: 4782.5317 - mae: 4783.2246 - val_loss: 19415.8555 - val_mae: 19416.5469\n",
      "Epoch 2/5000\n",
      "46/46 [==============================] - 2s 40ms/step - loss: 3505.2766 - mae: 3505.9695 - val_loss: 7006.2827 - val_mae: 7006.9766\n",
      "Epoch 3/5000\n",
      "46/46 [==============================] - 2s 46ms/step - loss: 2044.6132 - mae: 2045.3054 - val_loss: 6030.6772 - val_mae: 6031.3711\n",
      "Epoch 4/5000\n",
      "46/46 [==============================] - 2s 42ms/step - loss: 1610.0431 - mae: 1610.7360 - val_loss: 6122.0571 - val_mae: 6122.7505\n",
      "Epoch 5/5000\n",
      "46/46 [==============================] - 2s 51ms/step - loss: 1324.8306 - mae: 1325.5239 - val_loss: 6342.6548 - val_mae: 6343.3467\n",
      "Epoch 6/5000\n",
      "46/46 [==============================] - 2s 43ms/step - loss: 1164.0963 - mae: 1164.7883 - val_loss: 6405.0015 - val_mae: 6405.6948\n",
      "Epoch 7/5000\n",
      "46/46 [==============================] - 2s 46ms/step - loss: 1069.8206 - mae: 1070.5134 - val_loss: 6495.4810 - val_mae: 6496.1743\n",
      "Epoch 8/5000\n",
      "46/46 [==============================] - 2s 39ms/step - loss: 993.9487 - mae: 994.6415 - val_loss: 6496.9209 - val_mae: 6497.6133\n",
      "Epoch 9/5000\n",
      "46/46 [==============================] - 2s 39ms/step - loss: 936.8568 - mae: 937.5491 - val_loss: 6513.7725 - val_mae: 6514.4658\n",
      "Epoch 10/5000\n",
      "46/46 [==============================] - 2s 39ms/step - loss: 884.3120 - mae: 885.0047 - val_loss: 6698.7759 - val_mae: 6699.4688\n",
      "Epoch 11/5000\n",
      "46/46 [==============================] - 2s 44ms/step - loss: 827.3000 - mae: 827.9925 - val_loss: 6568.7710 - val_mae: 6569.4648\n",
      "Epoch 12/5000\n",
      "46/46 [==============================] - 2s 38ms/step - loss: 825.0639 - mae: 825.7560 - val_loss: 6691.8286 - val_mae: 6692.5220\n",
      "Epoch 13/5000\n",
      "46/46 [==============================] - 2s 39ms/step - loss: 770.7513 - mae: 771.4418 - val_loss: 6589.5029 - val_mae: 6590.1963\n",
      "Epoch 14/5000\n",
      "46/46 [==============================] - 2s 40ms/step - loss: 746.4323 - mae: 747.1244 - val_loss: 6564.9141 - val_mae: 6565.6079\n",
      "Epoch 15/5000\n",
      "46/46 [==============================] - 2s 44ms/step - loss: 739.4470 - mae: 740.1389 - val_loss: 6633.0757 - val_mae: 6633.7695\n",
      "Epoch 16/5000\n",
      "46/46 [==============================] - 2s 42ms/step - loss: 717.3181 - mae: 718.0087 - val_loss: 6787.7554 - val_mae: 6788.4487\n",
      "Epoch 17/5000\n",
      "46/46 [==============================] - 2s 44ms/step - loss: 702.5457 - mae: 703.2374 - val_loss: 6723.2759 - val_mae: 6723.9688\n",
      "Epoch 18/5000\n",
      "46/46 [==============================] - 2s 43ms/step - loss: 679.6559 - mae: 680.3478 - val_loss: 6718.7202 - val_mae: 6719.4121\n",
      "Epoch 19/5000\n",
      "46/46 [==============================] - 2s 40ms/step - loss: 663.1147 - mae: 663.8074 - val_loss: 6784.8345 - val_mae: 6785.5278\n",
      "Epoch 20/5000\n",
      "46/46 [==============================] - 2s 39ms/step - loss: 659.0554 - mae: 659.7472 - val_loss: 6802.9590 - val_mae: 6803.6519\n",
      "Epoch 21/5000\n",
      "46/46 [==============================] - 2s 40ms/step - loss: 629.4644 - mae: 630.1566 - val_loss: 7155.3921 - val_mae: 7156.0835\n",
      "Epoch 22/5000\n",
      "46/46 [==============================] - 2s 43ms/step - loss: 640.9931 - mae: 641.6849 - val_loss: 7116.4707 - val_mae: 7117.1636\n",
      "Epoch 23/5000\n",
      "46/46 [==============================] - 2s 43ms/step - loss: 607.3290 - mae: 608.0198 - val_loss: 6894.5825 - val_mae: 6895.2764\n",
      "Epoch 24/5000\n",
      "46/46 [==============================] - 2s 38ms/step - loss: 596.8233 - mae: 597.5153 - val_loss: 7044.0229 - val_mae: 7044.7158\n",
      "Epoch 25/5000\n",
      "46/46 [==============================] - 2s 36ms/step - loss: 588.4616 - mae: 589.1534 - val_loss: 7185.1899 - val_mae: 7185.8823\n",
      "Epoch 26/5000\n",
      "46/46 [==============================] - 2s 42ms/step - loss: 578.3062 - mae: 578.9988 - val_loss: 7274.1230 - val_mae: 7274.8169\n",
      "Epoch 27/5000\n",
      "46/46 [==============================] - 2s 34ms/step - loss: 569.2544 - mae: 569.9461 - val_loss: 7209.4937 - val_mae: 7210.1855\n",
      "Epoch 28/5000\n",
      "46/46 [==============================] - 2s 41ms/step - loss: 560.9559 - mae: 561.6483 - val_loss: 7433.0752 - val_mae: 7433.7676\n",
      "Epoch 29/5000\n",
      "46/46 [==============================] - 2s 38ms/step - loss: 535.1251 - mae: 535.8173 - val_loss: 7305.1963 - val_mae: 7305.8896\n",
      "Epoch 30/5000\n",
      "46/46 [==============================] - 2s 41ms/step - loss: 528.5299 - mae: 529.2221 - val_loss: 7499.4424 - val_mae: 7500.1353\n",
      "Epoch 31/5000\n",
      "46/46 [==============================] - 2s 38ms/step - loss: 511.3487 - mae: 512.0404 - val_loss: 7571.7036 - val_mae: 7572.3965\n",
      "Epoch 32/5000\n",
      "46/46 [==============================] - 2s 39ms/step - loss: 504.8302 - mae: 505.5215 - val_loss: 7408.3701 - val_mae: 7409.0625\n",
      "Epoch 33/5000\n",
      "46/46 [==============================] - 2s 39ms/step - loss: 501.7302 - mae: 502.4225 - val_loss: 7777.6440 - val_mae: 7778.3369\n",
      "Epoch 34/5000\n",
      "46/46 [==============================] - 2s 45ms/step - loss: 472.1113 - mae: 472.8033 - val_loss: 7390.0830 - val_mae: 7390.7764\n",
      "Epoch 35/5000\n",
      "46/46 [==============================] - 2s 43ms/step - loss: 470.0531 - mae: 470.7441 - val_loss: 7443.1064 - val_mae: 7443.7998\n",
      "Epoch 36/5000\n",
      "46/46 [==============================] - 2s 38ms/step - loss: 458.1418 - mae: 458.8343 - val_loss: 7790.5640 - val_mae: 7791.2554\n",
      "Epoch 37/5000\n",
      "46/46 [==============================] - 2s 39ms/step - loss: 452.7824 - mae: 453.4733 - val_loss: 7984.2114 - val_mae: 7984.9053\n",
      "Epoch 38/5000\n",
      "46/46 [==============================] - 2s 35ms/step - loss: 450.5904 - mae: 451.2811 - val_loss: 7570.8716 - val_mae: 7571.5645\n",
      "Epoch 39/5000\n",
      "46/46 [==============================] - 2s 40ms/step - loss: 442.9771 - mae: 443.6693 - val_loss: 7858.1226 - val_mae: 7858.8149\n",
      "Epoch 40/5000\n",
      "46/46 [==============================] - 2s 41ms/step - loss: 437.0575 - mae: 437.7498 - val_loss: 7938.8560 - val_mae: 7939.5488\n",
      "Epoch 41/5000\n",
      "46/46 [==============================] - 2s 41ms/step - loss: 442.3466 - mae: 443.0395 - val_loss: 8123.2842 - val_mae: 8123.9766\n",
      "Epoch 42/5000\n",
      "46/46 [==============================] - 2s 42ms/step - loss: 417.7467 - mae: 418.4388 - val_loss: 8025.1245 - val_mae: 8025.8179\n",
      "Epoch 43/5000\n",
      "46/46 [==============================] - 2s 39ms/step - loss: 405.0692 - mae: 405.7606 - val_loss: 7833.1426 - val_mae: 7833.8364\n",
      "Epoch 44/5000\n",
      "46/46 [==============================] - 2s 43ms/step - loss: 411.5589 - mae: 412.2489 - val_loss: 7847.5352 - val_mae: 7848.2295\n",
      "Epoch 45/5000\n",
      "46/46 [==============================] - 2s 44ms/step - loss: 408.4189 - mae: 409.1105 - val_loss: 7950.2769 - val_mae: 7950.9707\n",
      "Epoch 46/5000\n",
      "46/46 [==============================] - 2s 47ms/step - loss: 401.4654 - mae: 402.1560 - val_loss: 7850.1206 - val_mae: 7850.8140\n",
      "Epoch 47/5000\n",
      "46/46 [==============================] - 2s 45ms/step - loss: 401.1306 - mae: 401.8210 - val_loss: 7956.2031 - val_mae: 7956.8960\n",
      "Epoch 48/5000\n",
      "46/46 [==============================] - 2s 50ms/step - loss: 379.0655 - mae: 379.7579 - val_loss: 8288.6748 - val_mae: 8289.3662\n",
      "Epoch 49/5000\n",
      "46/46 [==============================] - 2s 49ms/step - loss: 382.5833 - mae: 383.2754 - val_loss: 8206.0381 - val_mae: 8206.7314\n",
      "Epoch 50/5000\n",
      "46/46 [==============================] - 3s 56ms/step - loss: 371.5659 - mae: 372.2573 - val_loss: 7941.2202 - val_mae: 7941.9141\n",
      "Epoch 51/5000\n",
      "46/46 [==============================] - 2s 40ms/step - loss: 381.5277 - mae: 382.2193 - val_loss: 8187.4624 - val_mae: 8188.1558\n",
      "Epoch 52/5000\n",
      "46/46 [==============================] - 2s 39ms/step - loss: 373.0815 - mae: 373.7727 - val_loss: 8514.2168 - val_mae: 8514.9102\n",
      "Epoch 53/5000\n",
      "46/46 [==============================] - 2s 36ms/step - loss: 359.1956 - mae: 359.8870 - val_loss: 8445.3789 - val_mae: 8446.0723\n",
      "Epoch 54/5000\n",
      "46/46 [==============================] - 2s 37ms/step - loss: 358.6732 - mae: 359.3647 - val_loss: 8643.1562 - val_mae: 8643.8496\n",
      "Epoch 55/5000\n",
      "46/46 [==============================] - 2s 44ms/step - loss: 353.7046 - mae: 354.3945 - val_loss: 8497.9648 - val_mae: 8498.6592\n",
      "Epoch 56/5000\n",
      "46/46 [==============================] - 2s 42ms/step - loss: 344.6459 - mae: 345.3369 - val_loss: 8812.1025 - val_mae: 8812.7949\n",
      "Epoch 57/5000\n",
      "46/46 [==============================] - 2s 42ms/step - loss: 341.5688 - mae: 342.2594 - val_loss: 8519.5020 - val_mae: 8520.1953\n"
     ]
    },
    {
     "name": "stdout",
     "output_type": "stream",
     "text": [
      "Epoch 58/5000\n",
      "46/46 [==============================] - 2s 41ms/step - loss: 335.1796 - mae: 335.8686 - val_loss: 8845.0156 - val_mae: 8845.7090\n",
      "Epoch 59/5000\n",
      "46/46 [==============================] - 2s 42ms/step - loss: 332.5413 - mae: 333.2314 - val_loss: 8499.3047 - val_mae: 8499.9971\n",
      "Epoch 60/5000\n",
      "46/46 [==============================] - 2s 39ms/step - loss: 322.1099 - mae: 322.7996 - val_loss: 8905.0439 - val_mae: 8905.7373\n",
      "Epoch 61/5000\n",
      "46/46 [==============================] - 2s 43ms/step - loss: 319.3915 - mae: 320.0829 - val_loss: 8831.2588 - val_mae: 8831.9521\n",
      "Epoch 62/5000\n",
      "46/46 [==============================] - 2s 43ms/step - loss: 321.2903 - mae: 321.9817 - val_loss: 8760.7705 - val_mae: 8761.4629\n",
      "Epoch 63/5000\n",
      "46/46 [==============================] - 2s 41ms/step - loss: 330.6505 - mae: 331.3409 - val_loss: 8928.9346 - val_mae: 8929.6270\n",
      "Epoch 64/5000\n",
      "46/46 [==============================] - 2s 48ms/step - loss: 310.9304 - mae: 311.6212 - val_loss: 8798.4785 - val_mae: 8799.1719\n",
      "Epoch 65/5000\n",
      "46/46 [==============================] - 2s 44ms/step - loss: 305.5856 - mae: 306.2774 - val_loss: 8742.8457 - val_mae: 8743.5381\n",
      "Epoch 66/5000\n",
      "46/46 [==============================] - 2s 44ms/step - loss: 306.2979 - mae: 306.9887 - val_loss: 8721.6250 - val_mae: 8722.3184\n",
      "Epoch 67/5000\n",
      "46/46 [==============================] - 2s 47ms/step - loss: 301.4794 - mae: 302.1695 - val_loss: 9084.8223 - val_mae: 9085.5156\n",
      "Epoch 68/5000\n",
      "46/46 [==============================] - 2s 41ms/step - loss: 307.9047 - mae: 308.5956 - val_loss: 9262.1045 - val_mae: 9262.7969\n",
      "Epoch 69/5000\n",
      "46/46 [==============================] - 2s 45ms/step - loss: 301.8435 - mae: 302.5332 - val_loss: 9045.3926 - val_mae: 9046.0850\n",
      "Epoch 70/5000\n",
      "46/46 [==============================] - 2s 49ms/step - loss: 311.3760 - mae: 312.0660 - val_loss: 9158.5996 - val_mae: 9159.2939\n",
      "Epoch 71/5000\n",
      "46/46 [==============================] - 3s 56ms/step - loss: 300.3573 - mae: 301.0465 - val_loss: 9196.3604 - val_mae: 9197.0527\n",
      "Epoch 72/5000\n",
      "46/46 [==============================] - 2s 44ms/step - loss: 290.4233 - mae: 291.1142 - val_loss: 8939.5205 - val_mae: 8940.2139\n",
      "Epoch 73/5000\n",
      "46/46 [==============================] - 2s 45ms/step - loss: 281.9333 - mae: 282.6234 - val_loss: 9003.2002 - val_mae: 9003.8936\n",
      "Epoch 74/5000\n",
      "46/46 [==============================] - 2s 44ms/step - loss: 286.6212 - mae: 287.3098 - val_loss: 9091.0439 - val_mae: 9091.7373\n",
      "Epoch 75/5000\n",
      "46/46 [==============================] - 2s 45ms/step - loss: 284.6381 - mae: 285.3277 - val_loss: 9185.7725 - val_mae: 9186.4648\n",
      "Epoch 76/5000\n",
      "46/46 [==============================] - 2s 42ms/step - loss: 284.8900 - mae: 285.5793 - val_loss: 9123.3838 - val_mae: 9124.0771\n",
      "Epoch 77/5000\n",
      "46/46 [==============================] - 2s 42ms/step - loss: 281.4538 - mae: 282.1438 - val_loss: 9514.2393 - val_mae: 9514.9336\n",
      "Epoch 78/5000\n",
      "46/46 [==============================] - 2s 44ms/step - loss: 275.4751 - mae: 276.1640 - val_loss: 9814.0547 - val_mae: 9814.7490\n",
      "Epoch 79/5000\n",
      "46/46 [==============================] - 2s 43ms/step - loss: 273.7360 - mae: 274.4267 - val_loss: 9176.1914 - val_mae: 9176.8838\n",
      "Epoch 80/5000\n",
      "46/46 [==============================] - 2s 44ms/step - loss: 272.6576 - mae: 273.3462 - val_loss: 9344.4551 - val_mae: 9345.1504\n",
      "Epoch 81/5000\n",
      "46/46 [==============================] - 2s 39ms/step - loss: 266.4460 - mae: 267.1362 - val_loss: 9492.0527 - val_mae: 9492.7480\n",
      "Epoch 82/5000\n",
      "46/46 [==============================] - 2s 43ms/step - loss: 268.6313 - mae: 269.3206 - val_loss: 9552.1670 - val_mae: 9552.8604\n",
      "Epoch 83/5000\n",
      "46/46 [==============================] - 2s 49ms/step - loss: 264.5988 - mae: 265.2887 - val_loss: 9488.6279 - val_mae: 9489.3203\n",
      "Epoch 84/5000\n",
      "46/46 [==============================] - 2s 37ms/step - loss: 263.5822 - mae: 264.2722 - val_loss: 9433.1387 - val_mae: 9433.8311\n",
      "Epoch 85/5000\n",
      "46/46 [==============================] - 2s 41ms/step - loss: 258.7137 - mae: 259.4031 - val_loss: 9797.6553 - val_mae: 9798.3486\n",
      "Epoch 86/5000\n",
      "46/46 [==============================] - 2s 37ms/step - loss: 261.3524 - mae: 262.0407 - val_loss: 9581.3965 - val_mae: 9582.0898\n",
      "Epoch 87/5000\n",
      "46/46 [==============================] - 2s 38ms/step - loss: 265.6559 - mae: 266.3475 - val_loss: 9544.1514 - val_mae: 9544.8447\n",
      "Epoch 88/5000\n",
      "46/46 [==============================] - 2s 42ms/step - loss: 262.1118 - mae: 262.8025 - val_loss: 9703.0693 - val_mae: 9703.7617\n",
      "Epoch 89/5000\n",
      "46/46 [==============================] - 2s 44ms/step - loss: 261.2052 - mae: 261.8951 - val_loss: 9896.3662 - val_mae: 9897.0586\n",
      "Epoch 90/5000\n",
      "46/46 [==============================] - 2s 43ms/step - loss: 258.2992 - mae: 258.9869 - val_loss: 9853.9775 - val_mae: 9854.6709\n",
      "Epoch 91/5000\n",
      "46/46 [==============================] - 2s 43ms/step - loss: 258.9573 - mae: 259.6467 - val_loss: 9776.8916 - val_mae: 9777.5850\n",
      "Epoch 92/5000\n",
      "46/46 [==============================] - 2s 41ms/step - loss: 249.4568 - mae: 250.1468 - val_loss: 9775.3330 - val_mae: 9776.0254\n",
      "Epoch 93/5000\n",
      "46/46 [==============================] - 2s 34ms/step - loss: 244.2961 - mae: 244.9857 - val_loss: 9754.1797 - val_mae: 9754.8730\n",
      "Epoch 94/5000\n",
      "46/46 [==============================] - 2s 36ms/step - loss: 240.7087 - mae: 241.3988 - val_loss: 9878.4785 - val_mae: 9879.1719\n",
      "Epoch 95/5000\n",
      "46/46 [==============================] - 2s 39ms/step - loss: 243.5117 - mae: 244.2027 - val_loss: 9891.4111 - val_mae: 9892.1025\n",
      "Epoch 96/5000\n",
      "46/46 [==============================] - 2s 41ms/step - loss: 236.2865 - mae: 236.9754 - val_loss: 9872.9795 - val_mae: 9873.6719\n",
      "Epoch 97/5000\n",
      "46/46 [==============================] - 2s 43ms/step - loss: 237.3419 - mae: 238.0296 - val_loss: 10288.9043 - val_mae: 10289.5967\n",
      "Epoch 98/5000\n",
      "46/46 [==============================] - 2s 43ms/step - loss: 241.4846 - mae: 242.1760 - val_loss: 9659.6396 - val_mae: 9660.3330\n",
      "Epoch 99/5000\n",
      "46/46 [==============================] - 2s 48ms/step - loss: 235.8279 - mae: 236.5164 - val_loss: 10037.8105 - val_mae: 10038.5049\n",
      "Epoch 100/5000\n",
      "46/46 [==============================] - 2s 45ms/step - loss: 230.2715 - mae: 230.9603 - val_loss: 10105.3467 - val_mae: 10106.0391\n",
      "Epoch 101/5000\n",
      "46/46 [==============================] - 2s 40ms/step - loss: 230.8895 - mae: 231.5771 - val_loss: 9836.7617 - val_mae: 9837.4541\n",
      "Epoch 102/5000\n",
      "46/46 [==============================] - 2s 42ms/step - loss: 232.7882 - mae: 233.4754 - val_loss: 10314.1406 - val_mae: 10314.8340\n",
      "Epoch 103/5000\n",
      "46/46 [==============================] - 2s 50ms/step - loss: 234.1485 - mae: 234.8389 - val_loss: 9893.5352 - val_mae: 9894.2285\n",
      "Epoch 103: early stopping\n"
     ]
    },
    {
     "data": {
      "text/plain": [
       "<keras.callbacks.History at 0x7fdb044637c0>"
      ]
     },
     "execution_count": 11,
     "metadata": {},
     "output_type": "execute_result"
    }
   ],
   "source": [
    "regressor.fit(X_train,Y_train, epochs=5000, batch_size=32, validation_data=(X_val,Y_val), callbacks=[earlyStopping])"
   ]
  },
  {
   "cell_type": "code",
   "execution_count": 94,
   "id": "adf8814a",
   "metadata": {
    "scrolled": true
   },
   "outputs": [
    {
     "name": "stdout",
     "output_type": "stream",
     "text": [
      "46/46 [==============================] - 0s 7ms/step\n",
      "18/18 [==============================] - 0s 5ms/step\n"
     ]
    }
   ],
   "source": [
    "Y_train_pred=regressor.predict(X_train)\n",
    "y_pred=regressor.predict(X_test)"
   ]
  },
  {
   "cell_type": "code",
   "execution_count": 95,
   "metadata": {},
   "outputs": [],
   "source": [
    "y_pred = y_pred.ravel()\n",
    "Y_train_pred = Y_train_pred.ravel().reshape(-1)"
   ]
  },
  {
   "cell_type": "code",
   "execution_count": 96,
   "metadata": {},
   "outputs": [],
   "source": [
    "Y_train = Y_train.ravel()\n",
    "Y_test = Y_test.ravel()"
   ]
  },
  {
   "cell_type": "code",
   "execution_count": 97,
   "id": "0b0f090b",
   "metadata": {},
   "outputs": [
    {
     "data": {
      "text/plain": [
       "0.9913926769724102"
      ]
     },
     "execution_count": 97,
     "metadata": {},
     "output_type": "execute_result"
    }
   ],
   "source": [
    "# for check\n",
    "r2_score(Y_train, Y_train_pred) #training score"
   ]
  },
  {
   "cell_type": "code",
   "execution_count": 98,
   "id": "e757ef47",
   "metadata": {},
   "outputs": [
    {
     "name": "stdout",
     "output_type": "stream",
     "text": [
      "r2:-0.2589798688023879\n"
     ]
    }
   ],
   "source": [
    "r2=r2_score(Y_test[:-30],y_pred[:-30]) #score/ r^2\n",
    "print(f'r2:{r2}')"
   ]
  },
  {
   "cell_type": "code",
   "execution_count": 99,
   "id": "00ef1c53",
   "metadata": {},
   "outputs": [],
   "source": [
    "# r2_oos\n",
    "def r2_oos(ret, pred):\n",
    "    sum_of_sq_res = np.nansum(np.power((ret-pred), 2))\n",
    "    sum_of_sq_total = np.nansum(np.power(ret, 2))\n",
    "    \n",
    "    return 1-sum_of_sq_res/sum_of_sq_total"
   ]
  },
  {
   "cell_type": "code",
   "execution_count": 100,
   "id": "8969a6b7",
   "metadata": {},
   "outputs": [
    {
     "name": "stdout",
     "output_type": "stream",
     "text": [
      "r2_oos:0.8464803009264017\n"
     ]
    }
   ],
   "source": [
    "r2_oos = r2_oos(Y_test[:-30], y_pred[:-30])\n",
    "print(f'r2_oos:{r2_oos}')"
   ]
  },
  {
   "cell_type": "code",
   "execution_count": 101,
   "id": "70b87143",
   "metadata": {},
   "outputs": [
    {
     "name": "stdout",
     "output_type": "stream",
     "text": [
      "mae:12609.569778797239\n",
      "rmse:15182.723069433938\n",
      "mape:34.76240812814389\n"
     ]
    }
   ],
   "source": [
    "mae=mean_absolute_error(Y_test[:-30],y_pred[:-30]) #mae\n",
    "print(f'mae:{mae}')\n",
    "\n",
    "rmse=np.sqrt(mean_squared_error(Y_test[:-30],y_pred[:-30])) #rmse\n",
    "print(f'rmse:{rmse}')\n",
    "\n",
    "mape=mean_absolute_percentage_error(Y_test[:-30],y_pred[:-30]) #mape\n",
    "print(f'mape:{mape}')"
   ]
  },
  {
   "cell_type": "markdown",
   "id": "8bb36caf",
   "metadata": {},
   "source": [
    "-----------------------------"
   ]
  },
  {
   "cell_type": "code",
   "execution_count": 104,
   "id": "a5641115",
   "metadata": {},
   "outputs": [
    {
     "data": {
      "text/html": [
       "<div>\n",
       "<style scoped>\n",
       "    .dataframe tbody tr th:only-of-type {\n",
       "        vertical-align: middle;\n",
       "    }\n",
       "\n",
       "    .dataframe tbody tr th {\n",
       "        vertical-align: top;\n",
       "    }\n",
       "\n",
       "    .dataframe thead th {\n",
       "        text-align: right;\n",
       "    }\n",
       "</style>\n",
       "<table border=\"1\" class=\"dataframe\">\n",
       "  <thead>\n",
       "    <tr style=\"text-align: right;\">\n",
       "      <th></th>\n",
       "      <th>Y_test</th>\n",
       "      <th>y_pred</th>\n",
       "    </tr>\n",
       "    <tr>\n",
       "      <th>Date</th>\n",
       "      <th></th>\n",
       "      <th></th>\n",
       "    </tr>\n",
       "  </thead>\n",
       "  <tbody>\n",
       "    <tr>\n",
       "      <th>2021-06-01</th>\n",
       "      <td>33731.0</td>\n",
       "      <td>37212.648438</td>\n",
       "    </tr>\n",
       "    <tr>\n",
       "      <th>2021-06-02</th>\n",
       "      <td>33285.0</td>\n",
       "      <td>37070.570312</td>\n",
       "    </tr>\n",
       "    <tr>\n",
       "      <th>2021-06-03</th>\n",
       "      <td>34298.0</td>\n",
       "      <td>36919.085938</td>\n",
       "    </tr>\n",
       "    <tr>\n",
       "      <th>2021-06-04</th>\n",
       "      <td>35271.0</td>\n",
       "      <td>36119.757812</td>\n",
       "    </tr>\n",
       "    <tr>\n",
       "      <th>2021-06-05</th>\n",
       "      <td>34100.0</td>\n",
       "      <td>36322.070312</td>\n",
       "    </tr>\n",
       "    <tr>\n",
       "      <th>...</th>\n",
       "      <td>...</td>\n",
       "      <td>...</td>\n",
       "    </tr>\n",
       "    <tr>\n",
       "      <th>2022-11-24</th>\n",
       "      <td>NaN</td>\n",
       "      <td>22971.363281</td>\n",
       "    </tr>\n",
       "    <tr>\n",
       "      <th>2022-11-25</th>\n",
       "      <td>NaN</td>\n",
       "      <td>22547.933594</td>\n",
       "    </tr>\n",
       "    <tr>\n",
       "      <th>2022-11-26</th>\n",
       "      <td>NaN</td>\n",
       "      <td>22895.242188</td>\n",
       "    </tr>\n",
       "    <tr>\n",
       "      <th>2022-11-27</th>\n",
       "      <td>NaN</td>\n",
       "      <td>22751.988281</td>\n",
       "    </tr>\n",
       "    <tr>\n",
       "      <th>2022-11-28</th>\n",
       "      <td>NaN</td>\n",
       "      <td>22176.255859</td>\n",
       "    </tr>\n",
       "  </tbody>\n",
       "</table>\n",
       "<p>546 rows × 2 columns</p>\n",
       "</div>"
      ],
      "text/plain": [
       "             Y_test        y_pred\n",
       "Date                             \n",
       "2021-06-01  33731.0  37212.648438\n",
       "2021-06-02  33285.0  37070.570312\n",
       "2021-06-03  34298.0  36919.085938\n",
       "2021-06-04  35271.0  36119.757812\n",
       "2021-06-05  34100.0  36322.070312\n",
       "...             ...           ...\n",
       "2022-11-24      NaN  22971.363281\n",
       "2022-11-25      NaN  22547.933594\n",
       "2022-11-26      NaN  22895.242188\n",
       "2022-11-27      NaN  22751.988281\n",
       "2022-11-28      NaN  22176.255859\n",
       "\n",
       "[546 rows x 2 columns]"
      ]
     },
     "execution_count": 104,
     "metadata": {},
     "output_type": "execute_result"
    }
   ],
   "source": [
    "pre_df = pd.DataFrame(zip(Y_test,y_pred),columns=['Y_test','y_pred'])\n",
    "pre_df.index = tmp_index\n",
    "pre_df"
   ]
  },
  {
   "cell_type": "code",
   "execution_count": 105,
   "id": "4f4bd2ca",
   "metadata": {},
   "outputs": [],
   "source": [
    "pre_df['pred_returns'] = pre_df['y_pred'].pct_change()"
   ]
  },
  {
   "cell_type": "code",
   "execution_count": 106,
   "id": "0b94aa95",
   "metadata": {},
   "outputs": [
    {
     "data": {
      "text/html": [
       "<div>\n",
       "<style scoped>\n",
       "    .dataframe tbody tr th:only-of-type {\n",
       "        vertical-align: middle;\n",
       "    }\n",
       "\n",
       "    .dataframe tbody tr th {\n",
       "        vertical-align: top;\n",
       "    }\n",
       "\n",
       "    .dataframe thead th {\n",
       "        text-align: right;\n",
       "    }\n",
       "</style>\n",
       "<table border=\"1\" class=\"dataframe\">\n",
       "  <thead>\n",
       "    <tr style=\"text-align: right;\">\n",
       "      <th></th>\n",
       "      <th>Y_test</th>\n",
       "      <th>y_pred</th>\n",
       "      <th>pred_returns</th>\n",
       "    </tr>\n",
       "    <tr>\n",
       "      <th>Date</th>\n",
       "      <th></th>\n",
       "      <th></th>\n",
       "      <th></th>\n",
       "    </tr>\n",
       "  </thead>\n",
       "  <tbody>\n",
       "    <tr>\n",
       "      <th>2021-06-01</th>\n",
       "      <td>33731.0</td>\n",
       "      <td>37212.648438</td>\n",
       "      <td>NaN</td>\n",
       "    </tr>\n",
       "    <tr>\n",
       "      <th>2021-06-02</th>\n",
       "      <td>33285.0</td>\n",
       "      <td>37070.570312</td>\n",
       "      <td>-0.003818</td>\n",
       "    </tr>\n",
       "    <tr>\n",
       "      <th>2021-06-03</th>\n",
       "      <td>34298.0</td>\n",
       "      <td>36919.085938</td>\n",
       "      <td>-0.004086</td>\n",
       "    </tr>\n",
       "    <tr>\n",
       "      <th>2021-06-04</th>\n",
       "      <td>35271.0</td>\n",
       "      <td>36119.757812</td>\n",
       "      <td>-0.021651</td>\n",
       "    </tr>\n",
       "    <tr>\n",
       "      <th>2021-06-05</th>\n",
       "      <td>34100.0</td>\n",
       "      <td>36322.070312</td>\n",
       "      <td>0.005601</td>\n",
       "    </tr>\n",
       "    <tr>\n",
       "      <th>...</th>\n",
       "      <td>...</td>\n",
       "      <td>...</td>\n",
       "      <td>...</td>\n",
       "    </tr>\n",
       "    <tr>\n",
       "      <th>2022-11-24</th>\n",
       "      <td>NaN</td>\n",
       "      <td>22971.363281</td>\n",
       "      <td>0.011217</td>\n",
       "    </tr>\n",
       "    <tr>\n",
       "      <th>2022-11-25</th>\n",
       "      <td>NaN</td>\n",
       "      <td>22547.933594</td>\n",
       "      <td>-0.018433</td>\n",
       "    </tr>\n",
       "    <tr>\n",
       "      <th>2022-11-26</th>\n",
       "      <td>NaN</td>\n",
       "      <td>22895.242188</td>\n",
       "      <td>0.015403</td>\n",
       "    </tr>\n",
       "    <tr>\n",
       "      <th>2022-11-27</th>\n",
       "      <td>NaN</td>\n",
       "      <td>22751.988281</td>\n",
       "      <td>-0.006257</td>\n",
       "    </tr>\n",
       "    <tr>\n",
       "      <th>2022-11-28</th>\n",
       "      <td>NaN</td>\n",
       "      <td>22176.255859</td>\n",
       "      <td>-0.025305</td>\n",
       "    </tr>\n",
       "  </tbody>\n",
       "</table>\n",
       "<p>546 rows × 3 columns</p>\n",
       "</div>"
      ],
      "text/plain": [
       "             Y_test        y_pred  pred_returns\n",
       "Date                                           \n",
       "2021-06-01  33731.0  37212.648438           NaN\n",
       "2021-06-02  33285.0  37070.570312     -0.003818\n",
       "2021-06-03  34298.0  36919.085938     -0.004086\n",
       "2021-06-04  35271.0  36119.757812     -0.021651\n",
       "2021-06-05  34100.0  36322.070312      0.005601\n",
       "...             ...           ...           ...\n",
       "2022-11-24      NaN  22971.363281      0.011217\n",
       "2022-11-25      NaN  22547.933594     -0.018433\n",
       "2022-11-26      NaN  22895.242188      0.015403\n",
       "2022-11-27      NaN  22751.988281     -0.006257\n",
       "2022-11-28      NaN  22176.255859     -0.025305\n",
       "\n",
       "[546 rows x 3 columns]"
      ]
     },
     "execution_count": 106,
     "metadata": {},
     "output_type": "execute_result"
    }
   ],
   "source": [
    "pre_df"
   ]
  },
  {
   "cell_type": "code",
   "execution_count": 107,
   "id": "0d9674c7",
   "metadata": {},
   "outputs": [
    {
     "data": {
      "text/plain": [
       "<AxesSubplot:>"
      ]
     },
     "execution_count": 107,
     "metadata": {},
     "output_type": "execute_result"
    },
    {
     "data": {
      "image/png": "[encoded data removed]",
      "text/plain": [
       "<Figure size 640x480 with 1 Axes>"
      ]
     },
     "metadata": {},
     "output_type": "display_data"
    }
   ],
   "source": [
    "pd.DataFrame(zip(Y_test,y_pred),columns=['Y_test','y_pred']).plot()"
   ]
  },
  {
   "cell_type": "code",
   "execution_count": 108,
   "id": "732393ad",
   "metadata": {},
   "outputs": [],
   "source": [
    "pre_df.to_csv(\"../result/LSTM/btc_NN.csv\")"
   ]
  },
  {
   "cell_type": "code",
   "execution_count": 109,
   "metadata": {},
   "outputs": [],
   "source": [
    "\n",
    "!kdeconnect-cli -n TAS-AN00 --ping-msg 'Script complete!'"
   ]
  },
  {
   "cell_type": "code",
   "execution_count": null,
   "metadata": {},
   "outputs": [],
   "source": []
  }
 ],
 "metadata": {
  "colab": {
   "collapsed_sections": [],
   "name": "Stock Market Predictor.ipynb",
   "provenance": [],
   "toc_visible": true
  },
  "kernelspec": {
   "display_name": "Python 3 (ipykernel)",
   "language": "python",
   "name": "python3"
  },
  "language_info": {
   "codemirror_mode": {
    "name": "ipython",
    "version": 3
   },
   "file_extension": ".py",
   "mimetype": "text/x-python",
   "name": "python",
   "nbconvert_exporter": "python",
   "pygments_lexer": "ipython3",
   "version": "3.10.8"
  },
  "vscode": {
   "interpreter": {
    "hash": "0a952188e4bab49300a5758bda39ddc90e91f41f35dfe6ea820e496e515be371"
   }
  }
 },
 "nbformat": 4,
 "nbformat_minor": 1
}
