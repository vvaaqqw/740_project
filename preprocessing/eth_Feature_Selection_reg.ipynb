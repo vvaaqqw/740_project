{
 "cells": [
  {
   "cell_type": "code",
   "execution_count": 1,
   "metadata": {},
   "outputs": [],
   "source": [
    "import pandas as pd\n",
    "import numpy as np\n",
    "import seaborn as sns\n",
    "import re\n",
    "import commons as cmns\n",
    "from sklearn.ensemble import RandomForestRegressor\n",
    "from sklearn.model_selection import train_test_split\n",
    "from sklearn.feature_selection import RFECV\n",
    "from sklearn.preprocessing import MinMaxScaler, RobustScaler\n",
    "from sklearn.impute import SimpleImputer\n",
    "from sklearn.pipeline import Pipeline\n",
    "import matplotlib.pyplot as plt\n",
    "import seaborn as sns\n",
    "%matplotlib inline\n",
    "# from IPython.display import Audio\n",
    "# sound_file = 'beep.wav'"
   ]
  },
  {
   "cell_type": "code",
   "execution_count": 2,
   "metadata": {},
   "outputs": [],
   "source": [
    "data=pd.read_csv('../Data/etherium_Data.csv',sep=',')"
   ]
  },
  {
   "cell_type": "code",
   "execution_count": null,
   "metadata": {},
   "outputs": [],
   "source": []
  },
  {
   "cell_type": "code",
   "execution_count": 3,
   "metadata": {},
   "outputs": [],
   "source": [
    "data.interpolate(axis=0,inplace=True)"
   ]
  },
  {
   "cell_type": "code",
   "execution_count": 4,
   "metadata": {},
   "outputs": [],
   "source": [
    "interval=(data['Date'] >= '2016/01/01') & (data['Date'] <= '2019/12/31')\n",
    "\n",
    "interval1 = (data['Date'] >= '2013/04/01') & (data['Date'] <= '2016/04/01')\n",
    "interval2=(data['Date'] >= '2013/04/01') & (data['Date'] <= '2017/04/01')\n",
    "interval3=(data['Date'] >= '2013/04/01') & (data['Date'] <= '2019/12/31')"
   ]
  },
  {
   "cell_type": "code",
   "execution_count": 5,
   "metadata": {},
   "outputs": [],
   "source": [
    "one=data['priceUSD'].shift(-1,fill_value=1)\n",
    "seven=data['priceUSD'].shift(-7,fill_value=1)\n",
    "fourteen=data['priceUSD'].shift(-14,fill_value=1)\n",
    "thirty=data['priceUSD'].shift(-30,fill_value=1)\n",
    "sixty=data['priceUSD'].shift(-60,fill_value=1)\n",
    "ninety=data['priceUSD'].shift(-90,fill_value=1)"
   ]
  },
  {
   "cell_type": "code",
   "execution_count": 6,
   "metadata": {},
   "outputs": [],
   "source": [
    "df=data.loc[interval]"
   ]
  },
  {
   "cell_type": "code",
   "execution_count": 7,
   "metadata": {
    "scrolled": true
   },
   "outputs": [
    {
     "name": "stderr",
     "output_type": "stream",
     "text": [
      "/tmp/ipykernel_490387/2886425534.py:1: SettingWithCopyWarning: \n",
      "A value is trying to be set on a copy of a slice from a DataFrame.\n",
      "Try using .loc[row_indexer,col_indexer] = value instead\n",
      "\n",
      "See the caveats in the documentation: https://pandas.pydata.org/pandas-docs/stable/user_guide/indexing.html#returning-a-view-versus-a-copy\n",
      "  df['priceUSD']=thirty.loc[interval].copy() # shift 30 days to predict the price after 30 days\n"
     ]
    }
   ],
   "source": [
    "df['priceUSD']=thirty.loc[interval].copy() # shift 30 days to predict the price after 30 days"
   ]
  },
  {
   "cell_type": "code",
   "execution_count": 8,
   "metadata": {},
   "outputs": [
    {
     "data": {
      "text/plain": [
       "(1461, 738)"
      ]
     },
     "execution_count": 8,
     "metadata": {},
     "output_type": "execute_result"
    }
   ],
   "source": [
    "df.shape"
   ]
  },
  {
   "cell_type": "code",
   "execution_count": 9,
   "metadata": {},
   "outputs": [
    {
     "data": {
      "text/html": [
       "<div>\n",
       "<style scoped>\n",
       "    .dataframe tbody tr th:only-of-type {\n",
       "        vertical-align: middle;\n",
       "    }\n",
       "\n",
       "    .dataframe tbody tr th {\n",
       "        vertical-align: top;\n",
       "    }\n",
       "\n",
       "    .dataframe thead th {\n",
       "        text-align: right;\n",
       "    }\n",
       "</style>\n",
       "<table border=\"1\" class=\"dataframe\">\n",
       "  <thead>\n",
       "    <tr style=\"text-align: right;\">\n",
       "      <th></th>\n",
       "      <th>index</th>\n",
       "      <th>Unnamed: 0</th>\n",
       "      <th>Date</th>\n",
       "      <th>priceUSD</th>\n",
       "      <th>transactions</th>\n",
       "      <th>size</th>\n",
       "      <th>sentbyaddress</th>\n",
       "      <th>difficulty</th>\n",
       "      <th>hashrate</th>\n",
       "      <th>mining_profitability</th>\n",
       "      <th>...</th>\n",
       "      <th>price3rsiUSD</th>\n",
       "      <th>price7rsiUSD</th>\n",
       "      <th>price14rsiUSD</th>\n",
       "      <th>price30rsiUSD</th>\n",
       "      <th>price90rsiUSD</th>\n",
       "      <th>price3rocUSD</th>\n",
       "      <th>price7rocUSD</th>\n",
       "      <th>price14rocUSD</th>\n",
       "      <th>price30rocUSD</th>\n",
       "      <th>price90rocUSD</th>\n",
       "    </tr>\n",
       "  </thead>\n",
       "  <tbody>\n",
       "    <tr>\n",
       "      <th>0</th>\n",
       "      <td>0</td>\n",
       "      <td>0</td>\n",
       "      <td>2016/01/01</td>\n",
       "      <td>377.724</td>\n",
       "      <td>123957.0</td>\n",
       "      <td>493324.0</td>\n",
       "      <td>201778.0</td>\n",
       "      <td>1.038803e+11</td>\n",
       "      <td>7.143095e+17</td>\n",
       "      <td>2.054</td>\n",
       "      <td>...</td>\n",
       "      <td>432.258</td>\n",
       "      <td>432.258</td>\n",
       "      <td>432.258</td>\n",
       "      <td>432.258</td>\n",
       "      <td>432.258</td>\n",
       "      <td>432.258</td>\n",
       "      <td>432.258</td>\n",
       "      <td>432.258</td>\n",
       "      <td>432.258</td>\n",
       "      <td>432.258</td>\n",
       "    </tr>\n",
       "    <tr>\n",
       "      <th>1</th>\n",
       "      <td>1</td>\n",
       "      <td>1</td>\n",
       "      <td>2016/01/02</td>\n",
       "      <td>373.237</td>\n",
       "      <td>148893.0</td>\n",
       "      <td>579661.0</td>\n",
       "      <td>260130.0</td>\n",
       "      <td>1.038803e+11</td>\n",
       "      <td>7.045287e+17</td>\n",
       "      <td>2.248</td>\n",
       "      <td>...</td>\n",
       "      <td>433.240</td>\n",
       "      <td>433.240</td>\n",
       "      <td>433.240</td>\n",
       "      <td>433.240</td>\n",
       "      <td>433.240</td>\n",
       "      <td>433.240</td>\n",
       "      <td>433.240</td>\n",
       "      <td>433.240</td>\n",
       "      <td>433.240</td>\n",
       "      <td>433.240</td>\n",
       "    </tr>\n",
       "    <tr>\n",
       "      <th>2</th>\n",
       "      <td>2</td>\n",
       "      <td>2</td>\n",
       "      <td>2016/01/03</td>\n",
       "      <td>374.287</td>\n",
       "      <td>142463.0</td>\n",
       "      <td>554573.0</td>\n",
       "      <td>244440.0</td>\n",
       "      <td>1.038803e+11</td>\n",
       "      <td>7.770801e+17</td>\n",
       "      <td>2.016</td>\n",
       "      <td>...</td>\n",
       "      <td>429.271</td>\n",
       "      <td>429.271</td>\n",
       "      <td>429.271</td>\n",
       "      <td>429.271</td>\n",
       "      <td>429.271</td>\n",
       "      <td>429.271</td>\n",
       "      <td>429.271</td>\n",
       "      <td>429.271</td>\n",
       "      <td>429.271</td>\n",
       "      <td>429.271</td>\n",
       "    </tr>\n",
       "    <tr>\n",
       "      <th>3</th>\n",
       "      <td>3</td>\n",
       "      <td>3</td>\n",
       "      <td>2016/01/04</td>\n",
       "      <td>372.194</td>\n",
       "      <td>181173.0</td>\n",
       "      <td>556888.0</td>\n",
       "      <td>279282.0</td>\n",
       "      <td>1.038803e+11</td>\n",
       "      <td>8.502728e+17</td>\n",
       "      <td>2.314</td>\n",
       "      <td>...</td>\n",
       "      <td>431.819</td>\n",
       "      <td>431.819</td>\n",
       "      <td>431.819</td>\n",
       "      <td>431.819</td>\n",
       "      <td>431.819</td>\n",
       "      <td>431.819</td>\n",
       "      <td>431.819</td>\n",
       "      <td>431.819</td>\n",
       "      <td>431.819</td>\n",
       "      <td>431.819</td>\n",
       "    </tr>\n",
       "    <tr>\n",
       "      <th>4</th>\n",
       "      <td>4</td>\n",
       "      <td>4</td>\n",
       "      <td>2016/01/05</td>\n",
       "      <td>378.350</td>\n",
       "      <td>182214.0</td>\n",
       "      <td>641696.0</td>\n",
       "      <td>291077.0</td>\n",
       "      <td>1.038803e+11</td>\n",
       "      <td>8.448980e+17</td>\n",
       "      <td>2.025</td>\n",
       "      <td>...</td>\n",
       "      <td>432.241</td>\n",
       "      <td>432.241</td>\n",
       "      <td>432.241</td>\n",
       "      <td>432.241</td>\n",
       "      <td>432.241</td>\n",
       "      <td>432.241</td>\n",
       "      <td>432.241</td>\n",
       "      <td>432.241</td>\n",
       "      <td>432.241</td>\n",
       "      <td>432.241</td>\n",
       "    </tr>\n",
       "    <tr>\n",
       "      <th>...</th>\n",
       "      <td>...</td>\n",
       "      <td>...</td>\n",
       "      <td>...</td>\n",
       "      <td>...</td>\n",
       "      <td>...</td>\n",
       "      <td>...</td>\n",
       "      <td>...</td>\n",
       "      <td>...</td>\n",
       "      <td>...</td>\n",
       "      <td>...</td>\n",
       "      <td>...</td>\n",
       "      <td>...</td>\n",
       "      <td>...</td>\n",
       "      <td>...</td>\n",
       "      <td>...</td>\n",
       "      <td>...</td>\n",
       "      <td>...</td>\n",
       "      <td>...</td>\n",
       "      <td>...</td>\n",
       "      <td>...</td>\n",
       "      <td>...</td>\n",
       "    </tr>\n",
       "    <tr>\n",
       "      <th>1456</th>\n",
       "      <td>1456</td>\n",
       "      <td>1456</td>\n",
       "      <td>2019/12/27</td>\n",
       "      <td>8466.000</td>\n",
       "      <td>322059.0</td>\n",
       "      <td>709273.0</td>\n",
       "      <td>415723.0</td>\n",
       "      <td>1.294859e+13</td>\n",
       "      <td>9.725392e+19</td>\n",
       "      <td>0.137</td>\n",
       "      <td>...</td>\n",
       "      <td>7263.000</td>\n",
       "      <td>7263.000</td>\n",
       "      <td>7263.000</td>\n",
       "      <td>7263.000</td>\n",
       "      <td>7263.000</td>\n",
       "      <td>7263.000</td>\n",
       "      <td>7263.000</td>\n",
       "      <td>7263.000</td>\n",
       "      <td>7263.000</td>\n",
       "      <td>7263.000</td>\n",
       "    </tr>\n",
       "    <tr>\n",
       "      <th>1457</th>\n",
       "      <td>1457</td>\n",
       "      <td>1457</td>\n",
       "      <td>2019/12/28</td>\n",
       "      <td>8744.000</td>\n",
       "      <td>298138.0</td>\n",
       "      <td>625161.0</td>\n",
       "      <td>376120.0</td>\n",
       "      <td>1.294859e+13</td>\n",
       "      <td>9.517417e+19</td>\n",
       "      <td>0.145</td>\n",
       "      <td>...</td>\n",
       "      <td>7361.000</td>\n",
       "      <td>7361.000</td>\n",
       "      <td>7361.000</td>\n",
       "      <td>7361.000</td>\n",
       "      <td>7361.000</td>\n",
       "      <td>7361.000</td>\n",
       "      <td>7361.000</td>\n",
       "      <td>7361.000</td>\n",
       "      <td>7361.000</td>\n",
       "      <td>7361.000</td>\n",
       "    </tr>\n",
       "    <tr>\n",
       "      <th>1458</th>\n",
       "      <td>1458</td>\n",
       "      <td>1458</td>\n",
       "      <td>2019/12/29</td>\n",
       "      <td>9049.000</td>\n",
       "      <td>279770.0</td>\n",
       "      <td>552879.0</td>\n",
       "      <td>344377.0</td>\n",
       "      <td>1.294859e+13</td>\n",
       "      <td>1.010148e+20</td>\n",
       "      <td>0.144</td>\n",
       "      <td>...</td>\n",
       "      <td>7469.000</td>\n",
       "      <td>7469.000</td>\n",
       "      <td>7469.000</td>\n",
       "      <td>7469.000</td>\n",
       "      <td>7469.000</td>\n",
       "      <td>7469.000</td>\n",
       "      <td>7469.000</td>\n",
       "      <td>7469.000</td>\n",
       "      <td>7469.000</td>\n",
       "      <td>7469.000</td>\n",
       "    </tr>\n",
       "    <tr>\n",
       "      <th>1459</th>\n",
       "      <td>1459</td>\n",
       "      <td>1459</td>\n",
       "      <td>2019/12/30</td>\n",
       "      <td>9349.000</td>\n",
       "      <td>324331.0</td>\n",
       "      <td>661326.0</td>\n",
       "      <td>418908.0</td>\n",
       "      <td>1.294859e+13</td>\n",
       "      <td>1.018722e+20</td>\n",
       "      <td>0.152</td>\n",
       "      <td>...</td>\n",
       "      <td>7388.000</td>\n",
       "      <td>7388.000</td>\n",
       "      <td>7388.000</td>\n",
       "      <td>7388.000</td>\n",
       "      <td>7388.000</td>\n",
       "      <td>7388.000</td>\n",
       "      <td>7388.000</td>\n",
       "      <td>7388.000</td>\n",
       "      <td>7388.000</td>\n",
       "      <td>7388.000</td>\n",
       "    </tr>\n",
       "    <tr>\n",
       "      <th>1460</th>\n",
       "      <td>1460</td>\n",
       "      <td>1460</td>\n",
       "      <td>2019/12/31</td>\n",
       "      <td>9394.000</td>\n",
       "      <td>293302.0</td>\n",
       "      <td>687065.0</td>\n",
       "      <td>375764.0</td>\n",
       "      <td>1.294859e+13</td>\n",
       "      <td>9.877266e+19</td>\n",
       "      <td>0.135</td>\n",
       "      <td>...</td>\n",
       "      <td>7293.000</td>\n",
       "      <td>7293.000</td>\n",
       "      <td>7293.000</td>\n",
       "      <td>7293.000</td>\n",
       "      <td>7293.000</td>\n",
       "      <td>7293.000</td>\n",
       "      <td>7293.000</td>\n",
       "      <td>7293.000</td>\n",
       "      <td>7293.000</td>\n",
       "      <td>7293.000</td>\n",
       "    </tr>\n",
       "  </tbody>\n",
       "</table>\n",
       "<p>1461 rows × 739 columns</p>\n",
       "</div>"
      ],
      "text/plain": [
       "      index  Unnamed: 0        Date  priceUSD  transactions      size  \\\n",
       "0         0           0  2016/01/01   377.724      123957.0  493324.0   \n",
       "1         1           1  2016/01/02   373.237      148893.0  579661.0   \n",
       "2         2           2  2016/01/03   374.287      142463.0  554573.0   \n",
       "3         3           3  2016/01/04   372.194      181173.0  556888.0   \n",
       "4         4           4  2016/01/05   378.350      182214.0  641696.0   \n",
       "...     ...         ...         ...       ...           ...       ...   \n",
       "1456   1456        1456  2019/12/27  8466.000      322059.0  709273.0   \n",
       "1457   1457        1457  2019/12/28  8744.000      298138.0  625161.0   \n",
       "1458   1458        1458  2019/12/29  9049.000      279770.0  552879.0   \n",
       "1459   1459        1459  2019/12/30  9349.000      324331.0  661326.0   \n",
       "1460   1460        1460  2019/12/31  9394.000      293302.0  687065.0   \n",
       "\n",
       "      sentbyaddress    difficulty      hashrate  mining_profitability  ...  \\\n",
       "0          201778.0  1.038803e+11  7.143095e+17                 2.054  ...   \n",
       "1          260130.0  1.038803e+11  7.045287e+17                 2.248  ...   \n",
       "2          244440.0  1.038803e+11  7.770801e+17                 2.016  ...   \n",
       "3          279282.0  1.038803e+11  8.502728e+17                 2.314  ...   \n",
       "4          291077.0  1.038803e+11  8.448980e+17                 2.025  ...   \n",
       "...             ...           ...           ...                   ...  ...   \n",
       "1456       415723.0  1.294859e+13  9.725392e+19                 0.137  ...   \n",
       "1457       376120.0  1.294859e+13  9.517417e+19                 0.145  ...   \n",
       "1458       344377.0  1.294859e+13  1.010148e+20                 0.144  ...   \n",
       "1459       418908.0  1.294859e+13  1.018722e+20                 0.152  ...   \n",
       "1460       375764.0  1.294859e+13  9.877266e+19                 0.135  ...   \n",
       "\n",
       "      price3rsiUSD  price7rsiUSD  price14rsiUSD  price30rsiUSD  price90rsiUSD  \\\n",
       "0          432.258       432.258        432.258        432.258        432.258   \n",
       "1          433.240       433.240        433.240        433.240        433.240   \n",
       "2          429.271       429.271        429.271        429.271        429.271   \n",
       "3          431.819       431.819        431.819        431.819        431.819   \n",
       "4          432.241       432.241        432.241        432.241        432.241   \n",
       "...            ...           ...            ...            ...            ...   \n",
       "1456      7263.000      7263.000       7263.000       7263.000       7263.000   \n",
       "1457      7361.000      7361.000       7361.000       7361.000       7361.000   \n",
       "1458      7469.000      7469.000       7469.000       7469.000       7469.000   \n",
       "1459      7388.000      7388.000       7388.000       7388.000       7388.000   \n",
       "1460      7293.000      7293.000       7293.000       7293.000       7293.000   \n",
       "\n",
       "      price3rocUSD  price7rocUSD  price14rocUSD  price30rocUSD  price90rocUSD  \n",
       "0          432.258       432.258        432.258        432.258        432.258  \n",
       "1          433.240       433.240        433.240        433.240        433.240  \n",
       "2          429.271       429.271        429.271        429.271        429.271  \n",
       "3          431.819       431.819        431.819        431.819        431.819  \n",
       "4          432.241       432.241        432.241        432.241        432.241  \n",
       "...            ...           ...            ...            ...            ...  \n",
       "1456      7263.000      7263.000       7263.000       7263.000       7263.000  \n",
       "1457      7361.000      7361.000       7361.000       7361.000       7361.000  \n",
       "1458      7469.000      7469.000       7469.000       7469.000       7469.000  \n",
       "1459      7388.000      7388.000       7388.000       7388.000       7388.000  \n",
       "1460      7293.000      7293.000       7293.000       7293.000       7293.000  \n",
       "\n",
       "[1461 rows x 739 columns]"
      ]
     },
     "execution_count": 9,
     "metadata": {},
     "output_type": "execute_result"
    }
   ],
   "source": [
    "df.reset_index(inplace=True)\n",
    "df"
   ]
  },
  {
   "cell_type": "code",
   "execution_count": 10,
   "metadata": {},
   "outputs": [
    {
     "data": {
      "text/html": [
       "<div>\n",
       "<style scoped>\n",
       "    .dataframe tbody tr th:only-of-type {\n",
       "        vertical-align: middle;\n",
       "    }\n",
       "\n",
       "    .dataframe tbody tr th {\n",
       "        vertical-align: top;\n",
       "    }\n",
       "\n",
       "    .dataframe thead th {\n",
       "        text-align: right;\n",
       "    }\n",
       "</style>\n",
       "<table border=\"1\" class=\"dataframe\">\n",
       "  <thead>\n",
       "    <tr style=\"text-align: right;\">\n",
       "      <th></th>\n",
       "      <th>Date</th>\n",
       "      <th>priceUSD</th>\n",
       "      <th>transactions</th>\n",
       "      <th>size</th>\n",
       "      <th>sentbyaddress</th>\n",
       "      <th>difficulty</th>\n",
       "      <th>hashrate</th>\n",
       "      <th>mining_profitability</th>\n",
       "      <th>sentinusdUSD</th>\n",
       "      <th>transactionfeesUSD</th>\n",
       "      <th>...</th>\n",
       "      <th>price3rsiUSD</th>\n",
       "      <th>price7rsiUSD</th>\n",
       "      <th>price14rsiUSD</th>\n",
       "      <th>price30rsiUSD</th>\n",
       "      <th>price90rsiUSD</th>\n",
       "      <th>price3rocUSD</th>\n",
       "      <th>price7rocUSD</th>\n",
       "      <th>price14rocUSD</th>\n",
       "      <th>price30rocUSD</th>\n",
       "      <th>price90rocUSD</th>\n",
       "    </tr>\n",
       "  </thead>\n",
       "  <tbody>\n",
       "    <tr>\n",
       "      <th>0</th>\n",
       "      <td>2016/01/01</td>\n",
       "      <td>377.724</td>\n",
       "      <td>123957.0</td>\n",
       "      <td>493324.0</td>\n",
       "      <td>201778.0</td>\n",
       "      <td>1.038803e+11</td>\n",
       "      <td>7.143095e+17</td>\n",
       "      <td>2.054</td>\n",
       "      <td>3.790767e+08</td>\n",
       "      <td>0.0691</td>\n",
       "      <td>...</td>\n",
       "      <td>432.258</td>\n",
       "      <td>432.258</td>\n",
       "      <td>432.258</td>\n",
       "      <td>432.258</td>\n",
       "      <td>432.258</td>\n",
       "      <td>432.258</td>\n",
       "      <td>432.258</td>\n",
       "      <td>432.258</td>\n",
       "      <td>432.258</td>\n",
       "      <td>432.258</td>\n",
       "    </tr>\n",
       "    <tr>\n",
       "      <th>1</th>\n",
       "      <td>2016/01/02</td>\n",
       "      <td>373.237</td>\n",
       "      <td>148893.0</td>\n",
       "      <td>579661.0</td>\n",
       "      <td>260130.0</td>\n",
       "      <td>1.038803e+11</td>\n",
       "      <td>7.045287e+17</td>\n",
       "      <td>2.248</td>\n",
       "      <td>3.160521e+08</td>\n",
       "      <td>0.0913</td>\n",
       "      <td>...</td>\n",
       "      <td>433.240</td>\n",
       "      <td>433.240</td>\n",
       "      <td>433.240</td>\n",
       "      <td>433.240</td>\n",
       "      <td>433.240</td>\n",
       "      <td>433.240</td>\n",
       "      <td>433.240</td>\n",
       "      <td>433.240</td>\n",
       "      <td>433.240</td>\n",
       "      <td>433.240</td>\n",
       "    </tr>\n",
       "    <tr>\n",
       "      <th>2</th>\n",
       "      <td>2016/01/03</td>\n",
       "      <td>374.287</td>\n",
       "      <td>142463.0</td>\n",
       "      <td>554573.0</td>\n",
       "      <td>244440.0</td>\n",
       "      <td>1.038803e+11</td>\n",
       "      <td>7.770801e+17</td>\n",
       "      <td>2.016</td>\n",
       "      <td>3.350245e+08</td>\n",
       "      <td>0.0726</td>\n",
       "      <td>...</td>\n",
       "      <td>429.271</td>\n",
       "      <td>429.271</td>\n",
       "      <td>429.271</td>\n",
       "      <td>429.271</td>\n",
       "      <td>429.271</td>\n",
       "      <td>429.271</td>\n",
       "      <td>429.271</td>\n",
       "      <td>429.271</td>\n",
       "      <td>429.271</td>\n",
       "      <td>429.271</td>\n",
       "    </tr>\n",
       "    <tr>\n",
       "      <th>3</th>\n",
       "      <td>2016/01/04</td>\n",
       "      <td>372.194</td>\n",
       "      <td>181173.0</td>\n",
       "      <td>556888.0</td>\n",
       "      <td>279282.0</td>\n",
       "      <td>1.038803e+11</td>\n",
       "      <td>8.502728e+17</td>\n",
       "      <td>2.314</td>\n",
       "      <td>4.035271e+08</td>\n",
       "      <td>0.0733</td>\n",
       "      <td>...</td>\n",
       "      <td>431.819</td>\n",
       "      <td>431.819</td>\n",
       "      <td>431.819</td>\n",
       "      <td>431.819</td>\n",
       "      <td>431.819</td>\n",
       "      <td>431.819</td>\n",
       "      <td>431.819</td>\n",
       "      <td>431.819</td>\n",
       "      <td>431.819</td>\n",
       "      <td>431.819</td>\n",
       "    </tr>\n",
       "    <tr>\n",
       "      <th>4</th>\n",
       "      <td>2016/01/05</td>\n",
       "      <td>378.350</td>\n",
       "      <td>182214.0</td>\n",
       "      <td>641696.0</td>\n",
       "      <td>291077.0</td>\n",
       "      <td>1.038803e+11</td>\n",
       "      <td>8.448980e+17</td>\n",
       "      <td>2.025</td>\n",
       "      <td>5.397410e+08</td>\n",
       "      <td>0.0766</td>\n",
       "      <td>...</td>\n",
       "      <td>432.241</td>\n",
       "      <td>432.241</td>\n",
       "      <td>432.241</td>\n",
       "      <td>432.241</td>\n",
       "      <td>432.241</td>\n",
       "      <td>432.241</td>\n",
       "      <td>432.241</td>\n",
       "      <td>432.241</td>\n",
       "      <td>432.241</td>\n",
       "      <td>432.241</td>\n",
       "    </tr>\n",
       "    <tr>\n",
       "      <th>...</th>\n",
       "      <td>...</td>\n",
       "      <td>...</td>\n",
       "      <td>...</td>\n",
       "      <td>...</td>\n",
       "      <td>...</td>\n",
       "      <td>...</td>\n",
       "      <td>...</td>\n",
       "      <td>...</td>\n",
       "      <td>...</td>\n",
       "      <td>...</td>\n",
       "      <td>...</td>\n",
       "      <td>...</td>\n",
       "      <td>...</td>\n",
       "      <td>...</td>\n",
       "      <td>...</td>\n",
       "      <td>...</td>\n",
       "      <td>...</td>\n",
       "      <td>...</td>\n",
       "      <td>...</td>\n",
       "      <td>...</td>\n",
       "      <td>...</td>\n",
       "    </tr>\n",
       "    <tr>\n",
       "      <th>1456</th>\n",
       "      <td>2019/12/27</td>\n",
       "      <td>8466.000</td>\n",
       "      <td>322059.0</td>\n",
       "      <td>709273.0</td>\n",
       "      <td>415723.0</td>\n",
       "      <td>1.294859e+13</td>\n",
       "      <td>9.725392e+19</td>\n",
       "      <td>0.137</td>\n",
       "      <td>3.906419e+09</td>\n",
       "      <td>0.3860</td>\n",
       "      <td>...</td>\n",
       "      <td>7263.000</td>\n",
       "      <td>7263.000</td>\n",
       "      <td>7263.000</td>\n",
       "      <td>7263.000</td>\n",
       "      <td>7263.000</td>\n",
       "      <td>7263.000</td>\n",
       "      <td>7263.000</td>\n",
       "      <td>7263.000</td>\n",
       "      <td>7263.000</td>\n",
       "      <td>7263.000</td>\n",
       "    </tr>\n",
       "    <tr>\n",
       "      <th>1457</th>\n",
       "      <td>2019/12/28</td>\n",
       "      <td>8744.000</td>\n",
       "      <td>298138.0</td>\n",
       "      <td>625161.0</td>\n",
       "      <td>376120.0</td>\n",
       "      <td>1.294859e+13</td>\n",
       "      <td>9.517417e+19</td>\n",
       "      <td>0.145</td>\n",
       "      <td>3.214321e+09</td>\n",
       "      <td>0.3410</td>\n",
       "      <td>...</td>\n",
       "      <td>7361.000</td>\n",
       "      <td>7361.000</td>\n",
       "      <td>7361.000</td>\n",
       "      <td>7361.000</td>\n",
       "      <td>7361.000</td>\n",
       "      <td>7361.000</td>\n",
       "      <td>7361.000</td>\n",
       "      <td>7361.000</td>\n",
       "      <td>7361.000</td>\n",
       "      <td>7361.000</td>\n",
       "    </tr>\n",
       "    <tr>\n",
       "      <th>1458</th>\n",
       "      <td>2019/12/29</td>\n",
       "      <td>9049.000</td>\n",
       "      <td>279770.0</td>\n",
       "      <td>552879.0</td>\n",
       "      <td>344377.0</td>\n",
       "      <td>1.294859e+13</td>\n",
       "      <td>1.010148e+20</td>\n",
       "      <td>0.144</td>\n",
       "      <td>2.491859e+09</td>\n",
       "      <td>0.3370</td>\n",
       "      <td>...</td>\n",
       "      <td>7469.000</td>\n",
       "      <td>7469.000</td>\n",
       "      <td>7469.000</td>\n",
       "      <td>7469.000</td>\n",
       "      <td>7469.000</td>\n",
       "      <td>7469.000</td>\n",
       "      <td>7469.000</td>\n",
       "      <td>7469.000</td>\n",
       "      <td>7469.000</td>\n",
       "      <td>7469.000</td>\n",
       "    </tr>\n",
       "    <tr>\n",
       "      <th>1459</th>\n",
       "      <td>2019/12/30</td>\n",
       "      <td>9349.000</td>\n",
       "      <td>324331.0</td>\n",
       "      <td>661326.0</td>\n",
       "      <td>418908.0</td>\n",
       "      <td>1.294859e+13</td>\n",
       "      <td>1.018722e+20</td>\n",
       "      <td>0.152</td>\n",
       "      <td>4.650041e+09</td>\n",
       "      <td>0.3620</td>\n",
       "      <td>...</td>\n",
       "      <td>7388.000</td>\n",
       "      <td>7388.000</td>\n",
       "      <td>7388.000</td>\n",
       "      <td>7388.000</td>\n",
       "      <td>7388.000</td>\n",
       "      <td>7388.000</td>\n",
       "      <td>7388.000</td>\n",
       "      <td>7388.000</td>\n",
       "      <td>7388.000</td>\n",
       "      <td>7388.000</td>\n",
       "    </tr>\n",
       "    <tr>\n",
       "      <th>1460</th>\n",
       "      <td>2019/12/31</td>\n",
       "      <td>9394.000</td>\n",
       "      <td>293302.0</td>\n",
       "      <td>687065.0</td>\n",
       "      <td>375764.0</td>\n",
       "      <td>1.294859e+13</td>\n",
       "      <td>9.877266e+19</td>\n",
       "      <td>0.135</td>\n",
       "      <td>3.430133e+09</td>\n",
       "      <td>0.3690</td>\n",
       "      <td>...</td>\n",
       "      <td>7293.000</td>\n",
       "      <td>7293.000</td>\n",
       "      <td>7293.000</td>\n",
       "      <td>7293.000</td>\n",
       "      <td>7293.000</td>\n",
       "      <td>7293.000</td>\n",
       "      <td>7293.000</td>\n",
       "      <td>7293.000</td>\n",
       "      <td>7293.000</td>\n",
       "      <td>7293.000</td>\n",
       "    </tr>\n",
       "  </tbody>\n",
       "</table>\n",
       "<p>1461 rows × 737 columns</p>\n",
       "</div>"
      ],
      "text/plain": [
       "            Date  priceUSD  transactions      size  sentbyaddress  \\\n",
       "0     2016/01/01   377.724      123957.0  493324.0       201778.0   \n",
       "1     2016/01/02   373.237      148893.0  579661.0       260130.0   \n",
       "2     2016/01/03   374.287      142463.0  554573.0       244440.0   \n",
       "3     2016/01/04   372.194      181173.0  556888.0       279282.0   \n",
       "4     2016/01/05   378.350      182214.0  641696.0       291077.0   \n",
       "...          ...       ...           ...       ...            ...   \n",
       "1456  2019/12/27  8466.000      322059.0  709273.0       415723.0   \n",
       "1457  2019/12/28  8744.000      298138.0  625161.0       376120.0   \n",
       "1458  2019/12/29  9049.000      279770.0  552879.0       344377.0   \n",
       "1459  2019/12/30  9349.000      324331.0  661326.0       418908.0   \n",
       "1460  2019/12/31  9394.000      293302.0  687065.0       375764.0   \n",
       "\n",
       "        difficulty      hashrate  mining_profitability  sentinusdUSD  \\\n",
       "0     1.038803e+11  7.143095e+17                 2.054  3.790767e+08   \n",
       "1     1.038803e+11  7.045287e+17                 2.248  3.160521e+08   \n",
       "2     1.038803e+11  7.770801e+17                 2.016  3.350245e+08   \n",
       "3     1.038803e+11  8.502728e+17                 2.314  4.035271e+08   \n",
       "4     1.038803e+11  8.448980e+17                 2.025  5.397410e+08   \n",
       "...            ...           ...                   ...           ...   \n",
       "1456  1.294859e+13  9.725392e+19                 0.137  3.906419e+09   \n",
       "1457  1.294859e+13  9.517417e+19                 0.145  3.214321e+09   \n",
       "1458  1.294859e+13  1.010148e+20                 0.144  2.491859e+09   \n",
       "1459  1.294859e+13  1.018722e+20                 0.152  4.650041e+09   \n",
       "1460  1.294859e+13  9.877266e+19                 0.135  3.430133e+09   \n",
       "\n",
       "      transactionfeesUSD  ...  price3rsiUSD  price7rsiUSD  price14rsiUSD  \\\n",
       "0                 0.0691  ...       432.258       432.258        432.258   \n",
       "1                 0.0913  ...       433.240       433.240        433.240   \n",
       "2                 0.0726  ...       429.271       429.271        429.271   \n",
       "3                 0.0733  ...       431.819       431.819        431.819   \n",
       "4                 0.0766  ...       432.241       432.241        432.241   \n",
       "...                  ...  ...           ...           ...            ...   \n",
       "1456              0.3860  ...      7263.000      7263.000       7263.000   \n",
       "1457              0.3410  ...      7361.000      7361.000       7361.000   \n",
       "1458              0.3370  ...      7469.000      7469.000       7469.000   \n",
       "1459              0.3620  ...      7388.000      7388.000       7388.000   \n",
       "1460              0.3690  ...      7293.000      7293.000       7293.000   \n",
       "\n",
       "      price30rsiUSD  price90rsiUSD  price3rocUSD  price7rocUSD  price14rocUSD  \\\n",
       "0           432.258        432.258       432.258       432.258        432.258   \n",
       "1           433.240        433.240       433.240       433.240        433.240   \n",
       "2           429.271        429.271       429.271       429.271        429.271   \n",
       "3           431.819        431.819       431.819       431.819        431.819   \n",
       "4           432.241        432.241       432.241       432.241        432.241   \n",
       "...             ...            ...           ...           ...            ...   \n",
       "1456       7263.000       7263.000      7263.000      7263.000       7263.000   \n",
       "1457       7361.000       7361.000      7361.000      7361.000       7361.000   \n",
       "1458       7469.000       7469.000      7469.000      7469.000       7469.000   \n",
       "1459       7388.000       7388.000      7388.000      7388.000       7388.000   \n",
       "1460       7293.000       7293.000      7293.000      7293.000       7293.000   \n",
       "\n",
       "      price30rocUSD  price90rocUSD  \n",
       "0           432.258        432.258  \n",
       "1           433.240        433.240  \n",
       "2           429.271        429.271  \n",
       "3           431.819        431.819  \n",
       "4           432.241        432.241  \n",
       "...             ...            ...  \n",
       "1456       7263.000       7263.000  \n",
       "1457       7361.000       7361.000  \n",
       "1458       7469.000       7469.000  \n",
       "1459       7388.000       7388.000  \n",
       "1460       7293.000       7293.000  \n",
       "\n",
       "[1461 rows x 737 columns]"
      ]
     },
     "execution_count": 10,
     "metadata": {},
     "output_type": "execute_result"
    }
   ],
   "source": [
    "df = df.iloc[:,2:]\n",
    "df"
   ]
  },
  {
   "cell_type": "code",
   "execution_count": 11,
   "metadata": {},
   "outputs": [],
   "source": [
    "X_raw=df.iloc[:,2:17]"
   ]
  },
  {
   "cell_type": "code",
   "execution_count": 12,
   "metadata": {},
   "outputs": [],
   "source": [
    "y=df.iloc[:,1:2]\n",
    "y=np.ravel(y)"
   ]
  },
  {
   "cell_type": "code",
   "execution_count": 13,
   "metadata": {},
   "outputs": [],
   "source": [
    "date = df['Date']"
   ]
  },
  {
   "cell_type": "code",
   "execution_count": 14,
   "metadata": {
    "scrolled": true
   },
   "outputs": [
    {
     "name": "stdout",
     "output_type": "stream",
     "text": [
      "3sma: price3smaUSD\n",
      "7sma: price7smaUSD\n",
      "14sma: price14smaUSD\n",
      "30sma: price30smaUSD\n",
      "90sma: price90smaUSD\n",
      "3ema: price3emaUSD\n",
      "7ema: price7emaUSD\n",
      "14ema: price14emaUSD\n",
      "30ema: price30emaUSD\n",
      "90ema: price90emaUSD\n",
      "3wma: price3wmaUSD\n",
      "7wma: price7wmaUSD\n",
      "14wma: price14wmaUSD\n",
      "30wma: price30wmaUSD\n",
      "90wma: price90wmaUSD\n",
      "3trx: price3trxUSD\n",
      "7trx: price7trxUSD\n",
      "14trx: price14trxUSD\n",
      "30trx: price30trxUSD\n",
      "90trx: price90trxUSD\n",
      "3mom: price3momUSD\n",
      "7mom: price7momUSD\n",
      "14mom: price14momUSD\n",
      "30mom: price30momUSD\n",
      "90mom: price90momUSD\n",
      "3std: price3stdUSD\n",
      "7std: price7stdUSD\n",
      "14std: price14stdUSD\n",
      "30std: price30stdUSD\n",
      "90std: price90stdUSD\n",
      "3var: price3varUSD\n",
      "7var: price7varUSD\n",
      "14var: price14varUSD\n",
      "30var: price30varUSD\n",
      "90var: price90varUSD\n",
      "3rsi: price3rsiUSD\n",
      "7rsi: price7rsiUSD\n",
      "14rsi: price14rsiUSD\n",
      "30rsi: price30rsiUSD\n",
      "90rsi: price90rsiUSD\n",
      "3roc: price3rocUSD\n",
      "7roc: price7rocUSD\n",
      "14roc: price14rocUSD\n",
      "30roc: price30rocUSD\n",
      "90roc: price90rocUSD\n"
     ]
    }
   ],
   "source": [
    "features_list=[]\n",
    "technical_indicators=['sma','ema','wma','trx','mom','std','var','rsi','roc']\n",
    "periods=['3','7','14','30','90']\n",
    "for i in technical_indicators:\n",
    "    for j in periods:\n",
    "        string=str(j)+str(i)\n",
    "        X=df.filter(like=string,axis=1)\n",
    "        X=SimpleImputer(missing_values=0,strategy='most_frequent').fit_transform(X)\n",
    "        X=pd.DataFrame(X)\n",
    "        X.columns=df.filter(like=string,axis=1).columns\n",
    "        rf1=RandomForestRegressor(random_state=7,n_jobs=-1)\n",
    "        rfecv=RFECV(rf1,step=0.9,min_features_to_select=20,verbose=1,cv=5,scoring='neg_mean_absolute_error', n_jobs=-1)\n",
    "        rfecv.fit(X,y)\n",
    "        if rfecv.n_features_>1:\n",
    "            rf1.fit(X,y)\n",
    "            maximp=rf1.feature_importances_.max()\n",
    "            for x in range(len(rf1.feature_importances_)):\n",
    "                if maximp==rf1.feature_importances_[x]:\n",
    "                    new_features = X.columns[x]\n",
    "        else:\n",
    "            mask = rfecv.get_support()\n",
    "            new_features = X.columns[mask]\n",
    "        features_list.append(str(new_features))\n",
    "        print(string+': '+new_features)\n",
    "# Audio(sound_file, autoplay=True)"
   ]
  },
  {
   "cell_type": "code",
   "execution_count": null,
   "metadata": {},
   "outputs": [],
   "source": []
  },
  {
   "cell_type": "code",
   "execution_count": 15,
   "metadata": {},
   "outputs": [],
   "source": [
    "l1=[]\n",
    "for j in range(len(features_list)):\n",
    "    result1 = re.search(\"'(.*)'],\", features_list[j])\n",
    "    if result1!=None:\n",
    "        l1.append(result1.group(1))\n",
    "for i in range(len(features_list)):\n",
    "    result2 = re.search('.*',features_list[i])\n",
    "    if len(result2.group(0))<33:\n",
    "        l1.append(result2.group(0))"
   ]
  },
  {
   "cell_type": "code",
   "execution_count": 16,
   "metadata": {},
   "outputs": [],
   "source": [
    "l1.sort()"
   ]
  },
  {
   "cell_type": "code",
   "execution_count": 17,
   "metadata": {
    "scrolled": false
   },
   "outputs": [
    {
     "data": {
      "text/plain": [
       "['price14emaUSD',\n",
       " 'price14momUSD',\n",
       " 'price14rocUSD',\n",
       " 'price14rsiUSD',\n",
       " 'price14smaUSD',\n",
       " 'price14stdUSD',\n",
       " 'price14trxUSD',\n",
       " 'price14varUSD',\n",
       " 'price14wmaUSD',\n",
       " 'price30emaUSD',\n",
       " 'price30momUSD',\n",
       " 'price30rocUSD',\n",
       " 'price30rsiUSD',\n",
       " 'price30smaUSD',\n",
       " 'price30stdUSD',\n",
       " 'price30trxUSD',\n",
       " 'price30varUSD',\n",
       " 'price30wmaUSD',\n",
       " 'price3emaUSD',\n",
       " 'price3momUSD',\n",
       " 'price3rocUSD',\n",
       " 'price3rsiUSD',\n",
       " 'price3smaUSD',\n",
       " 'price3stdUSD',\n",
       " 'price3trxUSD',\n",
       " 'price3varUSD',\n",
       " 'price3wmaUSD',\n",
       " 'price7emaUSD',\n",
       " 'price7momUSD',\n",
       " 'price7rocUSD',\n",
       " 'price7rsiUSD',\n",
       " 'price7smaUSD',\n",
       " 'price7stdUSD',\n",
       " 'price7trxUSD',\n",
       " 'price7varUSD',\n",
       " 'price7wmaUSD',\n",
       " 'price90emaUSD',\n",
       " 'price90momUSD',\n",
       " 'price90rocUSD',\n",
       " 'price90rsiUSD',\n",
       " 'price90smaUSD',\n",
       " 'price90stdUSD',\n",
       " 'price90trxUSD',\n",
       " 'price90varUSD',\n",
       " 'price90wmaUSD']"
      ]
     },
     "execution_count": 17,
     "metadata": {},
     "output_type": "execute_result"
    }
   ],
   "source": [
    "l1"
   ]
  },
  {
   "cell_type": "code",
   "execution_count": 18,
   "metadata": {},
   "outputs": [],
   "source": [
    "df_reduced=df[l1]"
   ]
  },
  {
   "cell_type": "code",
   "execution_count": 19,
   "metadata": {
    "scrolled": true
   },
   "outputs": [
    {
     "data": {
      "text/html": [
       "<div>\n",
       "<style scoped>\n",
       "    .dataframe tbody tr th:only-of-type {\n",
       "        vertical-align: middle;\n",
       "    }\n",
       "\n",
       "    .dataframe tbody tr th {\n",
       "        vertical-align: top;\n",
       "    }\n",
       "\n",
       "    .dataframe thead th {\n",
       "        text-align: right;\n",
       "    }\n",
       "</style>\n",
       "<table border=\"1\" class=\"dataframe\">\n",
       "  <thead>\n",
       "    <tr style=\"text-align: right;\">\n",
       "      <th></th>\n",
       "      <th>price14emaUSD</th>\n",
       "      <th>price14momUSD</th>\n",
       "      <th>price14rocUSD</th>\n",
       "      <th>price14rsiUSD</th>\n",
       "      <th>price14smaUSD</th>\n",
       "      <th>price14stdUSD</th>\n",
       "      <th>price14trxUSD</th>\n",
       "      <th>price14varUSD</th>\n",
       "      <th>price14wmaUSD</th>\n",
       "      <th>price30emaUSD</th>\n",
       "      <th>...</th>\n",
       "      <th>price7wmaUSD</th>\n",
       "      <th>price90emaUSD</th>\n",
       "      <th>price90momUSD</th>\n",
       "      <th>price90rocUSD</th>\n",
       "      <th>price90rsiUSD</th>\n",
       "      <th>price90smaUSD</th>\n",
       "      <th>price90stdUSD</th>\n",
       "      <th>price90trxUSD</th>\n",
       "      <th>price90varUSD</th>\n",
       "      <th>price90wmaUSD</th>\n",
       "    </tr>\n",
       "  </thead>\n",
       "  <tbody>\n",
       "    <tr>\n",
       "      <th>0</th>\n",
       "      <td>432.258</td>\n",
       "      <td>432.258</td>\n",
       "      <td>432.258</td>\n",
       "      <td>432.258</td>\n",
       "      <td>432.258</td>\n",
       "      <td>432.258</td>\n",
       "      <td>432.258</td>\n",
       "      <td>432.258</td>\n",
       "      <td>432.258</td>\n",
       "      <td>432.258</td>\n",
       "      <td>...</td>\n",
       "      <td>432.258</td>\n",
       "      <td>432.258</td>\n",
       "      <td>432.258</td>\n",
       "      <td>432.258</td>\n",
       "      <td>432.258</td>\n",
       "      <td>432.258</td>\n",
       "      <td>432.258</td>\n",
       "      <td>432.258</td>\n",
       "      <td>432.258</td>\n",
       "      <td>432.258</td>\n",
       "    </tr>\n",
       "    <tr>\n",
       "      <th>1</th>\n",
       "      <td>433.240</td>\n",
       "      <td>433.240</td>\n",
       "      <td>433.240</td>\n",
       "      <td>433.240</td>\n",
       "      <td>433.240</td>\n",
       "      <td>433.240</td>\n",
       "      <td>433.240</td>\n",
       "      <td>433.240</td>\n",
       "      <td>433.240</td>\n",
       "      <td>433.240</td>\n",
       "      <td>...</td>\n",
       "      <td>433.240</td>\n",
       "      <td>433.240</td>\n",
       "      <td>433.240</td>\n",
       "      <td>433.240</td>\n",
       "      <td>433.240</td>\n",
       "      <td>433.240</td>\n",
       "      <td>433.240</td>\n",
       "      <td>433.240</td>\n",
       "      <td>433.240</td>\n",
       "      <td>433.240</td>\n",
       "    </tr>\n",
       "    <tr>\n",
       "      <th>2</th>\n",
       "      <td>429.271</td>\n",
       "      <td>429.271</td>\n",
       "      <td>429.271</td>\n",
       "      <td>429.271</td>\n",
       "      <td>429.271</td>\n",
       "      <td>429.271</td>\n",
       "      <td>429.271</td>\n",
       "      <td>429.271</td>\n",
       "      <td>429.271</td>\n",
       "      <td>429.271</td>\n",
       "      <td>...</td>\n",
       "      <td>429.271</td>\n",
       "      <td>429.271</td>\n",
       "      <td>429.271</td>\n",
       "      <td>429.271</td>\n",
       "      <td>429.271</td>\n",
       "      <td>429.271</td>\n",
       "      <td>429.271</td>\n",
       "      <td>429.271</td>\n",
       "      <td>429.271</td>\n",
       "      <td>429.271</td>\n",
       "    </tr>\n",
       "    <tr>\n",
       "      <th>3</th>\n",
       "      <td>431.819</td>\n",
       "      <td>431.819</td>\n",
       "      <td>431.819</td>\n",
       "      <td>431.819</td>\n",
       "      <td>431.819</td>\n",
       "      <td>431.819</td>\n",
       "      <td>431.819</td>\n",
       "      <td>431.819</td>\n",
       "      <td>431.819</td>\n",
       "      <td>431.819</td>\n",
       "      <td>...</td>\n",
       "      <td>431.819</td>\n",
       "      <td>431.819</td>\n",
       "      <td>431.819</td>\n",
       "      <td>431.819</td>\n",
       "      <td>431.819</td>\n",
       "      <td>431.819</td>\n",
       "      <td>431.819</td>\n",
       "      <td>431.819</td>\n",
       "      <td>431.819</td>\n",
       "      <td>431.819</td>\n",
       "    </tr>\n",
       "    <tr>\n",
       "      <th>4</th>\n",
       "      <td>432.241</td>\n",
       "      <td>432.241</td>\n",
       "      <td>432.241</td>\n",
       "      <td>432.241</td>\n",
       "      <td>432.241</td>\n",
       "      <td>432.241</td>\n",
       "      <td>432.241</td>\n",
       "      <td>432.241</td>\n",
       "      <td>432.241</td>\n",
       "      <td>432.241</td>\n",
       "      <td>...</td>\n",
       "      <td>432.241</td>\n",
       "      <td>432.241</td>\n",
       "      <td>432.241</td>\n",
       "      <td>432.241</td>\n",
       "      <td>432.241</td>\n",
       "      <td>432.241</td>\n",
       "      <td>432.241</td>\n",
       "      <td>432.241</td>\n",
       "      <td>432.241</td>\n",
       "      <td>432.241</td>\n",
       "    </tr>\n",
       "  </tbody>\n",
       "</table>\n",
       "<p>5 rows × 45 columns</p>\n",
       "</div>"
      ],
      "text/plain": [
       "   price14emaUSD  price14momUSD  price14rocUSD  price14rsiUSD  price14smaUSD  \\\n",
       "0        432.258        432.258        432.258        432.258        432.258   \n",
       "1        433.240        433.240        433.240        433.240        433.240   \n",
       "2        429.271        429.271        429.271        429.271        429.271   \n",
       "3        431.819        431.819        431.819        431.819        431.819   \n",
       "4        432.241        432.241        432.241        432.241        432.241   \n",
       "\n",
       "   price14stdUSD  price14trxUSD  price14varUSD  price14wmaUSD  price30emaUSD  \\\n",
       "0        432.258        432.258        432.258        432.258        432.258   \n",
       "1        433.240        433.240        433.240        433.240        433.240   \n",
       "2        429.271        429.271        429.271        429.271        429.271   \n",
       "3        431.819        431.819        431.819        431.819        431.819   \n",
       "4        432.241        432.241        432.241        432.241        432.241   \n",
       "\n",
       "   ...  price7wmaUSD  price90emaUSD  price90momUSD  price90rocUSD  \\\n",
       "0  ...       432.258        432.258        432.258        432.258   \n",
       "1  ...       433.240        433.240        433.240        433.240   \n",
       "2  ...       429.271        429.271        429.271        429.271   \n",
       "3  ...       431.819        431.819        431.819        431.819   \n",
       "4  ...       432.241        432.241        432.241        432.241   \n",
       "\n",
       "   price90rsiUSD  price90smaUSD  price90stdUSD  price90trxUSD  price90varUSD  \\\n",
       "0        432.258        432.258        432.258        432.258        432.258   \n",
       "1        433.240        433.240        433.240        433.240        433.240   \n",
       "2        429.271        429.271        429.271        429.271        429.271   \n",
       "3        431.819        431.819        431.819        431.819        431.819   \n",
       "4        432.241        432.241        432.241        432.241        432.241   \n",
       "\n",
       "   price90wmaUSD  \n",
       "0        432.258  \n",
       "1        433.240  \n",
       "2        429.271  \n",
       "3        431.819  \n",
       "4        432.241  \n",
       "\n",
       "[5 rows x 45 columns]"
      ]
     },
     "execution_count": 19,
     "metadata": {},
     "output_type": "execute_result"
    }
   ],
   "source": [
    "df_reduced.head()"
   ]
  },
  {
   "cell_type": "code",
   "execution_count": 20,
   "metadata": {
    "scrolled": false
   },
   "outputs": [],
   "source": [
    "# X=cmns.drop_high_vif(df_reduced,thresh=5)"
   ]
  },
  {
   "cell_type": "code",
   "execution_count": 21,
   "metadata": {},
   "outputs": [
    {
     "data": {
      "text/plain": [
       "(1461, 16)"
      ]
     },
     "execution_count": 21,
     "metadata": {},
     "output_type": "execute_result"
    }
   ],
   "source": [
    "X.shape"
   ]
  },
  {
   "cell_type": "code",
   "execution_count": 22,
   "metadata": {
    "scrolled": false
   },
   "outputs": [
    {
     "data": {
      "text/plain": [
       "transactions90roc                  5.623920\n",
       "size90roc                          1.562378\n",
       "sentbyaddress90roc                 3.245842\n",
       "difficulty90roc                   70.249046\n",
       "hashrate90roc                     93.139985\n",
       "mining_profitability90roc          2.641284\n",
       "sentinusd90rocUSD                  1.699691\n",
       "transactionfees90rocUSD            2.276827\n",
       "median_transaction_fee90rocUSD     2.227767\n",
       "confirmationtime90roc              0.578567\n",
       "transactionvalue90rocUSD           1.743424\n",
       "mediantransactionvalue90rocUSD     2.306084\n",
       "activeaddresses90roc               3.111935\n",
       "top100cap90roc                     0.229909\n",
       "fee_to_reward90rocUSD              2.171882\n",
       "price90rocUSD                      6.414116\n",
       "dtype: float64"
      ]
     },
     "execution_count": 22,
     "metadata": {},
     "output_type": "execute_result"
    }
   ],
   "source": [
    "cmns.vif_values(X)"
   ]
  },
  {
   "cell_type": "code",
   "execution_count": 23,
   "metadata": {
    "scrolled": true
   },
   "outputs": [
    {
     "name": "stdout",
     "output_type": "stream",
     "text": [
      "dropping 'hashrate' at index: 4\n",
      "dropping 'transactionfeesUSD' at index: 6\n",
      "Remaining variables:\n",
      "Index(['transactions', 'size', 'sentbyaddress', 'difficulty',\n",
      "       'mining_profitability', 'sentinusdUSD', 'median_transaction_feeUSD',\n",
      "       'confirmationtime', 'transactionvalueUSD', 'mediantransactionvalueUSD',\n",
      "       'activeaddresses', 'top100cap', 'fee_to_rewardUSD'],\n",
      "      dtype='object')\n"
     ]
    }
   ],
   "source": [
    "Raw=cmns.drop_high_vif(X_raw,thresh=10)"
   ]
  },
  {
   "cell_type": "code",
   "execution_count": 24,
   "metadata": {
    "scrolled": true
   },
   "outputs": [
    {
     "data": {
      "text/plain": [
       "transactions                 7.311387\n",
       "size                         3.806699\n",
       "sentbyaddress                8.644937\n",
       "difficulty                   9.748140\n",
       "mining_profitability         4.134450\n",
       "sentinusdUSD                 3.910395\n",
       "median_transaction_feeUSD    9.367094\n",
       "confirmationtime             1.532086\n",
       "transactionvalueUSD          1.791431\n",
       "mediantransactionvalueUSD    5.677707\n",
       "activeaddresses              3.731714\n",
       "top100cap                    0.956696\n",
       "fee_to_rewardUSD             5.859367\n",
       "dtype: float64"
      ]
     },
     "execution_count": 24,
     "metadata": {},
     "output_type": "execute_result"
    }
   ],
   "source": [
    "#cmns.vif_values(X_raw)\n",
    "cmns.vif_values(Raw)"
   ]
  },
  {
   "cell_type": "code",
   "execution_count": 25,
   "metadata": {},
   "outputs": [
    {
     "name": "stderr",
     "output_type": "stream",
     "text": [
      "/tmp/ipykernel_490387/3240872751.py:1: SettingWithCopyWarning: \n",
      "A value is trying to be set on a copy of a slice from a DataFrame.\n",
      "Try using .loc[row_indexer,col_indexer] = value instead\n",
      "\n",
      "See the caveats in the documentation: https://pandas.pydata.org/pandas-docs/stable/user_guide/indexing.html#returning-a-view-versus-a-copy\n",
      "  Raw['Date']=df['Date']\n"
     ]
    }
   ],
   "source": [
    "Raw['Date']=df['Date']"
   ]
  },
  {
   "cell_type": "code",
   "execution_count": 26,
   "metadata": {},
   "outputs": [],
   "source": [
    "X['Date']=df['Date']"
   ]
  },
  {
   "cell_type": "code",
   "execution_count": 27,
   "metadata": {},
   "outputs": [],
   "source": [
    "df_merged=Raw.merge(X.drop_duplicates(subset='Date'),how='left')"
   ]
  },
  {
   "cell_type": "code",
   "execution_count": 28,
   "metadata": {},
   "outputs": [
    {
     "data": {
      "text/plain": [
       "(1461, 30)"
      ]
     },
     "execution_count": 28,
     "metadata": {},
     "output_type": "execute_result"
    }
   ],
   "source": [
    "df_merged.shape"
   ]
  },
  {
   "cell_type": "code",
   "execution_count": 29,
   "metadata": {},
   "outputs": [],
   "source": [
    "df_merged.drop(columns='Date',inplace=True)"
   ]
  },
  {
   "cell_type": "code",
   "execution_count": 30,
   "metadata": {},
   "outputs": [],
   "source": [
    "#df_merged['priceUSD']=np.ravel(y)"
   ]
  },
  {
   "cell_type": "code",
   "execution_count": 31,
   "metadata": {
    "scrolled": false
   },
   "outputs": [
    {
     "name": "stderr",
     "output_type": "stream",
     "text": [
      "/home/spectre/anaconda3/lib/python3.9/site-packages/statsmodels/stats/outliers_influence.py:195: RuntimeWarning: divide by zero encountered in double_scalars\n",
      "  vif = 1. / (1. - r_squared_i)\n"
     ]
    },
    {
     "name": "stdout",
     "output_type": "stream",
     "text": [
      "dropping 'difficulty' at index: 3\n",
      "dropping 'sentinusdUSD' at index: 4\n",
      "dropping 'size' at index: 1\n",
      "dropping 'activeaddresses90roc' at index: 22\n",
      "dropping 'hashrate90roc' at index: 14\n",
      "dropping 'transactions' at index: 0\n",
      "dropping 'sentbyaddress' at index: 0\n",
      "dropping 'transactionvalueUSD' at index: 3\n",
      "dropping 'mediantransactionvalue90rocUSD' at index: 17\n",
      "dropping 'median_transaction_feeUSD' at index: 1\n",
      "dropping 'mining_profitability' at index: 0\n",
      "dropping 'fee_to_rewardUSD' at index: 4\n",
      "dropping 'transactionfees90rocUSD' at index: 10\n",
      "dropping 'confirmationtime90roc' at index: 11\n",
      "dropping 'difficulty90roc' at index: 7\n",
      "dropping 'top100cap90roc' at index: 11\n",
      "dropping 'sentbyaddress90roc' at index: 6\n",
      "dropping 'size90roc' at index: 5\n",
      "dropping 'top100cap' at index: 3\n",
      "dropping 'activeaddresses' at index: 2\n",
      "dropping 'confirmationtime' at index: 0\n",
      "dropping 'price90rocUSD' at index: 7\n",
      "Remaining variables:\n",
      "Index(['mediantransactionvalueUSD', 'transactions90roc',\n",
      "       'mining_profitability90roc', 'sentinusd90rocUSD',\n",
      "       'median_transaction_fee90rocUSD', 'transactionvalue90rocUSD',\n",
      "       'fee_to_reward90rocUSD'],\n",
      "      dtype='object')\n"
     ]
    }
   ],
   "source": [
    "X=cmns.drop_high_vif(df_merged,thresh=10)"
   ]
  },
  {
   "cell_type": "code",
   "execution_count": 32,
   "metadata": {},
   "outputs": [
    {
     "data": {
      "text/plain": [
       "(1461, 7)"
      ]
     },
     "execution_count": 32,
     "metadata": {},
     "output_type": "execute_result"
    }
   ],
   "source": [
    "X.shape"
   ]
  },
  {
   "cell_type": "code",
   "execution_count": 33,
   "metadata": {},
   "outputs": [
    {
     "data": {
      "text/plain": [
       "mediantransactionvalueUSD         6.881410\n",
       "transactions90roc                 4.056590\n",
       "mining_profitability90roc         3.676327\n",
       "sentinusd90rocUSD                 5.383663\n",
       "median_transaction_fee90rocUSD    7.271170\n",
       "transactionvalue90rocUSD          2.753512\n",
       "fee_to_reward90rocUSD             4.875574\n",
       "dtype: float64"
      ]
     },
     "execution_count": 33,
     "metadata": {},
     "output_type": "execute_result"
    }
   ],
   "source": [
    "cmns.vif_values(X)"
   ]
  },
  {
   "cell_type": "code",
   "execution_count": 34,
   "metadata": {},
   "outputs": [],
   "source": [
    "if 'priceUSD' in X.columns:\n",
    "    X.drop(columns='priceUSD',inplace=True)"
   ]
  },
  {
   "cell_type": "code",
   "execution_count": 35,
   "metadata": {},
   "outputs": [],
   "source": [
    "rf_final=RandomForestRegressor(random_state=7,n_jobs=-1)"
   ]
  },
  {
   "cell_type": "code",
   "execution_count": 36,
   "metadata": {},
   "outputs": [
    {
     "data": {
      "text/html": [
       "<style>#sk-container-id-1 {color: black;background-color: white;}#sk-container-id-1 pre{padding: 0;}#sk-container-id-1 div.sk-toggleable {background-color: white;}#sk-container-id-1 label.sk-toggleable__label {cursor: pointer;display: block;width: 100%;margin-bottom: 0;padding: 0.3em;box-sizing: border-box;text-align: center;}#sk-container-id-1 label.sk-toggleable__label-arrow:before {content: \"▸\";float: left;margin-right: 0.25em;color: #696969;}#sk-container-id-1 label.sk-toggleable__label-arrow:hover:before {color: black;}#sk-container-id-1 div.sk-estimator:hover label.sk-toggleable__label-arrow:before {color: black;}#sk-container-id-1 div.sk-toggleable__content {max-height: 0;max-width: 0;overflow: hidden;text-align: left;background-color: #f0f8ff;}#sk-container-id-1 div.sk-toggleable__content pre {margin: 0.2em;color: black;border-radius: 0.25em;background-color: #f0f8ff;}#sk-container-id-1 input.sk-toggleable__control:checked~div.sk-toggleable__content {max-height: 200px;max-width: 100%;overflow: auto;}#sk-container-id-1 input.sk-toggleable__control:checked~label.sk-toggleable__label-arrow:before {content: \"▾\";}#sk-container-id-1 div.sk-estimator input.sk-toggleable__control:checked~label.sk-toggleable__label {background-color: #d4ebff;}#sk-container-id-1 div.sk-label input.sk-toggleable__control:checked~label.sk-toggleable__label {background-color: #d4ebff;}#sk-container-id-1 input.sk-hidden--visually {border: 0;clip: rect(1px 1px 1px 1px);clip: rect(1px, 1px, 1px, 1px);height: 1px;margin: -1px;overflow: hidden;padding: 0;position: absolute;width: 1px;}#sk-container-id-1 div.sk-estimator {font-family: monospace;background-color: #f0f8ff;border: 1px dotted black;border-radius: 0.25em;box-sizing: border-box;margin-bottom: 0.5em;}#sk-container-id-1 div.sk-estimator:hover {background-color: #d4ebff;}#sk-container-id-1 div.sk-parallel-item::after {content: \"\";width: 100%;border-bottom: 1px solid gray;flex-grow: 1;}#sk-container-id-1 div.sk-label:hover label.sk-toggleable__label {background-color: #d4ebff;}#sk-container-id-1 div.sk-serial::before {content: \"\";position: absolute;border-left: 1px solid gray;box-sizing: border-box;top: 0;bottom: 0;left: 50%;z-index: 0;}#sk-container-id-1 div.sk-serial {display: flex;flex-direction: column;align-items: center;background-color: white;padding-right: 0.2em;padding-left: 0.2em;position: relative;}#sk-container-id-1 div.sk-item {position: relative;z-index: 1;}#sk-container-id-1 div.sk-parallel {display: flex;align-items: stretch;justify-content: center;background-color: white;position: relative;}#sk-container-id-1 div.sk-item::before, #sk-container-id-1 div.sk-parallel-item::before {content: \"\";position: absolute;border-left: 1px solid gray;box-sizing: border-box;top: 0;bottom: 0;left: 50%;z-index: -1;}#sk-container-id-1 div.sk-parallel-item {display: flex;flex-direction: column;z-index: 1;position: relative;background-color: white;}#sk-container-id-1 div.sk-parallel-item:first-child::after {align-self: flex-end;width: 50%;}#sk-container-id-1 div.sk-parallel-item:last-child::after {align-self: flex-start;width: 50%;}#sk-container-id-1 div.sk-parallel-item:only-child::after {width: 0;}#sk-container-id-1 div.sk-dashed-wrapped {border: 1px dashed gray;margin: 0 0.4em 0.5em 0.4em;box-sizing: border-box;padding-bottom: 0.4em;background-color: white;}#sk-container-id-1 div.sk-label label {font-family: monospace;font-weight: bold;display: inline-block;line-height: 1.2em;}#sk-container-id-1 div.sk-label-container {text-align: center;}#sk-container-id-1 div.sk-container {/* jupyter's `normalize.less` sets `[hidden] { display: none; }` but bootstrap.min.css set `[hidden] { display: none !important; }` so we also need the `!important` here to be able to override the default hidden behavior on the sphinx rendered scikit-learn.org. See: https://github.com/scikit-learn/scikit-learn/issues/21755 */display: inline-block !important;position: relative;}#sk-container-id-1 div.sk-text-repr-fallback {display: none;}</style><div id=\"sk-container-id-1\" class=\"sk-top-container\"><div class=\"sk-text-repr-fallback\"><pre>RandomForestRegressor(n_jobs=-1, random_state=7)</pre><b>In a Jupyter environment, please rerun this cell to show the HTML representation or trust the notebook. <br />On GitHub, the HTML representation is unable to render, please try loading this page with nbviewer.org.</b></div><div class=\"sk-container\" hidden><div class=\"sk-item\"><div class=\"sk-estimator sk-toggleable\"><input class=\"sk-toggleable__control sk-hidden--visually\" id=\"sk-estimator-id-1\" type=\"checkbox\" checked><label for=\"sk-estimator-id-1\" class=\"sk-toggleable__label sk-toggleable__label-arrow\">RandomForestRegressor</label><div class=\"sk-toggleable__content\"><pre>RandomForestRegressor(n_jobs=-1, random_state=7)</pre></div></div></div></div></div>"
      ],
      "text/plain": [
       "RandomForestRegressor(n_jobs=-1, random_state=7)"
      ]
     },
     "execution_count": 36,
     "metadata": {},
     "output_type": "execute_result"
    }
   ],
   "source": [
    "rf_final.fit(X,y)"
   ]
  },
  {
   "cell_type": "code",
   "execution_count": 37,
   "metadata": {},
   "outputs": [],
   "source": [
    "imp_feat=cmns.feature_importance(X.columns,rf_final.feature_importances_)"
   ]
  },
  {
   "cell_type": "code",
   "execution_count": 38,
   "metadata": {},
   "outputs": [
    {
     "data": {
      "image/png": "[encoded data removed]",
      "text/plain": [
       "<Figure size 842.4x595.44 with 1 Axes>"
      ]
     },
     "metadata": {
      "needs_background": "light"
     },
     "output_type": "display_data"
    }
   ],
   "source": [
    "cmns.plot_feature_importance(imp_feat,'feature importance')"
   ]
  },
  {
   "cell_type": "code",
   "execution_count": 39,
   "metadata": {
    "scrolled": true
   },
   "outputs": [
    {
     "data": {
      "text/html": [
       "<div>\n",
       "<style scoped>\n",
       "    .dataframe tbody tr th:only-of-type {\n",
       "        vertical-align: middle;\n",
       "    }\n",
       "\n",
       "    .dataframe tbody tr th {\n",
       "        vertical-align: top;\n",
       "    }\n",
       "\n",
       "    .dataframe thead th {\n",
       "        text-align: right;\n",
       "    }\n",
       "</style>\n",
       "<table border=\"1\" class=\"dataframe\">\n",
       "  <thead>\n",
       "    <tr style=\"text-align: right;\">\n",
       "      <th></th>\n",
       "      <th>feature</th>\n",
       "      <th>feature_importance</th>\n",
       "    </tr>\n",
       "  </thead>\n",
       "  <tbody>\n",
       "    <tr>\n",
       "      <th>0</th>\n",
       "      <td>sentinusd90rocUSD</td>\n",
       "      <td>0.472316</td>\n",
       "    </tr>\n",
       "    <tr>\n",
       "      <th>1</th>\n",
       "      <td>transactionvalue90rocUSD</td>\n",
       "      <td>0.250791</td>\n",
       "    </tr>\n",
       "    <tr>\n",
       "      <th>2</th>\n",
       "      <td>mining_profitability90roc</td>\n",
       "      <td>0.108607</td>\n",
       "    </tr>\n",
       "    <tr>\n",
       "      <th>3</th>\n",
       "      <td>median_transaction_fee90rocUSD</td>\n",
       "      <td>0.068857</td>\n",
       "    </tr>\n",
       "    <tr>\n",
       "      <th>4</th>\n",
       "      <td>fee_to_reward90rocUSD</td>\n",
       "      <td>0.039209</td>\n",
       "    </tr>\n",
       "    <tr>\n",
       "      <th>5</th>\n",
       "      <td>mediantransactionvalueUSD</td>\n",
       "      <td>0.030615</td>\n",
       "    </tr>\n",
       "    <tr>\n",
       "      <th>6</th>\n",
       "      <td>transactions90roc</td>\n",
       "      <td>0.029605</td>\n",
       "    </tr>\n",
       "  </tbody>\n",
       "</table>\n",
       "</div>"
      ],
      "text/plain": [
       "                          feature  feature_importance\n",
       "0               sentinusd90rocUSD            0.472316\n",
       "1        transactionvalue90rocUSD            0.250791\n",
       "2       mining_profitability90roc            0.108607\n",
       "3  median_transaction_fee90rocUSD            0.068857\n",
       "4           fee_to_reward90rocUSD            0.039209\n",
       "5       mediantransactionvalueUSD            0.030615\n",
       "6               transactions90roc            0.029605"
      ]
     },
     "execution_count": 39,
     "metadata": {},
     "output_type": "execute_result"
    }
   ],
   "source": [
    "imp_feat[imp_feat['feature_importance']>0]\n"
   ]
  },
  {
   "cell_type": "code",
   "execution_count": 40,
   "metadata": {},
   "outputs": [],
   "source": [
    "selected=imp_feat[imp_feat['feature_importance']>0.001]"
   ]
  },
  {
   "cell_type": "code",
   "execution_count": 41,
   "metadata": {},
   "outputs": [
    {
     "data": {
      "text/html": [
       "<div>\n",
       "<style scoped>\n",
       "    .dataframe tbody tr th:only-of-type {\n",
       "        vertical-align: middle;\n",
       "    }\n",
       "\n",
       "    .dataframe tbody tr th {\n",
       "        vertical-align: top;\n",
       "    }\n",
       "\n",
       "    .dataframe thead th {\n",
       "        text-align: right;\n",
       "    }\n",
       "</style>\n",
       "<table border=\"1\" class=\"dataframe\">\n",
       "  <thead>\n",
       "    <tr style=\"text-align: right;\">\n",
       "      <th></th>\n",
       "      <th>feature</th>\n",
       "      <th>feature_importance</th>\n",
       "    </tr>\n",
       "  </thead>\n",
       "  <tbody>\n",
       "    <tr>\n",
       "      <th>0</th>\n",
       "      <td>sentinusd90rocUSD</td>\n",
       "      <td>0.472316</td>\n",
       "    </tr>\n",
       "    <tr>\n",
       "      <th>1</th>\n",
       "      <td>transactionvalue90rocUSD</td>\n",
       "      <td>0.250791</td>\n",
       "    </tr>\n",
       "    <tr>\n",
       "      <th>2</th>\n",
       "      <td>mining_profitability90roc</td>\n",
       "      <td>0.108607</td>\n",
       "    </tr>\n",
       "    <tr>\n",
       "      <th>3</th>\n",
       "      <td>median_transaction_fee90rocUSD</td>\n",
       "      <td>0.068857</td>\n",
       "    </tr>\n",
       "    <tr>\n",
       "      <th>4</th>\n",
       "      <td>fee_to_reward90rocUSD</td>\n",
       "      <td>0.039209</td>\n",
       "    </tr>\n",
       "    <tr>\n",
       "      <th>5</th>\n",
       "      <td>mediantransactionvalueUSD</td>\n",
       "      <td>0.030615</td>\n",
       "    </tr>\n",
       "    <tr>\n",
       "      <th>6</th>\n",
       "      <td>transactions90roc</td>\n",
       "      <td>0.029605</td>\n",
       "    </tr>\n",
       "  </tbody>\n",
       "</table>\n",
       "</div>"
      ],
      "text/plain": [
       "                          feature  feature_importance\n",
       "0               sentinusd90rocUSD            0.472316\n",
       "1        transactionvalue90rocUSD            0.250791\n",
       "2       mining_profitability90roc            0.108607\n",
       "3  median_transaction_fee90rocUSD            0.068857\n",
       "4           fee_to_reward90rocUSD            0.039209\n",
       "5       mediantransactionvalueUSD            0.030615\n",
       "6               transactions90roc            0.029605"
      ]
     },
     "execution_count": 41,
     "metadata": {},
     "output_type": "execute_result"
    }
   ],
   "source": [
    "selected"
   ]
  },
  {
   "cell_type": "code",
   "execution_count": 42,
   "metadata": {},
   "outputs": [
    {
     "data": {
      "text/plain": [
       "1.0"
      ]
     },
     "execution_count": 42,
     "metadata": {},
     "output_type": "execute_result"
    }
   ],
   "source": [
    "selected.feature_importance.sum()"
   ]
  },
  {
   "cell_type": "code",
   "execution_count": 43,
   "metadata": {},
   "outputs": [],
   "source": [
    "X_high=X[selected.feature]"
   ]
  },
  {
   "cell_type": "code",
   "execution_count": 44,
   "metadata": {},
   "outputs": [
    {
     "data": {
      "text/plain": [
       "(1461, 7)"
      ]
     },
     "execution_count": 44,
     "metadata": {},
     "output_type": "execute_result"
    }
   ],
   "source": [
    "X_high.shape"
   ]
  },
  {
   "cell_type": "code",
   "execution_count": 45,
   "metadata": {},
   "outputs": [],
   "source": [
    "X_high.sort_index(axis=1,inplace=True)"
   ]
  },
  {
   "cell_type": "code",
   "execution_count": 46,
   "metadata": {},
   "outputs": [],
   "source": [
    "X_high['priceUSD']=np.ravel(y)"
   ]
  },
  {
   "cell_type": "code",
   "execution_count": null,
   "metadata": {},
   "outputs": [],
   "source": []
  },
  {
   "cell_type": "code",
   "execution_count": 47,
   "metadata": {},
   "outputs": [
    {
     "name": "stderr",
     "output_type": "stream",
     "text": [
      "/tmp/ipykernel_490387/957662999.py:3: DeprecationWarning: `np.bool` is a deprecated alias for the builtin `bool`. To silence this warning, use `bool` by itself. Doing this will not modify any behavior and is safe. If you specifically wanted the numpy scalar type, use `np.bool_` here.\n",
      "Deprecated in NumPy 1.20; for more details and guidance: https://numpy.org/devdocs/release/1.20.0-notes.html#deprecations\n",
      "  mask = np.triu(np.ones_like(corr, dtype=np.bool))\n"
     ]
    },
    {
     "data": {
      "text/plain": [
       "<AxesSubplot:>"
      ]
     },
     "execution_count": 47,
     "metadata": {},
     "output_type": "execute_result"
    },
    {
     "data": {
      "image/png": "[encoded data removed]",
      "text/plain": [
       "<Figure size 1080x576 with 2 Axes>"
      ]
     },
     "metadata": {
      "needs_background": "light"
     },
     "output_type": "display_data"
    }
   ],
   "source": [
    "corr = X_high.corr()\n",
    "# Generate a mask for the upper triangle\n",
    "mask = np.triu(np.ones_like(corr, dtype=np.bool))\n",
    "\n",
    "# Set up the matplotlib figure\n",
    "f, ax = plt.subplots(figsize=(15, 8))\n",
    "\n",
    "sns.heatmap(corr,mask=mask, cmap='coolwarm',annot=True, fmt='.2f')"
   ]
  },
  {
   "cell_type": "code",
   "execution_count": 48,
   "metadata": {},
   "outputs": [],
   "source": [
    "X_high=X_high[X_high['priceUSD']!=1]"
   ]
  },
  {
   "cell_type": "code",
   "execution_count": 49,
   "metadata": {},
   "outputs": [],
   "source": [
    "from sklearn.ensemble import IsolationForest\n",
    "outlier=IsolationForest(contamination=0.3)\n",
    "price=X_high['priceUSD']\n",
    "price=price.values\n",
    "price=np.reshape(price,(-1,1))\n",
    "outlier.fit(price)\n",
    "outs=outlier.predict(price)\n",
    "X_high['outlier']=pd.DataFrame(zip(outs))\n",
    "X_high=X_high.query('outlier != -1')\n",
    "X_high.reset_index(drop=True,inplace=True)\n",
    "X_high.drop(columns=['outlier'],inplace=True)"
   ]
  },
  {
   "cell_type": "code",
   "execution_count": 50,
   "metadata": {},
   "outputs": [],
   "source": [
    "X_high.to_csv('etc_reg.csv',sep=',',index=False)"
   ]
  },
  {
   "cell_type": "code",
   "execution_count": 51,
   "metadata": {},
   "outputs": [
    {
     "data": {
      "text/plain": [
       "Index(['fee_to_reward90rocUSD', 'median_transaction_fee90rocUSD',\n",
       "       'mediantransactionvalueUSD', 'mining_profitability90roc',\n",
       "       'sentinusd90rocUSD', 'transactions90roc', 'transactionvalue90rocUSD',\n",
       "       'priceUSD'],\n",
       "      dtype='object')"
      ]
     },
     "execution_count": 51,
     "metadata": {},
     "output_type": "execute_result"
    }
   ],
   "source": [
    "X_high.columns"
   ]
  },
  {
   "cell_type": "code",
   "execution_count": null,
   "metadata": {},
   "outputs": [],
   "source": []
  }
 ],
 "metadata": {
  "kernelspec": {
   "display_name": "Python 3.9.12 ('base')",
   "language": "python",
   "name": "python3"
  },
  "language_info": {
   "codemirror_mode": {
    "name": "ipython",
    "version": 3
   },
   "file_extension": ".py",
   "mimetype": "text/x-python",
   "name": "python",
   "nbconvert_exporter": "python",
   "pygments_lexer": "ipython3",
   "version": "3.9.12"
  },
  "vscode": {
   "interpreter": {
    "hash": "0a952188e4bab49300a5758bda39ddc90e91f41f35dfe6ea820e496e515be371"
   }
  }
 },
 "nbformat": 4,
 "nbformat_minor": 2
}
